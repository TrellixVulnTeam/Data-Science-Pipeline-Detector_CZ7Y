{
 "cells": [
  {
   "cell_type": "code",
   "execution_count": 93,
   "metadata": {
    "collapsed": true
   },
   "outputs": [],
   "source": [
    "import numpy as np\n",
    "import pandas as pd\n",
    "import os"
   ]
  },
  {
   "cell_type": "code",
   "execution_count": 94,
   "outputs": [],
   "source": [
    "def read_csv(csv_file_path):\n",
    "    return pd.read_csv(csv_file_path)"
   ],
   "metadata": {
    "collapsed": false
   }
  },
  {
   "cell_type": "code",
   "execution_count": 95,
   "outputs": [],
   "source": [
    "base_path = os.sep.join(os.getcwd().split(os.sep)[:-1])\n",
    "\n",
    "pipeline_path = os.path.join( base_path, \"res\", \"pipeline.csv\")\n",
    "pipeline_data = read_csv(pipeline_path)\n",
    "\n",
    "ref_path = os.path.join( base_path, \"dataset\", \"combined-data.csv\")\n",
    "ref_data = read_csv(ref_path)\n"
   ],
   "metadata": {
    "collapsed": false
   }
  },
  {
   "cell_type": "code",
   "execution_count": 96,
   "outputs": [
    {
     "data": {
      "text/plain": "          ref                                competitionId pipeline_step  \\\n0           0  house-prices-advanced-regression-techniques   Preparation   \n1           0  house-prices-advanced-regression-techniques   Acquisition   \n2           0  house-prices-advanced-regression-techniques    Evaluation   \n3           0  house-prices-advanced-regression-techniques        Others   \n4           0  house-prices-advanced-regression-techniques   Preparation   \n...       ...                                          ...           ...   \n982394  14497           tabular-playground-series-apr-2021   Preparation   \n982395  14497           tabular-playground-series-apr-2021        Others   \n982396  14497           tabular-playground-series-apr-2021      Training   \n982397  14497           tabular-playground-series-apr-2021      Training   \n982398  14497           tabular-playground-series-apr-2021    Prediction   \n\n               keyword  cell_no  line_no  column_no              parameters  \n0       filterwarnings        1       10         23              ['ignore']  \n1             read_csv        2        2         22  ['../input/train.csv']  \n2             describe        4        2         30                      []  \n3             distplot        5        3         12                      []  \n4                 skew        6        2         49                      []  \n...                ...      ...      ...        ...                     ...  \n982394           log1p       15       10         20                      []  \n982395           range       18        3         42           [40, 120, 10]  \n982396             fit       19        1         64          ['train', 'y']  \n982397             fit       20        1         21          ['train', 'y']  \n982398         predict       20        2         39                ['test']  \n\n[982399 rows x 8 columns]",
      "text/html": "<div>\n<style scoped>\n    .dataframe tbody tr th:only-of-type {\n        vertical-align: middle;\n    }\n\n    .dataframe tbody tr th {\n        vertical-align: top;\n    }\n\n    .dataframe thead th {\n        text-align: right;\n    }\n</style>\n<table border=\"1\" class=\"dataframe\">\n  <thead>\n    <tr style=\"text-align: right;\">\n      <th></th>\n      <th>ref</th>\n      <th>competitionId</th>\n      <th>pipeline_step</th>\n      <th>keyword</th>\n      <th>cell_no</th>\n      <th>line_no</th>\n      <th>column_no</th>\n      <th>parameters</th>\n    </tr>\n  </thead>\n  <tbody>\n    <tr>\n      <th>0</th>\n      <td>0</td>\n      <td>house-prices-advanced-regression-techniques</td>\n      <td>Preparation</td>\n      <td>filterwarnings</td>\n      <td>1</td>\n      <td>10</td>\n      <td>23</td>\n      <td>['ignore']</td>\n    </tr>\n    <tr>\n      <th>1</th>\n      <td>0</td>\n      <td>house-prices-advanced-regression-techniques</td>\n      <td>Acquisition</td>\n      <td>read_csv</td>\n      <td>2</td>\n      <td>2</td>\n      <td>22</td>\n      <td>['../input/train.csv']</td>\n    </tr>\n    <tr>\n      <th>2</th>\n      <td>0</td>\n      <td>house-prices-advanced-regression-techniques</td>\n      <td>Evaluation</td>\n      <td>describe</td>\n      <td>4</td>\n      <td>2</td>\n      <td>30</td>\n      <td>[]</td>\n    </tr>\n    <tr>\n      <th>3</th>\n      <td>0</td>\n      <td>house-prices-advanced-regression-techniques</td>\n      <td>Others</td>\n      <td>distplot</td>\n      <td>5</td>\n      <td>3</td>\n      <td>12</td>\n      <td>[]</td>\n    </tr>\n    <tr>\n      <th>4</th>\n      <td>0</td>\n      <td>house-prices-advanced-regression-techniques</td>\n      <td>Preparation</td>\n      <td>skew</td>\n      <td>6</td>\n      <td>2</td>\n      <td>49</td>\n      <td>[]</td>\n    </tr>\n    <tr>\n      <th>...</th>\n      <td>...</td>\n      <td>...</td>\n      <td>...</td>\n      <td>...</td>\n      <td>...</td>\n      <td>...</td>\n      <td>...</td>\n      <td>...</td>\n    </tr>\n    <tr>\n      <th>982394</th>\n      <td>14497</td>\n      <td>tabular-playground-series-apr-2021</td>\n      <td>Preparation</td>\n      <td>log1p</td>\n      <td>15</td>\n      <td>10</td>\n      <td>20</td>\n      <td>[]</td>\n    </tr>\n    <tr>\n      <th>982395</th>\n      <td>14497</td>\n      <td>tabular-playground-series-apr-2021</td>\n      <td>Others</td>\n      <td>range</td>\n      <td>18</td>\n      <td>3</td>\n      <td>42</td>\n      <td>[40, 120, 10]</td>\n    </tr>\n    <tr>\n      <th>982396</th>\n      <td>14497</td>\n      <td>tabular-playground-series-apr-2021</td>\n      <td>Training</td>\n      <td>fit</td>\n      <td>19</td>\n      <td>1</td>\n      <td>64</td>\n      <td>['train', 'y']</td>\n    </tr>\n    <tr>\n      <th>982397</th>\n      <td>14497</td>\n      <td>tabular-playground-series-apr-2021</td>\n      <td>Training</td>\n      <td>fit</td>\n      <td>20</td>\n      <td>1</td>\n      <td>21</td>\n      <td>['train', 'y']</td>\n    </tr>\n    <tr>\n      <th>982398</th>\n      <td>14497</td>\n      <td>tabular-playground-series-apr-2021</td>\n      <td>Prediction</td>\n      <td>predict</td>\n      <td>20</td>\n      <td>2</td>\n      <td>39</td>\n      <td>['test']</td>\n    </tr>\n  </tbody>\n</table>\n<p>982399 rows × 8 columns</p>\n</div>"
     },
     "execution_count": 96,
     "metadata": {},
     "output_type": "execute_result"
    }
   ],
   "source": [
    "pipeline_data"
   ],
   "metadata": {
    "collapsed": false
   }
  },
  {
   "cell_type": "code",
   "execution_count": 97,
   "outputs": [
    {
     "data": {
      "text/plain": "                                                     ref  \\\n0      pmarcelino/comprehensive-data-exploration-with...   \n1              startupsci/titanic-data-science-solutions   \n2                           alexisbcook/titanic-tutorial   \n3       serigne/stacked-regressions-top-4-on-leaderboard   \n4      yassineghouzam/introduction-to-cnn-keras-0-997...   \n...                                                  ...   \n14493  moeinshariatnia/cnn-rnn-cnn-pretraining-w-regr...   \n14494  siukeitin/tps022022-known-data-generation-mode...   \n14495         harshitkmr/0-8398-ensembling-small-n-large   \n14496                       afajohn/data-loading-starter   \n14497       pavfedotov/tps-april-eda-logistic-regression   \n\n                                               title                author  \\\n0         Comprehensive data exploration with Python  Pedro Marcelino, PhD   \n1                     Titanic Data Science Solutions          Manav Sehgal   \n2                                   Titanic Tutorial           Alexis Cook   \n3        Stacked Regressions : Top 4% on LeaderBoard              Serigne    \n4         Introduction to CNN Keras - 0.997 (top 6%)       Yassine Ghouzam   \n...                                              ...                   ...   \n14493  [CNN+RNN]CNN pretraining w/ regression -TRAIN      Moein Shariatnia   \n14494  TPS022022 Known data generation model = Done?         broccoli beef   \n14495              0.8398 - Ensembling Small n Large         Harshit Kumar   \n14496                           Data Loading Starter       Dorukhan Afacan   \n14497              TPS April EDA Logistic Regression                 Dspyt   \n\n                    lastRunTime  totalVotes  \\\n0      2022-04-30T19:20:37.243Z       12087   \n1      2019-02-11T01:21:23.467Z        8861   \n2      2022-06-24T00:25:16.107Z        7323   \n3      2017-12-16T11:57:12.653Z        6561   \n4      2017-08-18T01:42:23.097Z        6315   \n...                         ...         ...   \n14493  2021-04-01T17:17:07.977Z          15   \n14494  2022-02-21T01:53:51.017Z          15   \n14495  2022-06-13T09:15:12.457Z          15   \n14496  2021-03-31T08:52:38.143Z          15   \n14497  2021-04-24T03:57:32.037Z          15   \n\n                                     competitionId  \n0      house-prices-advanced-regression-techniques  \n1                                          titanic  \n2                                          titanic  \n3      house-prices-advanced-regression-techniques  \n4                                 digit-recognizer  \n...                                            ...  \n14493                    bms-molecular-translation  \n14494           tabular-playground-series-feb-2022  \n14495          us-patent-phrase-to-phrase-matching  \n14496                    bms-molecular-translation  \n14497           tabular-playground-series-apr-2021  \n\n[14498 rows x 6 columns]",
      "text/html": "<div>\n<style scoped>\n    .dataframe tbody tr th:only-of-type {\n        vertical-align: middle;\n    }\n\n    .dataframe tbody tr th {\n        vertical-align: top;\n    }\n\n    .dataframe thead th {\n        text-align: right;\n    }\n</style>\n<table border=\"1\" class=\"dataframe\">\n  <thead>\n    <tr style=\"text-align: right;\">\n      <th></th>\n      <th>ref</th>\n      <th>title</th>\n      <th>author</th>\n      <th>lastRunTime</th>\n      <th>totalVotes</th>\n      <th>competitionId</th>\n    </tr>\n  </thead>\n  <tbody>\n    <tr>\n      <th>0</th>\n      <td>pmarcelino/comprehensive-data-exploration-with...</td>\n      <td>Comprehensive data exploration with Python</td>\n      <td>Pedro Marcelino, PhD</td>\n      <td>2022-04-30T19:20:37.243Z</td>\n      <td>12087</td>\n      <td>house-prices-advanced-regression-techniques</td>\n    </tr>\n    <tr>\n      <th>1</th>\n      <td>startupsci/titanic-data-science-solutions</td>\n      <td>Titanic Data Science Solutions</td>\n      <td>Manav Sehgal</td>\n      <td>2019-02-11T01:21:23.467Z</td>\n      <td>8861</td>\n      <td>titanic</td>\n    </tr>\n    <tr>\n      <th>2</th>\n      <td>alexisbcook/titanic-tutorial</td>\n      <td>Titanic Tutorial</td>\n      <td>Alexis Cook</td>\n      <td>2022-06-24T00:25:16.107Z</td>\n      <td>7323</td>\n      <td>titanic</td>\n    </tr>\n    <tr>\n      <th>3</th>\n      <td>serigne/stacked-regressions-top-4-on-leaderboard</td>\n      <td>Stacked Regressions : Top 4% on LeaderBoard</td>\n      <td>Serigne</td>\n      <td>2017-12-16T11:57:12.653Z</td>\n      <td>6561</td>\n      <td>house-prices-advanced-regression-techniques</td>\n    </tr>\n    <tr>\n      <th>4</th>\n      <td>yassineghouzam/introduction-to-cnn-keras-0-997...</td>\n      <td>Introduction to CNN Keras - 0.997 (top 6%)</td>\n      <td>Yassine Ghouzam</td>\n      <td>2017-08-18T01:42:23.097Z</td>\n      <td>6315</td>\n      <td>digit-recognizer</td>\n    </tr>\n    <tr>\n      <th>...</th>\n      <td>...</td>\n      <td>...</td>\n      <td>...</td>\n      <td>...</td>\n      <td>...</td>\n      <td>...</td>\n    </tr>\n    <tr>\n      <th>14493</th>\n      <td>moeinshariatnia/cnn-rnn-cnn-pretraining-w-regr...</td>\n      <td>[CNN+RNN]CNN pretraining w/ regression -TRAIN</td>\n      <td>Moein Shariatnia</td>\n      <td>2021-04-01T17:17:07.977Z</td>\n      <td>15</td>\n      <td>bms-molecular-translation</td>\n    </tr>\n    <tr>\n      <th>14494</th>\n      <td>siukeitin/tps022022-known-data-generation-mode...</td>\n      <td>TPS022022 Known data generation model = Done?</td>\n      <td>broccoli beef</td>\n      <td>2022-02-21T01:53:51.017Z</td>\n      <td>15</td>\n      <td>tabular-playground-series-feb-2022</td>\n    </tr>\n    <tr>\n      <th>14495</th>\n      <td>harshitkmr/0-8398-ensembling-small-n-large</td>\n      <td>0.8398 - Ensembling Small n Large</td>\n      <td>Harshit Kumar</td>\n      <td>2022-06-13T09:15:12.457Z</td>\n      <td>15</td>\n      <td>us-patent-phrase-to-phrase-matching</td>\n    </tr>\n    <tr>\n      <th>14496</th>\n      <td>afajohn/data-loading-starter</td>\n      <td>Data Loading Starter</td>\n      <td>Dorukhan Afacan</td>\n      <td>2021-03-31T08:52:38.143Z</td>\n      <td>15</td>\n      <td>bms-molecular-translation</td>\n    </tr>\n    <tr>\n      <th>14497</th>\n      <td>pavfedotov/tps-april-eda-logistic-regression</td>\n      <td>TPS April EDA Logistic Regression</td>\n      <td>Dspyt</td>\n      <td>2021-04-24T03:57:32.037Z</td>\n      <td>15</td>\n      <td>tabular-playground-series-apr-2021</td>\n    </tr>\n  </tbody>\n</table>\n<p>14498 rows × 6 columns</p>\n</div>"
     },
     "execution_count": 97,
     "metadata": {},
     "output_type": "execute_result"
    }
   ],
   "source": [
    "ref_data"
   ],
   "metadata": {
    "collapsed": false
   }
  },
  {
   "cell_type": "code",
   "execution_count": 98,
   "outputs": [
    {
     "data": {
      "text/plain": "          ref                                competitionId pipeline_step  \\\n0           0  house-prices-advanced-regression-techniques   Preparation   \n1           0  house-prices-advanced-regression-techniques   Acquisition   \n2           0  house-prices-advanced-regression-techniques    Evaluation   \n3           0  house-prices-advanced-regression-techniques        Others   \n4           0  house-prices-advanced-regression-techniques   Preparation   \n...       ...                                          ...           ...   \n959348  14117  house-prices-advanced-regression-techniques    Prediction   \n959349  14117  house-prices-advanced-regression-techniques    Prediction   \n959350  14117  house-prices-advanced-regression-techniques    Prediction   \n959351  14117  house-prices-advanced-regression-techniques    Prediction   \n959352  14117  house-prices-advanced-regression-techniques   Acquisition   \n\n               keyword  cell_no  line_no  column_no  \\\n0       filterwarnings        1       10         23   \n1             read_csv        2        2         22   \n2             describe        4        2         30   \n3             distplot        5        3         12   \n4                 skew        6        2         49   \n...                ...      ...      ...        ...   \n959348         predict       85        4         41   \n959349         predict       85        5         27   \n959350         predict       85        6         27   \n959351         predict       85        7         29   \n959352        read_csv       87        1         24   \n\n                                parameters  \n0                               ['ignore']  \n1                   ['../input/train.csv']  \n2                                       []  \n3                                       []  \n4                                       []  \n...                                    ...  \n959348                ['testing_features']  \n959349                ['testing_features']  \n959350                ['testing_features']  \n959351                ['testing_features']  \n959352  ['../input/sample_submission.csv']  \n\n[68311 rows x 8 columns]",
      "text/html": "<div>\n<style scoped>\n    .dataframe tbody tr th:only-of-type {\n        vertical-align: middle;\n    }\n\n    .dataframe tbody tr th {\n        vertical-align: top;\n    }\n\n    .dataframe thead th {\n        text-align: right;\n    }\n</style>\n<table border=\"1\" class=\"dataframe\">\n  <thead>\n    <tr style=\"text-align: right;\">\n      <th></th>\n      <th>ref</th>\n      <th>competitionId</th>\n      <th>pipeline_step</th>\n      <th>keyword</th>\n      <th>cell_no</th>\n      <th>line_no</th>\n      <th>column_no</th>\n      <th>parameters</th>\n    </tr>\n  </thead>\n  <tbody>\n    <tr>\n      <th>0</th>\n      <td>0</td>\n      <td>house-prices-advanced-regression-techniques</td>\n      <td>Preparation</td>\n      <td>filterwarnings</td>\n      <td>1</td>\n      <td>10</td>\n      <td>23</td>\n      <td>['ignore']</td>\n    </tr>\n    <tr>\n      <th>1</th>\n      <td>0</td>\n      <td>house-prices-advanced-regression-techniques</td>\n      <td>Acquisition</td>\n      <td>read_csv</td>\n      <td>2</td>\n      <td>2</td>\n      <td>22</td>\n      <td>['../input/train.csv']</td>\n    </tr>\n    <tr>\n      <th>2</th>\n      <td>0</td>\n      <td>house-prices-advanced-regression-techniques</td>\n      <td>Evaluation</td>\n      <td>describe</td>\n      <td>4</td>\n      <td>2</td>\n      <td>30</td>\n      <td>[]</td>\n    </tr>\n    <tr>\n      <th>3</th>\n      <td>0</td>\n      <td>house-prices-advanced-regression-techniques</td>\n      <td>Others</td>\n      <td>distplot</td>\n      <td>5</td>\n      <td>3</td>\n      <td>12</td>\n      <td>[]</td>\n    </tr>\n    <tr>\n      <th>4</th>\n      <td>0</td>\n      <td>house-prices-advanced-regression-techniques</td>\n      <td>Preparation</td>\n      <td>skew</td>\n      <td>6</td>\n      <td>2</td>\n      <td>49</td>\n      <td>[]</td>\n    </tr>\n    <tr>\n      <th>...</th>\n      <td>...</td>\n      <td>...</td>\n      <td>...</td>\n      <td>...</td>\n      <td>...</td>\n      <td>...</td>\n      <td>...</td>\n      <td>...</td>\n    </tr>\n    <tr>\n      <th>959348</th>\n      <td>14117</td>\n      <td>house-prices-advanced-regression-techniques</td>\n      <td>Prediction</td>\n      <td>predict</td>\n      <td>85</td>\n      <td>4</td>\n      <td>41</td>\n      <td>['testing_features']</td>\n    </tr>\n    <tr>\n      <th>959349</th>\n      <td>14117</td>\n      <td>house-prices-advanced-regression-techniques</td>\n      <td>Prediction</td>\n      <td>predict</td>\n      <td>85</td>\n      <td>5</td>\n      <td>27</td>\n      <td>['testing_features']</td>\n    </tr>\n    <tr>\n      <th>959350</th>\n      <td>14117</td>\n      <td>house-prices-advanced-regression-techniques</td>\n      <td>Prediction</td>\n      <td>predict</td>\n      <td>85</td>\n      <td>6</td>\n      <td>27</td>\n      <td>['testing_features']</td>\n    </tr>\n    <tr>\n      <th>959351</th>\n      <td>14117</td>\n      <td>house-prices-advanced-regression-techniques</td>\n      <td>Prediction</td>\n      <td>predict</td>\n      <td>85</td>\n      <td>7</td>\n      <td>29</td>\n      <td>['testing_features']</td>\n    </tr>\n    <tr>\n      <th>959352</th>\n      <td>14117</td>\n      <td>house-prices-advanced-regression-techniques</td>\n      <td>Acquisition</td>\n      <td>read_csv</td>\n      <td>87</td>\n      <td>1</td>\n      <td>24</td>\n      <td>['../input/sample_submission.csv']</td>\n    </tr>\n  </tbody>\n</table>\n<p>68311 rows × 8 columns</p>\n</div>"
     },
     "execution_count": 98,
     "metadata": {},
     "output_type": "execute_result"
    }
   ],
   "source": [
    "df_housing = pipeline_data.loc[ pipeline_data['competitionId'] == 'house-prices-advanced-regression-techniques']\n",
    "df_housing"
   ],
   "metadata": {
    "collapsed": false
   }
  },
  {
   "cell_type": "code",
   "execution_count": 101,
   "outputs": [
    {
     "data": {
      "text/plain": "        ref                                competitionId pipeline_step  \\\n0         0  house-prices-advanced-regression-techniques      Modeling   \n1         3  house-prices-advanced-regression-techniques      Modeling   \n2         3  house-prices-advanced-regression-techniques      Modeling   \n3         3  house-prices-advanced-regression-techniques      Modeling   \n4         3  house-prices-advanced-regression-techniques      Modeling   \n...     ...                                          ...           ...   \n2848  14094  house-prices-advanced-regression-techniques      Modeling   \n2849  14117  house-prices-advanced-regression-techniques      Modeling   \n2850  14117  house-prices-advanced-regression-techniques      Modeling   \n2851  14117  house-prices-advanced-regression-techniques      Modeling   \n2852  14117  house-prices-advanced-regression-techniques      Modeling   \n\n                        keyword  cell_no  line_no  column_no  \\\n0                StandardScaler       16        2         35   \n1                   KernelRidge       45        1         70   \n2     GradientBoostingRegressor       46        1         65   \n3                  XGBRegressor       47        1         28   \n4                 LGBMRegressor       48        1         29   \n...                         ...      ...      ...        ...   \n2848                        SVR       40        1         17   \n2849           LinearRegression       55        8         23   \n2850               XGBRegressor       76        1         77   \n2851                        SVR       77        2         17   \n2852              LGBMRegressor       78        3         80   \n\n                                             parameters  \n0                                                    []  \n1     [['alpha=0.6'], ['kernel=polynomial'], ['degre...  \n2     [['n_estimators=3000'], ['learning_rate=0.05']...  \n3     [['colsample_bytree=0.4603'], ['gamma=0.0468']...  \n4     [['objective=regression'], ['num_leaves=5'], [...  \n...                                                 ...  \n2848                                                 []  \n2849                                                 []  \n2850  [['learning_rate=0.01'], ['n_estimators=3460']...  \n2851                    [['C=100000'], ['gamma=1e-08']]  \n2852  [['objective=regression'], ['num_leaves=5'], [...  \n\n[2853 rows x 8 columns]",
      "text/html": "<div>\n<style scoped>\n    .dataframe tbody tr th:only-of-type {\n        vertical-align: middle;\n    }\n\n    .dataframe tbody tr th {\n        vertical-align: top;\n    }\n\n    .dataframe thead th {\n        text-align: right;\n    }\n</style>\n<table border=\"1\" class=\"dataframe\">\n  <thead>\n    <tr style=\"text-align: right;\">\n      <th></th>\n      <th>ref</th>\n      <th>competitionId</th>\n      <th>pipeline_step</th>\n      <th>keyword</th>\n      <th>cell_no</th>\n      <th>line_no</th>\n      <th>column_no</th>\n      <th>parameters</th>\n    </tr>\n  </thead>\n  <tbody>\n    <tr>\n      <th>0</th>\n      <td>0</td>\n      <td>house-prices-advanced-regression-techniques</td>\n      <td>Modeling</td>\n      <td>StandardScaler</td>\n      <td>16</td>\n      <td>2</td>\n      <td>35</td>\n      <td>[]</td>\n    </tr>\n    <tr>\n      <th>1</th>\n      <td>3</td>\n      <td>house-prices-advanced-regression-techniques</td>\n      <td>Modeling</td>\n      <td>KernelRidge</td>\n      <td>45</td>\n      <td>1</td>\n      <td>70</td>\n      <td>[['alpha=0.6'], ['kernel=polynomial'], ['degre...</td>\n    </tr>\n    <tr>\n      <th>2</th>\n      <td>3</td>\n      <td>house-prices-advanced-regression-techniques</td>\n      <td>Modeling</td>\n      <td>GradientBoostingRegressor</td>\n      <td>46</td>\n      <td>1</td>\n      <td>65</td>\n      <td>[['n_estimators=3000'], ['learning_rate=0.05']...</td>\n    </tr>\n    <tr>\n      <th>3</th>\n      <td>3</td>\n      <td>house-prices-advanced-regression-techniques</td>\n      <td>Modeling</td>\n      <td>XGBRegressor</td>\n      <td>47</td>\n      <td>1</td>\n      <td>28</td>\n      <td>[['colsample_bytree=0.4603'], ['gamma=0.0468']...</td>\n    </tr>\n    <tr>\n      <th>4</th>\n      <td>3</td>\n      <td>house-prices-advanced-regression-techniques</td>\n      <td>Modeling</td>\n      <td>LGBMRegressor</td>\n      <td>48</td>\n      <td>1</td>\n      <td>29</td>\n      <td>[['objective=regression'], ['num_leaves=5'], [...</td>\n    </tr>\n    <tr>\n      <th>...</th>\n      <td>...</td>\n      <td>...</td>\n      <td>...</td>\n      <td>...</td>\n      <td>...</td>\n      <td>...</td>\n      <td>...</td>\n      <td>...</td>\n    </tr>\n    <tr>\n      <th>2848</th>\n      <td>14094</td>\n      <td>house-prices-advanced-regression-techniques</td>\n      <td>Modeling</td>\n      <td>SVR</td>\n      <td>40</td>\n      <td>1</td>\n      <td>17</td>\n      <td>[]</td>\n    </tr>\n    <tr>\n      <th>2849</th>\n      <td>14117</td>\n      <td>house-prices-advanced-regression-techniques</td>\n      <td>Modeling</td>\n      <td>LinearRegression</td>\n      <td>55</td>\n      <td>8</td>\n      <td>23</td>\n      <td>[]</td>\n    </tr>\n    <tr>\n      <th>2850</th>\n      <td>14117</td>\n      <td>house-prices-advanced-regression-techniques</td>\n      <td>Modeling</td>\n      <td>XGBRegressor</td>\n      <td>76</td>\n      <td>1</td>\n      <td>77</td>\n      <td>[['learning_rate=0.01'], ['n_estimators=3460']...</td>\n    </tr>\n    <tr>\n      <th>2851</th>\n      <td>14117</td>\n      <td>house-prices-advanced-regression-techniques</td>\n      <td>Modeling</td>\n      <td>SVR</td>\n      <td>77</td>\n      <td>2</td>\n      <td>17</td>\n      <td>[['C=100000'], ['gamma=1e-08']]</td>\n    </tr>\n    <tr>\n      <th>2852</th>\n      <td>14117</td>\n      <td>house-prices-advanced-regression-techniques</td>\n      <td>Modeling</td>\n      <td>LGBMRegressor</td>\n      <td>78</td>\n      <td>3</td>\n      <td>80</td>\n      <td>[['objective=regression'], ['num_leaves=5'], [...</td>\n    </tr>\n  </tbody>\n</table>\n<p>2853 rows × 8 columns</p>\n</div>"
     },
     "execution_count": 101,
     "metadata": {},
     "output_type": "execute_result"
    }
   ],
   "source": [
    "df_housing_training = df_housing.loc[ df_housing['pipeline_step'] == 'Modeling']\n",
    "df_housing_training.reset_index(drop=True, inplace=True)\n",
    "df_housing_training"
   ],
   "metadata": {
    "collapsed": false
   }
  },
  {
   "cell_type": "code",
   "execution_count": 163,
   "outputs": [],
   "source": [
    "unique_keywords = df_housing_training[\"keyword\"].unique()\n",
    "unique_files = list(df_housing_training[\"ref\"].unique())\n"
   ],
   "metadata": {
    "collapsed": false
   }
  },
  {
   "cell_type": "code",
   "execution_count": 166,
   "outputs": [],
   "source": [
    "\n",
    "vote_index = dict()\n",
    "for keyword in unique_keywords:\n",
    "    vote_index[keyword] = list()\n",
    "\n",
    "for idx, row in df_housing_training.iterrows():\n",
    "    ref = row[\"ref\"]\n",
    "    pipeline = row[\"keyword\"]\n",
    "    vote_index[pipeline].append(ref_data.iloc[ref][\"totalVotes\"])"
   ],
   "metadata": {
    "collapsed": false
   }
  },
  {
   "cell_type": "code",
   "execution_count": 176,
   "outputs": [
    {
     "ename": "NameError",
     "evalue": "name 'pprint' is not defined",
     "output_type": "error",
     "traceback": [
      "\u001B[0;31m---------------------------------------------------------------------------\u001B[0m",
      "\u001B[0;31mNameError\u001B[0m                                 Traceback (most recent call last)",
      "Cell \u001B[0;32mIn [176], line 6\u001B[0m\n\u001B[1;32m      3\u001B[0m     top_rank\u001B[38;5;241m.\u001B[39mappend([ key,  \u001B[38;5;28msum\u001B[39m(vote_index[key])  ])\n\u001B[1;32m      5\u001B[0m top_rank \u001B[38;5;241m=\u001B[39m \u001B[38;5;28msorted\u001B[39m( top_rank, key\u001B[38;5;241m=\u001B[39m\u001B[38;5;28;01mlambda\u001B[39;00m x: x[\u001B[38;5;241m1\u001B[39m], reverse\u001B[38;5;241m=\u001B[39m\u001B[38;5;28;01mTrue\u001B[39;00m)\n\u001B[0;32m----> 6\u001B[0m \u001B[43mpprint\u001B[49m(top_rank[:\u001B[38;5;241m10\u001B[39m])\n",
      "\u001B[0;31mNameError\u001B[0m: name 'pprint' is not defined"
     ]
    }
   ],
   "source": [
    "top_rank = list()\n",
    "for key in vote_index.keys():\n",
    "    top_rank.append([ key,  sum(vote_index[key])  ])\n",
    "\n",
    "top_rank = sorted( top_rank, key=lambda x: x[1], reverse=True)"
   ],
   "metadata": {
    "collapsed": false
   }
  },
  {
   "cell_type": "code",
   "execution_count": 177,
   "outputs": [
    {
     "name": "stdout",
     "output_type": "stream",
     "text": [
      "[['XGBRegressor', 30361],\n",
      " ['StandardScaler', 26351],\n",
      " ['GradientBoostingRegressor', 17707],\n",
      " ['LGBMRegressor', 15993],\n",
      " ['LinearRegression', 15164],\n",
      " ['Ridge', 12627],\n",
      " ['KernelRidge', 10317],\n",
      " ['Dense', 9943],\n",
      " ['ElasticNet', 6668],\n",
      " ['SVR', 6302]]\n"
     ]
    }
   ],
   "source": [
    "from pprint import pprint\n",
    "pprint(top_rank[:10])"
   ],
   "metadata": {
    "collapsed": false
   }
  },
  {
   "cell_type": "code",
   "execution_count": null,
   "outputs": [],
   "source": [],
   "metadata": {
    "collapsed": false
   }
  }
 ],
 "metadata": {
  "kernelspec": {
   "display_name": "Python 3",
   "language": "python",
   "name": "python3"
  },
  "language_info": {
   "codemirror_mode": {
    "name": "ipython",
    "version": 2
   },
   "file_extension": ".py",
   "mimetype": "text/x-python",
   "name": "python",
   "nbconvert_exporter": "python",
   "pygments_lexer": "ipython2",
   "version": "2.7.6"
  }
 },
 "nbformat": 4,
 "nbformat_minor": 0
}
