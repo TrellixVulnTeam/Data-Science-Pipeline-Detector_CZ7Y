{
 "cells": [
  {
   "cell_type": "code",
   "execution_count": null,
   "metadata": {
    "collapsed": true
   },
   "outputs": [],
   "source": [
    "import numpy as np\n",
    "import pandas as pd\n",
    "import os\n"
   ]
  },
  {
   "cell_type": "code",
   "execution_count": null,
   "outputs": [],
   "source": [
    "def read_csv(csv_file_path):\n",
    "    return pd.read_csv(csv_file_path)"
   ],
   "metadata": {
    "collapsed": false
   }
  },
  {
   "cell_type": "code",
   "execution_count": null,
   "outputs": [],
   "source": [
    "base_path = os.sep.join(os.getcwd().split(os.sep)[:-1])\n",
    "\n",
    "pipeline_path = os.path.join( base_path, \"res\", \"pipeline.csv\")\n",
    "pipeline_data = read_csv(pipeline_path)\n",
    "\n",
    "ref_path = os.path.join( base_path, \"dataset\", \"combined-data.csv\")\n",
    "ref_data = read_csv(ref_path)\n"
   ],
   "metadata": {
    "collapsed": false
   }
  },
  {
   "cell_type": "code",
   "execution_count": null,
   "outputs": [],
   "source": [
    "pipeline_data"
   ],
   "metadata": {
    "collapsed": false
   }
  },
  {
   "cell_type": "code",
   "execution_count": null,
   "outputs": [],
   "source": [
    "ref_data"
   ],
   "metadata": {
    "collapsed": false
   }
  },
  {
   "cell_type": "code",
   "execution_count": null,
   "outputs": [],
   "source": [
    "df_housing = pipeline_data.loc[ pipeline_data['competitionId'] == 'house-prices-advanced-regression-techniques']\n",
    "df_housing"
   ],
   "metadata": {
    "collapsed": false
   }
  },
  {
   "cell_type": "code",
   "execution_count": null,
   "outputs": [],
   "source": [
    "df_housing_training = df_housing.loc[ df_housing['pipeline_step'] == 'Modeling']\n",
    "df_housing_training.reset_index(drop=True, inplace=True)\n",
    "df_housing_training"
   ],
   "metadata": {
    "collapsed": false
   }
  },
  {
   "cell_type": "code",
   "execution_count": null,
   "outputs": [],
   "source": [
    "unique_keywords = df_housing_training[\"keyword\"].unique()\n",
    "unique_files = list(df_housing_training[\"ref\"].unique())\n"
   ],
   "metadata": {
    "collapsed": false
   }
  },
  {
   "cell_type": "code",
   "execution_count": null,
   "outputs": [],
   "source": [
    "\n",
    "vote_index = dict()\n",
    "for keyword in unique_keywords:\n",
    "    vote_index[keyword] = list()\n",
    "\n",
    "for idx, row in df_housing_training.iterrows():\n",
    "    ref = row[\"ref\"]\n",
    "    pipeline = row[\"keyword\"]\n",
    "    vote_index[pipeline].append(ref_data.iloc[ref][\"totalVotes\"])"
   ],
   "metadata": {
    "collapsed": false
   }
  },
  {
   "cell_type": "code",
   "execution_count": null,
   "outputs": [],
   "source": [
    "top_rank = list()\n",
    "for key in vote_index.keys():\n",
    "    top_rank.append([ key,  sum(vote_index[key])  ])\n",
    "\n",
    "top_rank = sorted( top_rank, key=lambda x: x[1], reverse=True)"
   ],
   "metadata": {
    "collapsed": false
   }
  },
  {
   "cell_type": "code",
   "execution_count": null,
   "outputs": [],
   "source": [
    "from pprint import pprint\n",
    "pprint(top_rank[:10])"
   ],
   "metadata": {
    "collapsed": false
   }
  },
  {
   "cell_type": "code",
   "execution_count": null,
   "outputs": [],
   "source": [],
   "metadata": {
    "collapsed": false
   }
  }
 ],
 "metadata": {
  "kernelspec": {
   "display_name": "Python 3",
   "language": "python",
   "name": "python3"
  },
  "language_info": {
   "codemirror_mode": {
    "name": "ipython",
    "version": 2
   },
   "file_extension": ".py",
   "mimetype": "text/x-python",
   "name": "python",
   "nbconvert_exporter": "python",
   "pygments_lexer": "ipython2",
   "version": "2.7.6"
  }
 },
 "nbformat": 4,
 "nbformat_minor": 0
}
