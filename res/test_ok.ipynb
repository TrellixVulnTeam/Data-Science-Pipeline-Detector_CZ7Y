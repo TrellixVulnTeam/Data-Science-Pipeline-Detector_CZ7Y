{
 "cells": [
  {
   "cell_type": "code",
   "execution_count": null,
   "metadata": {
    "collapsed": true,
    "pycharm": {
     "name": "#%%\n"
    }
   },
   "outputs": [],
   "source": [
    "# define model\n",
    "model = Sequential()\n",
    "n_steps = 10\n",
    "n_features = 15\n",
    "model.add(LSTM(50, activation='relu', input_shape=(n_steps, n_features)))\n",
    "model.add(Dense(1))\n",
    "model.compile(optimizer='adam', loss='mse')\n",
    "kr1 = KernelRidge(alpha=0.1, kernel='polynomial', degree=7, coef0=2.5)\n",
    "kr1.fit(x_train1,y_train1)\n",
    "kr1.fit(x_train1,x_train1, y_train1=5 )\n",
    "kr1.fit(5,y_train1=5)\n",
    "kr1.fit(5,5)\n",
    "kr1.fit(x_train1,y_train1)\n",
    "\n",
    "kr1.fit(x_train1,y_train1)\n",
    "y_pred1 = kr1.predict(x_val1)\n",
    "kr1 = KernelRidge(alpha=0.1, kernel='polynomial', degree=7, coef0=2.5)\n",
    "x_train1,x_val1,y_train1,y_val1 = train_test_split(X_can,y_ca,random_state=42,test_size=0.2)"
   ]
  }
 ],
 "metadata": {
  "kernelspec": {
   "display_name": "Python 3",
   "language": "python",
   "name": "python3"
  },
  "language_info": {
   "codemirror_mode": {
    "name": "ipython",
    "version": 2
   },
   "file_extension": ".py",
   "mimetype": "text/x-python",
   "name": "python",
   "nbconvert_exporter": "python",
   "pygments_lexer": "ipython2",
   "version": "2.7.6"
  }
 },
 "nbformat": 4,
 "nbformat_minor": 0
}