{
 "metadata": {
  "kernelspec": {
   "language": "python",
   "display_name": "Python 3",
   "name": "python3"
  },
  "language_info": {
   "pygments_lexer": "ipython3",
   "nbconvert_exporter": "python",
   "version": "3.6.4",
   "file_extension": ".py",
   "codemirror_mode": {
    "name": "ipython",
    "version": 3
   },
   "name": "python",
   "mimetype": "text/x-python"
  }
 },
 "nbformat_minor": 4,
 "nbformat": 4,
 "cells": [
  {
   "cell_type": "markdown",
   "source": "<div class=\"alert alert-block alert-info\">  \n    <h3><strong>👨‍💻 Getting Started with LearnPlatform COVID-19 Impact on Digital Learning\nUse digital learning data to analyze the impact of COVID-19 on student lea</strong></h3>\n    <i></i>\n</div>",
   "metadata": {}
  },
  {
   "cell_type": "markdown",
   "source": "# <center><img src=\"https://akm-img-a-in.tosshub.com/businesstoday/images/story/201712/data-analytics_660_120717022837.jpg\"></center>",
   "metadata": {}
  },
  {
   "cell_type": "markdown",
   "source": "<div class=\"alert alert-block alert-success\">  \n \n<hr>\n<b>Source of Data: </b> \n<hr> \n <a href=\"https://www.kaggle.com/c/learnplatform-covid19-impact-on-digital-learning/datahttps://www.kaggle.com/c/learnplatform-covid19-impact-on-digital-learning/data\">https://www.kaggle.com/c/learnplatform-covid19-impact-on-digital-learning/data</a>\n   \n</div>",
   "metadata": {
    "papermill": {
     "duration": 0.020638,
     "end_time": "2020-12-02T21:20:36.560772",
     "exception": false,
     "start_time": "2020-12-02T21:20:36.540134",
     "status": "completed"
    },
    "tags": []
   }
  },
  {
   "cell_type": "markdown",
   "source": "<div class=\"alert alert-block alert-info\">  \n \n<hr>\n<b>Data Description: </b> \n<hr> \n    <p>We include three basic sets of files to help you get started. The engagement data are based on LearnPlatform’s Student Chrome Extension. The extension collects page load events of over 10K education technology products in our product library, including websites, apps, web apps, software programs, extensions, ebooks, hardwares, and services used in educational institutions. The engagement data have been aggregated at school district level, and each file represents data from one school district. The product file includes information about the characteristics of the top 372 products with most users in 2020. The district file includes information about the characteristics of school districts, including data from National Center for Education Statistics (NCES), The Federal Communications Commission (FCC), and Edunomics Lab.</p>\n <a href=\"https://www.kaggle.com/c/learnplatform-covid19-impact-on-digital-learning/data\">https://www.kaggle.com/c/learnplatform-covid19-impact-on-digital-learning/data</a>\n   \n</div>",
   "metadata": {}
  },
  {
   "cell_type": "markdown",
   "source": "<div class=\"alert alert-block alert-danger\">  \n<h2><center><strong>Importing Python Libraries 📕 📗 📘 📙</strong></center></h2>\n        \n</div>",
   "metadata": {
    "papermill": {
     "duration": 0.065466,
     "end_time": "2020-11-30T07:38:51.578836",
     "exception": false,
     "start_time": "2020-11-30T07:38:51.51337",
     "status": "completed"
    },
    "tags": []
   }
  },
  {
   "cell_type": "markdown",
   "source": "- Libraries are important and we call them to perform the different actions on our data and for training the models.\n- Its a first step to load the library to perform the specific task",
   "metadata": {}
  },
  {
   "cell_type": "code",
   "source": "import pandas as pd\nimport numpy as np  \nimport seaborn as sns \npal = sns.color_palette()\nfrom wordcloud import WordCloud\nimport plotly.express as px\nimport matplotlib.pyplot as plt\n%matplotlib inline\nfrom sklearn import preprocessing\nimport glob\nimport plotly.offline as py\nimport plotly.graph_objs as go\nimport plotly.tools as tls\nfrom keras.models import Sequential\nfrom tensorflow.keras.layers import Activation, Dense, Dropout",
   "metadata": {
    "id": "-E4TvIVLMa73",
    "scrolled": true,
    "execution": {
     "iopub.status.busy": "2021-08-02T22:05:01.792658Z",
     "iopub.execute_input": "2021-08-02T22:05:01.793408Z",
     "iopub.status.idle": "2021-08-02T22:05:05.188735Z",
     "shell.execute_reply.started": "2021-08-02T22:05:01.793297Z",
     "shell.execute_reply": "2021-08-02T22:05:05.1879Z"
    },
    "trusted": true
   },
   "execution_count": null,
   "outputs": []
  },
  {
   "cell_type": "markdown",
   "source": "<h4>How we can install the libraries in python?</h4>",
   "metadata": {}
  },
  {
   "cell_type": "markdown",
   "source": "<h4>To install the python library is very easy</h4>\n- pip install name_of_library \n<h5> Like if you wanted to install tensorflow? </h5>\n- pip install tensforflow",
   "metadata": {}
  },
  {
   "cell_type": "markdown",
   "source": "<div class=\"alert alert-block alert-danger\">  \n<h2><center><strong>Loading the data 📁 📂</strong></center></h2>\n        \n</div>",
   "metadata": {
    "papermill": {
     "duration": 0.065466,
     "end_time": "2020-11-30T07:38:51.578836",
     "exception": false,
     "start_time": "2020-11-30T07:38:51.51337",
     "status": "completed"
    },
    "tags": []
   }
  },
  {
   "cell_type": "code",
   "source": "districts_data=pd.read_csv(\"../input/learnplatform-covid19-impact-on-digital-learning/districts_info.csv\")",
   "metadata": {
    "execution": {
     "iopub.status.busy": "2021-08-02T22:05:07.497469Z",
     "iopub.execute_input": "2021-08-02T22:05:07.498066Z",
     "iopub.status.idle": "2021-08-02T22:05:07.510311Z",
     "shell.execute_reply.started": "2021-08-02T22:05:07.498031Z",
     "shell.execute_reply": "2021-08-02T22:05:07.509154Z"
    },
    "trusted": true
   },
   "execution_count": null,
   "outputs": []
  },
  {
   "cell_type": "markdown",
   "source": "<div class=\"alert alert-block alert-danger\">  \n<h2><center><strong>Exploratory data analysis 🔎 📊</strong></center></h2>\n        \n</div>",
   "metadata": {
    "papermill": {
     "duration": 0.065466,
     "end_time": "2020-11-30T07:38:51.578836",
     "exception": false,
     "start_time": "2020-11-30T07:38:51.51337",
     "status": "completed"
    },
    "tags": []
   }
  },
  {
   "cell_type": "markdown",
   "source": "#### Five top records of data",
   "metadata": {}
  },
  {
   "cell_type": "code",
   "source": "districts_data.head()",
   "metadata": {
    "execution": {
     "iopub.status.busy": "2021-08-02T22:05:07.932198Z",
     "iopub.execute_input": "2021-08-02T22:05:07.932577Z",
     "iopub.status.idle": "2021-08-02T22:05:07.956583Z",
     "shell.execute_reply.started": "2021-08-02T22:05:07.932546Z",
     "shell.execute_reply": "2021-08-02T22:05:07.95568Z"
    },
    "trusted": true
   },
   "execution_count": null,
   "outputs": []
  },
  {
   "cell_type": "markdown",
   "source": "#### Five last records of data",
   "metadata": {}
  },
  {
   "cell_type": "code",
   "source": "districts_data.tail()",
   "metadata": {
    "execution": {
     "iopub.status.busy": "2021-08-02T22:05:08.265237Z",
     "iopub.execute_input": "2021-08-02T22:05:08.265793Z",
     "iopub.status.idle": "2021-08-02T22:05:08.280731Z",
     "shell.execute_reply.started": "2021-08-02T22:05:08.265745Z",
     "shell.execute_reply": "2021-08-02T22:05:08.279699Z"
    },
    "trusted": true
   },
   "execution_count": null,
   "outputs": []
  },
  {
   "cell_type": "markdown",
   "source": "#### Coloumns/features in data",
   "metadata": {}
  },
  {
   "cell_type": "code",
   "source": "districts_data.columns",
   "metadata": {
    "execution": {
     "iopub.status.busy": "2021-08-02T22:05:08.691185Z",
     "iopub.execute_input": "2021-08-02T22:05:08.69155Z",
     "iopub.status.idle": "2021-08-02T22:05:08.698283Z",
     "shell.execute_reply.started": "2021-08-02T22:05:08.69152Z",
     "shell.execute_reply": "2021-08-02T22:05:08.697226Z"
    },
    "trusted": true
   },
   "execution_count": null,
   "outputs": []
  },
  {
   "cell_type": "markdown",
   "source": "#### Length of data",
   "metadata": {}
  },
  {
   "cell_type": "code",
   "source": "print('lenght of data is', len(districts_data))",
   "metadata": {
    "execution": {
     "iopub.status.busy": "2021-08-02T22:05:09.099852Z",
     "iopub.execute_input": "2021-08-02T22:05:09.100255Z",
     "iopub.status.idle": "2021-08-02T22:05:09.105603Z",
     "shell.execute_reply.started": "2021-08-02T22:05:09.10022Z",
     "shell.execute_reply": "2021-08-02T22:05:09.10456Z"
    },
    "trusted": true
   },
   "execution_count": null,
   "outputs": []
  },
  {
   "cell_type": "markdown",
   "source": "#### Shape of data",
   "metadata": {}
  },
  {
   "cell_type": "code",
   "source": "districts_data.shape",
   "metadata": {
    "execution": {
     "iopub.status.busy": "2021-08-02T22:05:09.474064Z",
     "iopub.execute_input": "2021-08-02T22:05:09.474641Z",
     "iopub.status.idle": "2021-08-02T22:05:09.481442Z",
     "shell.execute_reply.started": "2021-08-02T22:05:09.474605Z",
     "shell.execute_reply": "2021-08-02T22:05:09.480442Z"
    },
    "trusted": true
   },
   "execution_count": null,
   "outputs": []
  },
  {
   "cell_type": "markdown",
   "source": "#### Data information",
   "metadata": {}
  },
  {
   "cell_type": "code",
   "source": "districts_data.info()",
   "metadata": {
    "execution": {
     "iopub.status.busy": "2021-08-02T22:05:09.826782Z",
     "iopub.execute_input": "2021-08-02T22:05:09.827404Z",
     "iopub.status.idle": "2021-08-02T22:05:09.844905Z",
     "shell.execute_reply.started": "2021-08-02T22:05:09.827356Z",
     "shell.execute_reply": "2021-08-02T22:05:09.843552Z"
    },
    "trusted": true
   },
   "execution_count": null,
   "outputs": []
  },
  {
   "cell_type": "markdown",
   "source": "#### Data types of all coloumns",
   "metadata": {}
  },
  {
   "cell_type": "code",
   "source": "districts_data.dtypes",
   "metadata": {
    "execution": {
     "iopub.status.busy": "2021-08-02T22:05:10.275442Z",
     "iopub.execute_input": "2021-08-02T22:05:10.275798Z",
     "iopub.status.idle": "2021-08-02T22:05:10.284211Z",
     "shell.execute_reply.started": "2021-08-02T22:05:10.275768Z",
     "shell.execute_reply": "2021-08-02T22:05:10.282936Z"
    },
    "trusted": true
   },
   "execution_count": null,
   "outputs": []
  },
  {
   "cell_type": "markdown",
   "source": "#### Checking Null values / missing values",
   "metadata": {}
  },
  {
   "cell_type": "code",
   "source": "np.sum(districts_data.isnull().any(axis=1))",
   "metadata": {
    "scrolled": true,
    "execution": {
     "iopub.status.busy": "2021-08-02T22:05:10.650892Z",
     "iopub.execute_input": "2021-08-02T22:05:10.651266Z",
     "iopub.status.idle": "2021-08-02T22:05:10.660402Z",
     "shell.execute_reply.started": "2021-08-02T22:05:10.651233Z",
     "shell.execute_reply": "2021-08-02T22:05:10.659392Z"
    },
    "trusted": true
   },
   "execution_count": null,
   "outputs": []
  },
  {
   "cell_type": "markdown",
   "source": "#### Rows and columns in the dataset",
   "metadata": {}
  },
  {
   "cell_type": "code",
   "source": "print('Count of columns in the data is:  ', len(districts_data.columns))",
   "metadata": {
    "execution": {
     "iopub.status.busy": "2021-08-02T22:05:10.926482Z",
     "iopub.execute_input": "2021-08-02T22:05:10.926859Z",
     "iopub.status.idle": "2021-08-02T22:05:10.93196Z",
     "shell.execute_reply.started": "2021-08-02T22:05:10.926827Z",
     "shell.execute_reply": "2021-08-02T22:05:10.93092Z"
    },
    "trusted": true
   },
   "execution_count": null,
   "outputs": []
  },
  {
   "cell_type": "code",
   "source": "print('Count of rows in the data is:  ', len(districts_data))",
   "metadata": {
    "execution": {
     "iopub.status.busy": "2021-08-02T22:05:11.128309Z",
     "iopub.execute_input": "2021-08-02T22:05:11.12898Z",
     "iopub.status.idle": "2021-08-02T22:05:11.1344Z",
     "shell.execute_reply.started": "2021-08-02T22:05:11.128944Z",
     "shell.execute_reply": "2021-08-02T22:05:11.133398Z"
    },
    "trusted": true
   },
   "execution_count": null,
   "outputs": []
  },
  {
   "cell_type": "markdown",
   "source": "### Deleting the duplicate rows",
   "metadata": {}
  },
  {
   "cell_type": "code",
   "source": "current=len(districts_data)\nprint('Rows of data before Delecting ', current)",
   "metadata": {
    "execution": {
     "iopub.status.busy": "2021-08-02T22:05:11.523298Z",
     "iopub.execute_input": "2021-08-02T22:05:11.523699Z",
     "iopub.status.idle": "2021-08-02T22:05:11.528882Z",
     "shell.execute_reply.started": "2021-08-02T22:05:11.523662Z",
     "shell.execute_reply": "2021-08-02T22:05:11.528087Z"
    },
    "trusted": true
   },
   "execution_count": null,
   "outputs": []
  },
  {
   "cell_type": "code",
   "source": "districts_data=districts_data.drop_duplicates()",
   "metadata": {
    "execution": {
     "iopub.status.busy": "2021-08-02T22:05:11.750441Z",
     "iopub.execute_input": "2021-08-02T22:05:11.75102Z",
     "iopub.status.idle": "2021-08-02T22:05:11.757892Z",
     "shell.execute_reply.started": "2021-08-02T22:05:11.750968Z",
     "shell.execute_reply": "2021-08-02T22:05:11.757012Z"
    },
    "trusted": true
   },
   "execution_count": null,
   "outputs": []
  },
  {
   "cell_type": "code",
   "source": "now=len(districts_data)\nprint('Rows of data before Delecting ', now)",
   "metadata": {
    "execution": {
     "iopub.status.busy": "2021-08-02T22:05:12.019946Z",
     "iopub.execute_input": "2021-08-02T22:05:12.020339Z",
     "iopub.status.idle": "2021-08-02T22:05:12.026657Z",
     "shell.execute_reply.started": "2021-08-02T22:05:12.020301Z",
     "shell.execute_reply": "2021-08-02T22:05:12.025441Z"
    },
    "trusted": true
   },
   "execution_count": null,
   "outputs": []
  },
  {
   "cell_type": "code",
   "source": "diff=current-now\nprint('Duplicated rows deleted ', diff)",
   "metadata": {
    "execution": {
     "iopub.status.busy": "2021-08-02T22:05:12.167608Z",
     "iopub.execute_input": "2021-08-02T22:05:12.167974Z",
     "iopub.status.idle": "2021-08-02T22:05:12.176338Z",
     "shell.execute_reply.started": "2021-08-02T22:05:12.167944Z",
     "shell.execute_reply": "2021-08-02T22:05:12.175089Z"
    },
    "trusted": true
   },
   "execution_count": null,
   "outputs": []
  },
  {
   "cell_type": "markdown",
   "source": "<div class=\"alert alert-block alert-danger\">  \n<h1><center><strong>Data Visualization 📝</strong></center></h1>\n\n\n   \n        \n</div>",
   "metadata": {
    "papermill": {
     "duration": 0.065466,
     "end_time": "2020-11-30T07:38:51.578836",
     "exception": false,
     "start_time": "2020-11-30T07:38:51.51337",
     "status": "completed"
    },
    "tags": []
   }
  },
  {
   "cell_type": "markdown",
   "source": "## Univariate Analysis ",
   "metadata": {}
  },
  {
   "cell_type": "markdown",
   "source": "Distribution of state",
   "metadata": {}
  },
  {
   "cell_type": "code",
   "source": "plt.figure(figsize=(12,10))\nsns.countplot(districts_data.state)\nplt.xticks(rotation=90)",
   "metadata": {
    "execution": {
     "iopub.status.busy": "2021-08-02T22:05:12.935975Z",
     "iopub.execute_input": "2021-08-02T22:05:12.936584Z",
     "iopub.status.idle": "2021-08-02T22:05:13.353888Z",
     "shell.execute_reply.started": "2021-08-02T22:05:12.936549Z",
     "shell.execute_reply": "2021-08-02T22:05:13.353057Z"
    },
    "trusted": true
   },
   "execution_count": null,
   "outputs": []
  },
  {
   "cell_type": "code",
   "source": "districts_data[\"state\"].value_counts().head(10).plot(kind = 'pie', autopct='%1.1f%%', figsize=(10, 10), startangle=0).legend()",
   "metadata": {
    "execution": {
     "iopub.status.busy": "2021-08-02T22:05:13.3558Z",
     "iopub.execute_input": "2021-08-02T22:05:13.356265Z",
     "iopub.status.idle": "2021-08-02T22:05:13.825823Z",
     "shell.execute_reply.started": "2021-08-02T22:05:13.356219Z",
     "shell.execute_reply": "2021-08-02T22:05:13.824655Z"
    },
    "trusted": true
   },
   "execution_count": null,
   "outputs": []
  },
  {
   "cell_type": "markdown",
   "source": "Distribution of locale",
   "metadata": {}
  },
  {
   "cell_type": "code",
   "source": "plt.figure(figsize=(12,10))\nsns.countplot(districts_data.locale)\nplt.xticks(rotation=90)",
   "metadata": {
    "execution": {
     "iopub.status.busy": "2021-08-02T22:05:13.827517Z",
     "iopub.execute_input": "2021-08-02T22:05:13.827823Z",
     "iopub.status.idle": "2021-08-02T22:05:14.012078Z",
     "shell.execute_reply.started": "2021-08-02T22:05:13.827795Z",
     "shell.execute_reply": "2021-08-02T22:05:14.01082Z"
    },
    "trusted": true
   },
   "execution_count": null,
   "outputs": []
  },
  {
   "cell_type": "code",
   "source": "districts_data[\"locale\"].value_counts().head(10).plot(kind = 'pie', autopct='%1.1f%%', figsize=(10, 10), startangle=0).legend()",
   "metadata": {
    "execution": {
     "iopub.status.busy": "2021-08-02T22:05:14.013818Z",
     "iopub.execute_input": "2021-08-02T22:05:14.014288Z",
     "iopub.status.idle": "2021-08-02T22:05:14.302337Z",
     "shell.execute_reply.started": "2021-08-02T22:05:14.014242Z",
     "shell.execute_reply": "2021-08-02T22:05:14.3012Z"
    },
    "trusted": true
   },
   "execution_count": null,
   "outputs": []
  },
  {
   "cell_type": "markdown",
   "source": "Distribution of pct_black/hispanic",
   "metadata": {}
  },
  {
   "cell_type": "code",
   "source": "sns.countplot(data= districts_data, x = \"pct_black/hispanic\")\nplt.show()",
   "metadata": {
    "execution": {
     "iopub.status.busy": "2021-08-02T22:05:14.304616Z",
     "iopub.execute_input": "2021-08-02T22:05:14.305191Z",
     "iopub.status.idle": "2021-08-02T22:05:14.469063Z",
     "shell.execute_reply.started": "2021-08-02T22:05:14.305138Z",
     "shell.execute_reply": "2021-08-02T22:05:14.467913Z"
    },
    "trusted": true
   },
   "execution_count": null,
   "outputs": []
  },
  {
   "cell_type": "markdown",
   "source": "pct_free/reduced",
   "metadata": {}
  },
  {
   "cell_type": "code",
   "source": "sns.countplot(data= districts_data, x = \"pct_free/reduced\")\nplt.show()",
   "metadata": {
    "execution": {
     "iopub.status.busy": "2021-08-02T22:05:14.567292Z",
     "iopub.execute_input": "2021-08-02T22:05:14.567649Z",
     "iopub.status.idle": "2021-08-02T22:05:14.714231Z",
     "shell.execute_reply.started": "2021-08-02T22:05:14.567619Z",
     "shell.execute_reply": "2021-08-02T22:05:14.713398Z"
    },
    "trusted": true
   },
   "execution_count": null,
   "outputs": []
  },
  {
   "cell_type": "markdown",
   "source": "county_connections_ratio",
   "metadata": {}
  },
  {
   "cell_type": "code",
   "source": "sns.countplot(data= districts_data, x = \"county_connections_ratio\")\nplt.show()",
   "metadata": {
    "execution": {
     "iopub.status.busy": "2021-08-02T22:05:14.935861Z",
     "iopub.execute_input": "2021-08-02T22:05:14.936238Z",
     "iopub.status.idle": "2021-08-02T22:05:15.087982Z",
     "shell.execute_reply.started": "2021-08-02T22:05:14.936205Z",
     "shell.execute_reply": "2021-08-02T22:05:15.086945Z"
    },
    "trusted": true
   },
   "execution_count": null,
   "outputs": []
  },
  {
   "cell_type": "code",
   "source": "plt.figure(figsize=(12,10))\nsns.countplot(districts_data.pp_total_raw)\nplt.xticks(rotation=90)",
   "metadata": {
    "execution": {
     "iopub.status.busy": "2021-08-02T22:05:15.159193Z",
     "iopub.execute_input": "2021-08-02T22:05:15.159543Z",
     "iopub.status.idle": "2021-08-02T22:05:15.443286Z",
     "shell.execute_reply.started": "2021-08-02T22:05:15.159515Z",
     "shell.execute_reply": "2021-08-02T22:05:15.442039Z"
    },
    "trusted": true
   },
   "execution_count": null,
   "outputs": []
  },
  {
   "cell_type": "markdown",
   "source": "## Loading the Products data",
   "metadata": {}
  },
  {
   "cell_type": "code",
   "source": "products_data = pd.read_csv(\"../input/learnplatform-covid19-impact-on-digital-learning/products_info.csv\")\nproducts_data",
   "metadata": {
    "execution": {
     "iopub.status.busy": "2021-08-02T22:05:15.652715Z",
     "iopub.execute_input": "2021-08-02T22:05:15.65308Z",
     "iopub.status.idle": "2021-08-02T22:05:15.678822Z",
     "shell.execute_reply.started": "2021-08-02T22:05:15.653048Z",
     "shell.execute_reply": "2021-08-02T22:05:15.677793Z"
    },
    "trusted": true
   },
   "execution_count": null,
   "outputs": []
  },
  {
   "cell_type": "markdown",
   "source": "### Distribution of Sector(s) in the District Information Data",
   "metadata": {}
  },
  {
   "cell_type": "code",
   "source": "ds = products_data['Sector(s)'].value_counts().reset_index()\nds.columns = [\n    'Sector(s)', \n    'percent'\n]\nds['percent'] /= len(products_data)\n\nfig = px.pie(\n    ds, \n    names='Sector(s)', \n    values='percent',\n    color_discrete_sequence=px.colors.sequential.Mint,\n    title='Distribution of Sector(s) in the District Information Data:', \n    width=700,\n    height=500\n)\nfig.show()",
   "metadata": {
    "execution": {
     "iopub.status.busy": "2021-08-02T22:05:16.034641Z",
     "iopub.execute_input": "2021-08-02T22:05:16.03502Z",
     "iopub.status.idle": "2021-08-02T22:05:16.307441Z",
     "shell.execute_reply.started": "2021-08-02T22:05:16.034989Z",
     "shell.execute_reply": "2021-08-02T22:05:16.30635Z"
    },
    "trusted": true
   },
   "execution_count": null,
   "outputs": []
  },
  {
   "cell_type": "markdown",
   "source": "### districts state wordcloud",
   "metadata": {}
  },
  {
   "cell_type": "code",
   "source": "cloud = WordCloud(width=1440, height=1080).generate(\" \".join(districts_data['state'].astype(str)))\nplt.figure(figsize=(15, 10))\nplt.imshow(cloud)\nplt.axis('off')",
   "metadata": {
    "execution": {
     "iopub.status.busy": "2021-08-02T22:05:16.486466Z",
     "iopub.execute_input": "2021-08-02T22:05:16.486811Z",
     "iopub.status.idle": "2021-08-02T22:05:17.566233Z",
     "shell.execute_reply.started": "2021-08-02T22:05:16.486782Z",
     "shell.execute_reply": "2021-08-02T22:05:17.563955Z"
    },
    "trusted": true
   },
   "execution_count": null,
   "outputs": []
  },
  {
   "cell_type": "markdown",
   "source": "### Occurrence of states in the District Information Data",
   "metadata": {}
  },
  {
   "cell_type": "code",
   "source": "ds = districts_data['state'].value_counts().reset_index()\nds.columns = [\n    'state', \n    'percent'\n]\nds['percent'] /= len(districts_data)\n\nfig = px.pie(\n    ds, \n    names='state', \n    values='percent',\n    color_discrete_sequence=px.colors.sequential.Mint,\n    title='Occurrence of states in the District Information Data:', \n    width=700,\n    height=500\n)\nfig.show()",
   "metadata": {
    "execution": {
     "iopub.status.busy": "2021-08-02T22:05:17.56817Z",
     "iopub.execute_input": "2021-08-02T22:05:17.568629Z",
     "iopub.status.idle": "2021-08-02T22:05:17.630353Z",
     "shell.execute_reply.started": "2021-08-02T22:05:17.568583Z",
     "shell.execute_reply": "2021-08-02T22:05:17.62937Z"
    },
    "trusted": true
   },
   "execution_count": null,
   "outputs": []
  },
  {
   "cell_type": "markdown",
   "source": "### Occurrence of Locale in the District Information Data",
   "metadata": {}
  },
  {
   "cell_type": "code",
   "source": "ds = districts_data['locale'].value_counts().reset_index()\nds.columns = [\n    'locale', \n    'percent'\n]\nds['percent'] /= len(districts_data)\n\nfig = px.pie(\n    ds, \n    names='locale', \n    values='percent',\n    color_discrete_sequence=px.colors.sequential.Mint,\n    title='Occurrence of Locale in the District Information Data:', \n    width=700,\n    height=500\n)\nfig.show()",
   "metadata": {
    "execution": {
     "iopub.status.busy": "2021-08-02T22:05:18.229385Z",
     "iopub.execute_input": "2021-08-02T22:05:18.229778Z",
     "iopub.status.idle": "2021-08-02T22:05:18.289692Z",
     "shell.execute_reply.started": "2021-08-02T22:05:18.229733Z",
     "shell.execute_reply": "2021-08-02T22:05:18.288628Z"
    },
    "trusted": true
   },
   "execution_count": null,
   "outputs": []
  },
  {
   "cell_type": "markdown",
   "source": "# Loading All Engagement Files",
   "metadata": {}
  },
  {
   "cell_type": "code",
   "source": "CSV_files=pd.DataFrame()\naddress = glob.glob('../input/learnplatform-covid19-impact-on-digital-learning/engagement_data/*.csv')\ncount=0\nfor i in address:\n    with open(i, \"rb\") as data_of_files:\n        data=pd.read_csv(data_of_files)\n        CSV_files=pd.concat([CSV_files,data], axis=0)\n        count=count+1\n        if count==233:\n            break  \nCSV_files",
   "metadata": {
    "execution": {
     "iopub.status.busy": "2021-08-02T22:05:18.291184Z",
     "iopub.execute_input": "2021-08-02T22:05:18.291508Z",
     "iopub.status.idle": "2021-08-02T22:07:27.465127Z",
     "shell.execute_reply.started": "2021-08-02T22:05:18.291479Z",
     "shell.execute_reply": "2021-08-02T22:07:27.461207Z"
    },
    "trusted": true
   },
   "execution_count": null,
   "outputs": []
  },
  {
   "cell_type": "markdown",
   "source": "### Numeric features distrubution ",
   "metadata": {}
  },
  {
   "cell_type": "code",
   "source": "CSV_files.hist(figsize=(20,20),bins = 20, color=\"#107009AA\")\nplt.title(\"Numeric Features Distribution\")\nplt.show()",
   "metadata": {
    "execution": {
     "iopub.status.busy": "2021-08-02T22:07:27.467551Z",
     "iopub.execute_input": "2021-08-02T22:07:27.467876Z",
     "iopub.status.idle": "2021-08-02T22:07:30.685567Z",
     "shell.execute_reply.started": "2021-08-02T22:07:27.467843Z",
     "shell.execute_reply": "2021-08-02T22:07:30.684387Z"
    },
    "trusted": true
   },
   "execution_count": null,
   "outputs": []
  },
  {
   "cell_type": "markdown",
   "source": "### Bivariate Analysis\n",
   "metadata": {}
  },
  {
   "cell_type": "code",
   "source": "colormap = plt.cm.RdBu\nplt.figure(figsize=(14,12))\nplt.title('Pearson Correlation of Features', y=1.05, size=15)\nsns.heatmap(CSV_files.corr(),linewidths=0.1,vmax=1.0, \n            square=True, cmap=colormap, linecolor='white', annot=True)",
   "metadata": {
    "execution": {
     "iopub.status.busy": "2021-08-02T22:07:30.687396Z",
     "iopub.execute_input": "2021-08-02T22:07:30.687725Z",
     "iopub.status.idle": "2021-08-02T22:07:32.289986Z",
     "shell.execute_reply.started": "2021-08-02T22:07:30.687692Z",
     "shell.execute_reply": "2021-08-02T22:07:32.288881Z"
    },
    "trusted": true
   },
   "execution_count": null,
   "outputs": []
  },
  {
   "cell_type": "markdown",
   "source": "### Missing value Treatment\n\n",
   "metadata": {}
  },
  {
   "cell_type": "code",
   "source": "CSV_files.isnull().sum()",
   "metadata": {
    "execution": {
     "iopub.status.busy": "2021-08-02T22:07:32.291361Z",
     "iopub.execute_input": "2021-08-02T22:07:32.291673Z",
     "iopub.status.idle": "2021-08-02T22:07:34.609477Z",
     "shell.execute_reply.started": "2021-08-02T22:07:32.291644Z",
     "shell.execute_reply": "2021-08-02T22:07:34.608366Z"
    },
    "trusted": true
   },
   "execution_count": null,
   "outputs": []
  },
  {
   "cell_type": "markdown",
   "source": "### lets calculate the total missing values in the each column",
   "metadata": {}
  },
  {
   "cell_type": "code",
   "source": "data_total = CSV_files.isnull().sum()\ndata_percent = ((CSV_files.isnull().sum()/CSV_files.shape[0])*100).round(2)\nmissing_data = pd.concat([data_total, data_percent],\n                                axis=1, \n                                keys=['Data_Total', 'Data_Percent %'],\n                                sort = True)\nmissing_data.style.bar(color = ['gold'])",
   "metadata": {
    "execution": {
     "iopub.status.busy": "2021-08-02T22:07:34.611935Z",
     "iopub.execute_input": "2021-08-02T22:07:34.612405Z",
     "iopub.status.idle": "2021-08-02T22:07:39.286994Z",
     "shell.execute_reply.started": "2021-08-02T22:07:34.612334Z",
     "shell.execute_reply": "2021-08-02T22:07:39.285997Z"
    },
    "trusted": true
   },
   "execution_count": null,
   "outputs": []
  },
  {
   "cell_type": "markdown",
   "source": "## Combining the data",
   "metadata": {}
  },
  {
   "cell_type": "code",
   "source": "print(products_data[\"LP ID\"].nunique())\nprint(CSV_files[\"lp_id\"].nunique())",
   "metadata": {
    "execution": {
     "iopub.status.busy": "2021-08-02T22:07:39.288361Z",
     "iopub.execute_input": "2021-08-02T22:07:39.288908Z",
     "iopub.status.idle": "2021-08-02T22:07:39.769592Z",
     "shell.execute_reply.started": "2021-08-02T22:07:39.288865Z",
     "shell.execute_reply": "2021-08-02T22:07:39.76835Z"
    },
    "trusted": true
   },
   "execution_count": null,
   "outputs": []
  },
  {
   "cell_type": "code",
   "source": "products_engagement_data = pd.merge(products_data, CSV_files, left_on='LP ID', right_on='lp_id')\nproducts_engagement_data.head()",
   "metadata": {
    "execution": {
     "iopub.status.busy": "2021-08-02T22:07:39.771934Z",
     "iopub.execute_input": "2021-08-02T22:07:39.772314Z",
     "iopub.status.idle": "2021-08-02T22:07:51.471418Z",
     "shell.execute_reply.started": "2021-08-02T22:07:39.772279Z",
     "shell.execute_reply": "2021-08-02T22:07:51.470272Z"
    },
    "trusted": true
   },
   "execution_count": null,
   "outputs": []
  },
  {
   "cell_type": "markdown",
   "source": "## More code is coming Soon. Please upvote if you like the work and you will get notifications with additions. \n\n<center><img src=\"https://thumbs.gfycat.com/AshamedWeightyDachshund-max-1mb.gif\"></center>",
   "metadata": {}
  }
 ]
}