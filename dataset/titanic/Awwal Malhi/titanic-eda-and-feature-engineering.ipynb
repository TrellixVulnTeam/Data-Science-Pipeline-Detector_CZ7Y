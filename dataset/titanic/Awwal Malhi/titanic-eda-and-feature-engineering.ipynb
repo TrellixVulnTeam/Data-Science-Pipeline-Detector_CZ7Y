{
 "cells": [
  {
   "metadata": {
    "papermill": {
     "duration": 0.062057,
     "end_time": "2021-01-27T22:52:37.659064",
     "exception": false,
     "start_time": "2021-01-27T22:52:37.597007",
     "status": "completed"
    },
    "tags": [],
    "pycharm": {
     "name": "#%% md\n"
    }
   },
   "cell_type": "markdown",
   "source": [
    "# Titanic EDA and Feature Engineering tutorial - Building intuition and best practices"
   ]
  },
  {
   "metadata": {
    "papermill": {
     "duration": 0.061103,
     "end_time": "2021-01-27T22:52:37.782283",
     "exception": false,
     "start_time": "2021-01-27T22:52:37.72118",
     "status": "completed"
    },
    "tags": [],
    "pycharm": {
     "name": "#%% md\n"
    }
   },
   "cell_type": "markdown",
   "source": [
    "This kernel serves as a **beginner tutorial and basic guideline** for approaching the Exploratory data analysis and Feature enginnering. In the following Exploratory data analysis, i have tried to impart:\n",
    "* My Intuition about how to approach a dataset and ask questions, with documented reasons for creating any visualization and what value did it add to our understanding of the dataset.\n",
    "* Best practices.\n",
    "* Creating features that boost score and why they do so.\n",
    "\n",
    "**First** we will go through how to use EDA to best fill the missing Fare and Cabin feature and check out other possibilities and why is the option we pick better than other missing value imputation methods, with support from the visualizations.\n",
    "\n",
    "Then we will check out feature creation possibilities using Exploratory Data Analysis and i will guide you through the attributes in the visulizations that actually make the feature quite expressive and good for achieving better score.\n",
    "\n",
    "After that we will look into creating a Feature engineering class to quickly narrow down to best set of features from the many features we engineered."
   ]
  },
  {
   "metadata": {
    "_kg_hide-output": true,
    "execution": {
     "iopub.execute_input": "2021-01-27T22:52:37.911572Z",
     "iopub.status.busy": "2021-01-27T22:52:37.910905Z",
     "iopub.status.idle": "2021-01-27T22:52:48.287272Z",
     "shell.execute_reply": "2021-01-27T22:52:48.286637Z"
    },
    "papermill": {
     "duration": 10.443577,
     "end_time": "2021-01-27T22:52:48.287405",
     "exception": false,
     "start_time": "2021-01-27T22:52:37.843828",
     "status": "completed"
    },
    "tags": [],
    "trusted": true,
    "pycharm": {
     "name": "#%%\n"
    }
   },
   "cell_type": "code",
   "source": [
    "!pip install seaborn==0.11.0 # upgrading seaborn library to use newer plots and features!!"
   ],
   "execution_count": null,
   "outputs": []
  },
  {
   "metadata": {
    "execution": {
     "iopub.execute_input": "2021-01-27T22:52:48.430064Z",
     "iopub.status.busy": "2021-01-27T22:52:48.429382Z",
     "iopub.status.idle": "2021-01-27T22:52:50.865865Z",
     "shell.execute_reply": "2021-01-27T22:52:50.86474Z"
    },
    "papermill": {
     "duration": 2.511861,
     "end_time": "2021-01-27T22:52:50.866",
     "exception": false,
     "start_time": "2021-01-27T22:52:48.354139",
     "status": "completed"
    },
    "tags": [],
    "trusted": true,
    "pycharm": {
     "name": "#%%\n"
    }
   },
   "cell_type": "code",
   "source": [
    "# libraries used\n",
    "import pandas as pd\n",
    "import numpy as np\n",
    "import matplotlib.pyplot as plt\n",
    "import seaborn as sns\n",
    "import re\n",
    "\n",
    "# Encoders\n",
    "from category_encoders import TargetEncoder\n",
    "from sklearn.preprocessing import LabelEncoder\n",
    "\n",
    "# Strategic imports\n",
    "from sklearn.preprocessing import PolynomialFeatures, StandardScaler, MinMaxScaler, RobustScaler\n",
    "from sklearn.base import BaseEstimator, TransformerMixin\n",
    "from sklearn.model_selection import GridSearchCV, train_test_split, RepeatedStratifiedKFold, cross_val_score\n",
    "from sklearn.model_selection import StratifiedKFold, StratifiedShuffleSplit\n",
    "from sklearn.pipeline import Pipeline\n",
    "from sklearn.metrics import accuracy_score\n",
    "\n",
    "# Machine learning Models\n",
    "from sklearn.linear_model import LogisticRegression, RidgeClassifier\n",
    "from sklearn.neighbors import KNeighborsClassifier\n",
    "from sklearn.tree import DecisionTreeClassifier\n",
    "from sklearn.ensemble import RandomForestClassifier, GradientBoostingClassifier, ExtraTreesClassifier\n",
    "from xgboost import XGBClassifier\n",
    "from sklearn.svm import SVC\n",
    "from sklearn.ensemble import StackingClassifier, VotingClassifier\n",
    "\n",
    "\n",
    "# imports to mute warnings\n",
    "pd.options.display.max_rows=200\n",
    "pd.set_option('mode.chained_assignment', None)\n",
    "\n",
    "from warnings import simplefilter\n",
    "from sklearn.exceptions import ConvergenceWarning\n",
    "simplefilter(\"ignore\", category=ConvergenceWarning)\n",
    "simplefilter(\"ignore\", category=RuntimeWarning)"
   ],
   "execution_count": null,
   "outputs": []
  },
  {
   "metadata": {
    "execution": {
     "iopub.execute_input": "2021-01-27T22:52:51.011127Z",
     "iopub.status.busy": "2021-01-27T22:52:51.010047Z",
     "iopub.status.idle": "2021-01-27T22:52:51.499999Z",
     "shell.execute_reply": "2021-01-27T22:52:51.499453Z"
    },
    "papermill": {
     "duration": 0.568239,
     "end_time": "2021-01-27T22:52:51.500116",
     "exception": false,
     "start_time": "2021-01-27T22:52:50.931877",
     "status": "completed"
    },
    "tags": [],
    "trusted": true,
    "pycharm": {
     "name": "#%%\n"
    }
   },
   "cell_type": "code",
   "source": [
    "# seaborn color palettes we will be using \n",
    "\n",
    "palette_1 = sns.color_palette('Accent', 6)\n",
    "palette_2 = sns.color_palette('Set1', 6)\n",
    "palette_3 = sns.color_palette('BrBG')\n",
    "palette_4 = sns.color_palette('CMRmap')\n",
    "palette_5 = sns.color_palette('Paired', 6)\n",
    "palette_6 = sns.color_palette('RdYlBu')\n",
    "palette_binary_1 = sns.color_palette('Accent_r', 2)\n",
    "palette_binary_2 = sns.color_palette('Set1', 2)\n",
    "palette_binary_3 = sns.color_palette('Set2', 2)\n",
    "\n",
    "plt.style.use('fivethirtyeight')"
   ],
   "execution_count": null,
   "outputs": []
  },
  {
   "metadata": {
    "execution": {
     "iopub.execute_input": "2021-01-27T22:52:51.649384Z",
     "iopub.status.busy": "2021-01-27T22:52:51.648657Z",
     "iopub.status.idle": "2021-01-27T22:52:51.683887Z",
     "shell.execute_reply": "2021-01-27T22:52:51.683278Z"
    },
    "papermill": {
     "duration": 0.113461,
     "end_time": "2021-01-27T22:52:51.684001",
     "exception": false,
     "start_time": "2021-01-27T22:52:51.57054",
     "status": "completed"
    },
    "tags": [],
    "trusted": true,
    "pycharm": {
     "name": "#%%\n"
    }
   },
   "cell_type": "code",
   "source": [
    "train = pd.read_csv('/kaggle/input/titanic/train.csv', index_col='PassengerId')\n",
    "test = pd.read_csv('/kaggle/input/titanic/test.csv', index_col='PassengerId')"
   ],
   "execution_count": null,
   "outputs": []
  },
  {
   "metadata": {
    "papermill": {
     "duration": 0.075049,
     "end_time": "2021-01-27T22:52:51.829552",
     "exception": false,
     "start_time": "2021-01-27T22:52:51.754503",
     "status": "completed"
    },
    "tags": [],
    "pycharm": {
     "name": "#%% md\n"
    }
   },
   "cell_type": "markdown",
   "source": [
    "**Small Note before we start:**\n",
    "\n",
    "There are a lot of excellent EDA kernels, but few of them combine training and test set to perform EDA, for the given dataset i do not think it is as big of a deal(why i think so, i will explain at the end) as it should be, you should never combine train and test set!! titanic dataset is the starting point of many individuals in the field of data science and looking at this practice can make it very easy for beginners to develop the habit of peeking into the test set, i would go as far as saying that once you have separated test and training sets you should consider test set as something that you will get in future once you have trained the best model as per training data, consider it as something which is only given to you when you are to make final predictions.\n",
    "\n",
    "Now why do i think it is not too bad to do so, reason is that... if we look at it from competition point of view, using the test data to extract information which can be helpful to make it easier for making predictions on test data and boost your raking is plausible, Given that titanic dataset is something which will always stay of the same size, that is no new out of sample data will be generated , such practice can help boost score. But it is deterimental for beginners to see such practice in action, developing the habit to combine test and train datasets is easy, the pros who do it in there kernels already now the implications, but a beginner does not. So i wanted to just point this out before you begin going through the kernel, We have avoided combining test and training dataset in EDA."
   ]
  },
  {
   "metadata": {
    "papermill": {
     "duration": 0.081622,
     "end_time": "2021-01-27T22:52:52.003735",
     "exception": false,
     "start_time": "2021-01-27T22:52:51.922113",
     "status": "completed"
    },
    "tags": [],
    "pycharm": {
     "name": "#%% md\n"
    }
   },
   "cell_type": "markdown",
   "source": [
    "# Exploratory Data Analysis\n",
    "\n",
    "\n",
    "\n",
    "Lets start by exploring some features and there relations with other features."
   ]
  },
  {
   "metadata": {
    "papermill": {
     "duration": 0.068745,
     "end_time": "2021-01-27T22:52:52.142397",
     "exception": false,
     "start_time": "2021-01-27T22:52:52.073652",
     "status": "completed"
    },
    "tags": [],
    "pycharm": {
     "name": "#%% md\n"
    }
   },
   "cell_type": "markdown",
   "source": [
    "### Age - Sex distributions"
   ]
  },
  {
   "metadata": {
    "_kg_hide-input": true,
    "_kg_hide-output": false,
    "execution": {
     "iopub.execute_input": "2021-01-27T22:52:52.299931Z",
     "iopub.status.busy": "2021-01-27T22:52:52.2989Z",
     "iopub.status.idle": "2021-01-27T22:52:52.681688Z",
     "shell.execute_reply": "2021-01-27T22:52:52.682268Z"
    },
    "papermill": {
     "duration": 0.470084,
     "end_time": "2021-01-27T22:52:52.682414",
     "exception": false,
     "start_time": "2021-01-27T22:52:52.21233",
     "status": "completed"
    },
    "tags": [],
    "trusted": true,
    "pycharm": {
     "name": "#%%\n"
    }
   },
   "cell_type": "code",
   "source": [
    "fig, ax = plt.subplots(1, 2, figsize=(16, 8))\n",
    "#sns.set_style('ticks')\n",
    "\n",
    "sns.kdeplot(data=train, x='Age', hue='Sex', fill=True, palette=palette_binary_3, ax=ax[0])\n",
    "sns.boxenplot(data=train, x='Sex', y='Age', ax=ax[1], palette=palette_2)\n",
    "\n",
    "sns.despine()\n",
    "plt.show()"
   ],
   "execution_count": null,
   "outputs": []
  },
  {
   "metadata": {
    "papermill": {
     "duration": 0.071578,
     "end_time": "2021-01-27T22:52:52.826232",
     "exception": false,
     "start_time": "2021-01-27T22:52:52.754654",
     "status": "completed"
    },
    "tags": [],
    "pycharm": {
     "name": "#%% md\n"
    }
   },
   "cell_type": "markdown",
   "source": [
    "### Sex - Fare distributions"
   ]
  },
  {
   "metadata": {
    "_kg_hide-input": true,
    "execution": {
     "iopub.execute_input": "2021-01-27T22:52:52.973612Z",
     "iopub.status.busy": "2021-01-27T22:52:52.972951Z",
     "iopub.status.idle": "2021-01-27T22:52:53.410626Z",
     "shell.execute_reply": "2021-01-27T22:52:53.410079Z"
    },
    "papermill": {
     "duration": 0.511845,
     "end_time": "2021-01-27T22:52:53.410731",
     "exception": false,
     "start_time": "2021-01-27T22:52:52.898886",
     "status": "completed"
    },
    "tags": [],
    "trusted": true,
    "pycharm": {
     "name": "#%%\n"
    }
   },
   "cell_type": "code",
   "source": [
    "fig, ax = plt.subplots(1, 3, figsize=(16, 6))\n",
    "#sns.set_style('ticks')\n",
    "\n",
    "sns.kdeplot(data=train, x='Fare', hue='Sex', fill=True, palette=palette_binary_2, ax=ax[0])\n",
    "sns.boxenplot(data=train, x='Sex', y='Fare', ax=ax[1], palette=palette_5)\n",
    "\n",
    "sns.violinplot(data=train, x='Sex', y='Fare', ax=ax[2], palette=palette_3)\n",
    "\n",
    "sns.despine()\n",
    "plt.show()"
   ],
   "execution_count": null,
   "outputs": []
  },
  {
   "metadata": {
    "papermill": {
     "duration": 0.075936,
     "end_time": "2021-01-27T22:52:53.560173",
     "exception": false,
     "start_time": "2021-01-27T22:52:53.484237",
     "status": "completed"
    },
    "tags": [],
    "pycharm": {
     "name": "#%% md\n"
    }
   },
   "cell_type": "markdown",
   "source": [
    "### Pclass - Sex - Age distributions"
   ]
  },
  {
   "metadata": {
    "_kg_hide-input": true,
    "execution": {
     "iopub.execute_input": "2021-01-27T22:52:53.717669Z",
     "iopub.status.busy": "2021-01-27T22:52:53.716851Z",
     "iopub.status.idle": "2021-01-27T22:52:54.505869Z",
     "shell.execute_reply": "2021-01-27T22:52:54.505246Z"
    },
    "papermill": {
     "duration": 0.871238,
     "end_time": "2021-01-27T22:52:54.505993",
     "exception": false,
     "start_time": "2021-01-27T22:52:53.634755",
     "status": "completed"
    },
    "tags": [],
    "trusted": true,
    "pycharm": {
     "name": "#%%\n"
    }
   },
   "cell_type": "code",
   "source": [
    "fig, ax = plt.subplots(1, 3, figsize=(16, 6))\n",
    "\n",
    "sns.boxenplot(data=train, x='Pclass', y='Age', hue='Sex', dodge=True, ax=ax[0], palette=palette_1)\n",
    "\n",
    "sns.violinplot(data=train, x='Pclass', y='Age', hue='Sex', split=True, ax=ax[1], palette=palette_6)\n",
    "\n",
    "sns.stripplot(data=train, x='Pclass', y='Age', hue='Sex', dodge=True, ax=ax[2], palette=palette_binary_3)\n",
    "\n",
    "sns.despine()\n",
    "plt.show()"
   ],
   "execution_count": null,
   "outputs": []
  },
  {
   "metadata": {
    "papermill": {
     "duration": 0.076531,
     "end_time": "2021-01-27T22:52:54.658694",
     "exception": false,
     "start_time": "2021-01-27T22:52:54.582163",
     "status": "completed"
    },
    "tags": [],
    "pycharm": {
     "name": "#%% md\n"
    }
   },
   "cell_type": "markdown",
   "source": [
    "## Missing value imputation\n",
    "\n",
    "For beginners EDA can become quite an overwhelming task, sometimes it may even be difficult to take the first step, you just don't know where to start and how to ask questions to your data!! My advice is to just start with plotting the relationship of continuous and categorical features with the target. That will tell you alot about the relationship of features with the target, it may give insights on whether some features can be simplified, combined and many more.\n",
    "\n",
    "One basic employment of EDA is to find the best possible way to impute missing values.....\n",
    "While imputing missing values it is always beneficial to perform a correlation check and see which features correlate well with the feature we wish to impute, then you may make some visualizations to better understand the way you should impute the data."
   ]
  },
  {
   "metadata": {
    "execution": {
     "iopub.execute_input": "2021-01-27T22:52:54.819172Z",
     "iopub.status.busy": "2021-01-27T22:52:54.818003Z",
     "iopub.status.idle": "2021-01-27T22:52:54.822946Z",
     "shell.execute_reply": "2021-01-27T22:52:54.822288Z"
    },
    "papermill": {
     "duration": 0.089112,
     "end_time": "2021-01-27T22:52:54.823067",
     "exception": false,
     "start_time": "2021-01-27T22:52:54.733955",
     "status": "completed"
    },
    "tags": [],
    "trusted": true,
    "pycharm": {
     "name": "#%%\n"
    }
   },
   "cell_type": "code",
   "source": [
    "train.isna().sum()"
   ],
   "execution_count": null,
   "outputs": []
  },
  {
   "metadata": {
    "execution": {
     "iopub.execute_input": "2021-01-27T22:52:54.984996Z",
     "iopub.status.busy": "2021-01-27T22:52:54.984344Z",
     "iopub.status.idle": "2021-01-27T22:52:54.989938Z",
     "shell.execute_reply": "2021-01-27T22:52:54.990454Z"
    },
    "papermill": {
     "duration": 0.090348,
     "end_time": "2021-01-27T22:52:54.990585",
     "exception": false,
     "start_time": "2021-01-27T22:52:54.900237",
     "status": "completed"
    },
    "tags": [],
    "trusted": true,
    "pycharm": {
     "name": "#%%\n"
    }
   },
   "cell_type": "code",
   "source": [
    "test.isna().sum()"
   ],
   "execution_count": null,
   "outputs": []
  },
  {
   "metadata": {
    "papermill": {
     "duration": 0.075935,
     "end_time": "2021-01-27T22:52:55.142836",
     "exception": false,
     "start_time": "2021-01-27T22:52:55.066901",
     "status": "completed"
    },
    "tags": [],
    "pycharm": {
     "name": "#%% md\n"
    }
   },
   "cell_type": "markdown",
   "source": [
    "So we only have missing values in Age, Cabin for both train and test, Embarked and Fare have missing values for train and test respectively, we can impute them simply using median or mean of the whole feature."
   ]
  },
  {
   "metadata": {
    "_kg_hide-input": true,
    "execution": {
     "iopub.execute_input": "2021-01-27T22:52:55.316326Z",
     "iopub.status.busy": "2021-01-27T22:52:55.309211Z",
     "iopub.status.idle": "2021-01-27T22:52:55.595684Z",
     "shell.execute_reply": "2021-01-27T22:52:55.596232Z"
    },
    "papermill": {
     "duration": 0.37734,
     "end_time": "2021-01-27T22:52:55.596386",
     "exception": false,
     "start_time": "2021-01-27T22:52:55.219046",
     "status": "completed"
    },
    "tags": [],
    "trusted": true,
    "pycharm": {
     "name": "#%%\n"
    }
   },
   "cell_type": "code",
   "source": [
    "plt.figure(figsize=(12, 8))\n",
    "sns.set(font_scale=1.5)\n",
    "sns.set_style('white')\n",
    "\n",
    "corr = train.corr()\n",
    "\n",
    "# Generate a mask for the upper triangle\n",
    "#mask = np.triu(np.ones_like(corr, dtype=bool))\n",
    "\n",
    "sns.heatmap(corr, cmap='coolwarm', annot=True, annot_kws={'size':15})\n",
    "plt.show()"
   ],
   "execution_count": null,
   "outputs": []
  },
  {
   "metadata": {
    "papermill": {
     "duration": 0.077498,
     "end_time": "2021-01-27T22:52:55.751223",
     "exception": false,
     "start_time": "2021-01-27T22:52:55.673725",
     "status": "completed"
    },
    "tags": [],
    "pycharm": {
     "name": "#%% md\n"
    }
   },
   "cell_type": "markdown",
   "source": [
    "Pclass correlates best with the age feature, so we should use the pclass to impute the missing age values!! now lets check if there are any relationship of age with respect to pclass and sex combined"
   ]
  },
  {
   "metadata": {
    "_kg_hide-input": true,
    "execution": {
     "iopub.execute_input": "2021-01-27T22:52:55.917407Z",
     "iopub.status.busy": "2021-01-27T22:52:55.916077Z",
     "iopub.status.idle": "2021-01-27T22:52:56.295741Z",
     "shell.execute_reply": "2021-01-27T22:52:56.295132Z"
    },
    "papermill": {
     "duration": 0.466866,
     "end_time": "2021-01-27T22:52:56.295876",
     "exception": false,
     "start_time": "2021-01-27T22:52:55.82901",
     "status": "completed"
    },
    "tags": [],
    "trusted": true,
    "pycharm": {
     "name": "#%%\n"
    }
   },
   "cell_type": "code",
   "source": [
    "plt.figure(figsize=(15, 8))\n",
    "plt.style.use('fivethirtyeight')\n",
    "#sns.set_style('ticks')\n",
    "PROPS = {\n",
    "    'boxprops':{'facecolor':'none', 'edgecolor':'black', 'linewidth':0.3},\n",
    "    'medianprops':{'color':'black', 'linewidth':1.5},\n",
    "    'whiskerprops':{'color':'black', 'linewidth':0.3},\n",
    "    'capprops':{'color':'black', 'linewidth':0.3},\n",
    "}\n",
    "\n",
    "sns.boxplot(x='Pclass', data=train, y='Age', hue='Sex', showfliers=False,  **PROPS)\n",
    "sns.stripplot(data=train, x='Pclass', hue='Sex', y='Age', palette=palette_binary_3, dodge=True)\n",
    "\n",
    "sns.despine()\n",
    "plt.legend(loc='upper right')\n",
    "plt.show()"
   ],
   "execution_count": null,
   "outputs": []
  },
  {
   "metadata": {
    "papermill": {
     "duration": 0.079935,
     "end_time": "2021-01-27T22:52:56.457861",
     "exception": false,
     "start_time": "2021-01-27T22:52:56.377926",
     "status": "completed"
    },
    "tags": [],
    "pycharm": {
     "name": "#%% md\n"
    }
   },
   "cell_type": "markdown",
   "source": [
    "We can see that the meidan age for each gender is slightly different and there is a general trend of decrease in median age for both the genders from Pclass 1 to 3."
   ]
  },
  {
   "metadata": {
    "papermill": {
     "duration": 0.080999,
     "end_time": "2021-01-27T22:52:56.619977",
     "exception": false,
     "start_time": "2021-01-27T22:52:56.538978",
     "status": "completed"
    },
    "tags": [],
    "pycharm": {
     "name": "#%% md\n"
    }
   },
   "cell_type": "markdown",
   "source": [
    "Now the next features with missing value is the Cabin feature, but the Cabin feature has a lot of missing value for us to arrive at a acceptable conclusion to impute missing values using correlation, and the feature has to many missing values for us to simply impute the missing values with the mean or median for the values of the feature."
   ]
  },
  {
   "metadata": {
    "_kg_hide-input": true,
    "execution": {
     "iopub.execute_input": "2021-01-27T22:52:56.794355Z",
     "iopub.status.busy": "2021-01-27T22:52:56.793249Z",
     "iopub.status.idle": "2021-01-27T22:52:57.165101Z",
     "shell.execute_reply": "2021-01-27T22:52:57.164461Z"
    },
    "papermill": {
     "duration": 0.464054,
     "end_time": "2021-01-27T22:52:57.16522",
     "exception": false,
     "start_time": "2021-01-27T22:52:56.701166",
     "status": "completed"
    },
    "tags": [],
    "trusted": true,
    "pycharm": {
     "name": "#%%\n"
    }
   },
   "cell_type": "code",
   "source": [
    "temp = train.copy()\n",
    "temp['Cabin'] = temp.Cabin.str.extract(pat='([A-Z])')\n",
    "\n",
    "fig, ax = plt.subplots(1, 2, figsize=(16, 8))\n",
    "plt.style.use('fivethirtyeight')\n",
    "\n",
    "sns.countplot(data=temp, x='Cabin', hue='Pclass', ax=ax[0], palette=palette_1)\n",
    "ax[0].set_title('Pclass-Cabin Proportions', x=0.28, y=1.04, size=25)\n",
    "\n",
    "temp.Cabin.fillna('missing', inplace=True)\n",
    "temp_missing = temp.loc[temp.Cabin == 'missing']\n",
    "\n",
    "sns.countplot(data=temp_missing, x='Cabin', hue='Pclass', palette=palette_1)\n",
    "ax[1].set_title('Missing Cabin proportions', x=0.27, y=1.04, size=25)\n",
    "\n",
    "sns.despine()\n",
    "plt.show()"
   ],
   "execution_count": null,
   "outputs": []
  },
  {
   "metadata": {
    "papermill": {
     "duration": 0.083785,
     "end_time": "2021-01-27T22:52:57.330976",
     "exception": false,
     "start_time": "2021-01-27T22:52:57.247191",
     "status": "completed"
    },
    "tags": [],
    "pycharm": {
     "name": "#%% md\n"
    }
   },
   "cell_type": "markdown",
   "source": [
    "One way to impute values would be to just fill in the Cabins using the proportions as shown above. The missing values for Cabins in Pclass 1 as we see in the right plot, are less than all the other classes and these missing values will be imputed into the Cabins A,B,C,D,E only as they are the only Cabins where the Pclass 1 passengers are present, depending upon the already available Pclass 1 passenger propotions in these Cabins as shown left plot, But imputing values like this will create noise in already available information!! We might get a great result if the missing values got imputed correctly, But that will depend upon luck. So we should just impute the missing value as 'missing', atleast we retain the already available information free of noise.\n",
    "\n",
    "We should also just simplify this feature and Combine Cabin A, B, C as deck ABC and D, E as DE and F, G as FG."
   ]
  },
  {
   "metadata": {
    "_kg_hide-input": true,
    "execution": {
     "iopub.execute_input": "2021-01-27T22:52:57.525106Z",
     "iopub.status.busy": "2021-01-27T22:52:57.516363Z",
     "iopub.status.idle": "2021-01-27T22:52:58.9136Z",
     "shell.execute_reply": "2021-01-27T22:52:58.913013Z"
    },
    "papermill": {
     "duration": 1.50098,
     "end_time": "2021-01-27T22:52:58.913709",
     "exception": false,
     "start_time": "2021-01-27T22:52:57.412729",
     "status": "completed"
    },
    "tags": [],
    "trusted": true,
    "pycharm": {
     "name": "#%%\n"
    }
   },
   "cell_type": "code",
   "source": [
    "temp = train.copy()\n",
    "temp['Cabin'] = temp.Cabin.str.extract(pat='([A-Z])')\n",
    "temp.Cabin.fillna('missing', inplace=True)\n",
    "\n",
    "sns.set(font_scale=1.4)\n",
    "plt.style.use('fivethirtyeight')\n",
    "\n",
    "fig, ax = plt.subplots(2, 2, figsize=(16, 17))\n",
    "sns.countplot(data=temp, x='Cabin', hue='Pclass', ax=ax[0, 0], palette=palette_5)\n",
    "ax[0, 0].set_title('Cabin-Pclass proportions', x=0.28, y=1.04, size=25)\n",
    "\n",
    "\n",
    "\n",
    "temp.Cabin.replace({'A':'ABC', 'B':'ABC', 'C':'ABC', \n",
    "                    'D':'DE', 'E':'DE', 'F':'FG', \n",
    "                    'G':'FG', 'T':'ABC', 'missing':'M'}, inplace=True)\n",
    "\n",
    "\n",
    "sns.countplot(data=temp, x='Cabin', hue='Pclass', ax=ax[0, 1], palette=palette_5)\n",
    "ax[0, 1].set_title('Deck-Pclass Proportions', x=0.27, y=1.04, size=25)\n",
    "ax[0, 1].set_xlabel('Deck', size=18)\n",
    "\n",
    "\n",
    "\n",
    "sns.barplot(data=temp, x='Cabin', y='Survived', hue='Pclass', ax=ax[1, 0], palette=palette_5)\n",
    "ax[1, 0].set_title('Deck Survival rate', x=0.18, y=1.02, size=25)\n",
    "ax[1, 0].set_xlabel('Deck', size=18)\n",
    "\n",
    "\n",
    "sns.barplot(data=temp, x='Cabin', y='Fare', hue='Pclass', ax=ax[1, 1], palette=palette_5)\n",
    "ax[1, 1].set_title('Deck Fare', x=0.1, y=1.02, size=25)\n",
    "ax[1, 1].set_xlabel('Deck', size=18)\n",
    "\n",
    "sns.despine()\n",
    "plt.show()"
   ],
   "execution_count": null,
   "outputs": []
  },
  {
   "metadata": {
    "papermill": {
     "duration": 0.084817,
     "end_time": "2021-01-27T22:52:59.082587",
     "exception": false,
     "start_time": "2021-01-27T22:52:58.99777",
     "status": "completed"
    },
    "tags": [],
    "pycharm": {
     "name": "#%% md\n"
    }
   },
   "cell_type": "markdown",
   "source": [
    "The feature looks more balanced now and we can see that now we can say that deck 'M' is the deck where most of the pclass 2 and 3 are present whereas deck ABC is where most pclass 1 are present. We can see from the plots that deck DE had the highest survival rate!!! and deck 'M' has the lowest survival rate. \n",
    "\n",
    "The great thing about this simplification from 'Cabin' to 'Deck' is that we have cornered the Pclass 2 and 3 passengers which had the lowest survival rates in new deck M we created!! in all the other decks it seems that they had better chance of survival!! Compare the **Deck-Pclass Proportions** and the **Deck Survival rate**, you can clearly see that those few Pclass 2 and 3 passenger in deck DE and FG have good survival chance, most of the Pclass 2 and 3 passengers are in the Deck 'M' and their survival rate is not good!!\n",
    "\n",
    "This feature helps to harness this pattern!!!"
   ]
  },
  {
   "metadata": {
    "papermill": {
     "duration": 0.084147,
     "end_time": "2021-01-27T22:52:59.251227",
     "exception": false,
     "start_time": "2021-01-27T22:52:59.16708",
     "status": "completed"
    },
    "tags": [],
    "pycharm": {
     "name": "#%% md\n"
    }
   },
   "cell_type": "markdown",
   "source": [
    "Lets impute the missing values as per the above understandings..."
   ]
  },
  {
   "metadata": {
    "execution": {
     "iopub.execute_input": "2021-01-27T22:52:59.431712Z",
     "iopub.status.busy": "2021-01-27T22:52:59.431059Z",
     "iopub.status.idle": "2021-01-27T22:52:59.433949Z",
     "shell.execute_reply": "2021-01-27T22:52:59.433299Z"
    },
    "papermill": {
     "duration": 0.09834,
     "end_time": "2021-01-27T22:52:59.434058",
     "exception": false,
     "start_time": "2021-01-27T22:52:59.335718",
     "status": "completed"
    },
    "tags": [],
    "trusted": true,
    "pycharm": {
     "name": "#%%\n"
    }
   },
   "cell_type": "code",
   "source": [
    "def imputer(df):\n",
    "    \n",
    "    # imputing missing age values\n",
    "    \n",
    "    age_impute_series = df.groupby(['Pclass', 'Sex']).Age.transform('mean')\n",
    "    df.Age.fillna(age_impute_series, inplace=True)\n",
    "    \n",
    "    # imputing Cabin missing value.\n",
    "    df.Cabin = df.Cabin.str.extract(pat='([A-Z])')\n",
    "    \n",
    "    df.Cabin.fillna('M', inplace=True)\n",
    "    \n",
    "    df['Deck'] = df.Cabin.replace({'A':'ABC', 'B':'ABC', 'C':'ABC', 'D':'DE', 'E':'DE', 'F':'FG', \n",
    "                                   'G':'FG', 'T':'ABC'}) # we will drop the Cabin here and only take Deck from here on with us!!\n",
    "    \n",
    "    df.drop('Cabin', axis=1, inplace=True)\n",
    "    \n",
    "    # lets just finally fill all the left over missig value with the mode of the feature.\n",
    "    for feature in df.columns:\n",
    "        df[feature].fillna(df[feature].mode()[0], inplace=True)\n",
    "        \n",
    "    return df"
   ],
   "execution_count": null,
   "outputs": []
  },
  {
   "metadata": {
    "execution": {
     "iopub.execute_input": "2021-01-27T22:52:59.619569Z",
     "iopub.status.busy": "2021-01-27T22:52:59.610637Z",
     "iopub.status.idle": "2021-01-27T22:52:59.647769Z",
     "shell.execute_reply": "2021-01-27T22:52:59.647104Z"
    },
    "papermill": {
     "duration": 0.129439,
     "end_time": "2021-01-27T22:52:59.6479",
     "exception": false,
     "start_time": "2021-01-27T22:52:59.518461",
     "status": "completed"
    },
    "tags": [],
    "trusted": true,
    "pycharm": {
     "name": "#%%\n"
    }
   },
   "cell_type": "code",
   "source": [
    "train_imputed = imputer(train.copy())\n",
    "test_imputed = imputer(test.copy())"
   ],
   "execution_count": null,
   "outputs": []
  },
  {
   "metadata": {
    "papermill": {
     "duration": 0.084346,
     "end_time": "2021-01-27T22:52:59.816343",
     "exception": false,
     "start_time": "2021-01-27T22:52:59.731997",
     "status": "completed"
    },
    "tags": [],
    "pycharm": {
     "name": "#%% md\n"
    }
   },
   "cell_type": "markdown",
   "source": [
    "## Feature creation through EDA\n",
    "\n",
    "\n",
    "### Target Distribution"
   ]
  },
  {
   "metadata": {
    "papermill": {
     "duration": 0.084969,
     "end_time": "2021-01-27T22:52:59.98561",
     "exception": false,
     "start_time": "2021-01-27T22:52:59.900641",
     "status": "completed"
    },
    "tags": [],
    "pycharm": {
     "name": "#%% md\n"
    }
   },
   "cell_type": "markdown",
   "source": [
    "This is an important EDA step, to explore the distribution of values of feature with the Target, this EDA step provides us with good understanding of the features and helps us uncover the possibility of feature simplification, combinination etc."
   ]
  },
  {
   "metadata": {
    "_kg_hide-input": true,
    "execution": {
     "iopub.execute_input": "2021-01-27T22:53:00.163136Z",
     "iopub.status.busy": "2021-01-27T22:53:00.16197Z",
     "iopub.status.idle": "2021-01-27T22:53:01.172262Z",
     "shell.execute_reply": "2021-01-27T22:53:01.172782Z"
    },
    "papermill": {
     "duration": 1.10312,
     "end_time": "2021-01-27T22:53:01.172944",
     "exception": false,
     "start_time": "2021-01-27T22:53:00.069824",
     "status": "completed"
    },
    "tags": [],
    "trusted": true,
    "pycharm": {
     "name": "#%%\n"
    }
   },
   "cell_type": "code",
   "source": [
    "cat_features = ['Pclass', 'Sex', 'SibSp', 'Parch', 'Deck', 'Embarked']\n",
    "\n",
    "plt.figure(figsize=(16, 14))\n",
    "sns.set(font_scale= 1.2)\n",
    "plt.style.use('fivethirtyeight')\n",
    "\n",
    "for i, feature in enumerate(cat_features):\n",
    "    plt.subplot(2, 3, i+1)\n",
    "    sns.countplot(data=train_imputed, x=feature, hue='Survived', palette=palette_6)  \n",
    "    \n",
    "sns.despine()"
   ],
   "execution_count": null,
   "outputs": []
  },
  {
   "metadata": {
    "papermill": {
     "duration": 0.086207,
     "end_time": "2021-01-27T22:53:01.346269",
     "exception": false,
     "start_time": "2021-01-27T22:53:01.260062",
     "status": "completed"
    },
    "tags": [],
    "pycharm": {
     "name": "#%% md\n"
    }
   },
   "cell_type": "markdown",
   "source": [
    "Everything looks great, there are trends which all the categories in categorical feature follow with target. We can observe that it will be beneficial to combine the SibSp and Parch into a common feature named Family_size and further simplification into category such as 'Alone', 'Small_family', 'large_family' can help us capture the trend better, which is that for small family the survival rate is better, a person is more likely to survive if they had 2 to 4 Family size(Parch + SibSp)!!"
   ]
  },
  {
   "metadata": {
    "_kg_hide-input": true,
    "execution": {
     "iopub.execute_input": "2021-01-27T22:53:01.537712Z",
     "iopub.status.busy": "2021-01-27T22:53:01.535303Z",
     "iopub.status.idle": "2021-01-27T22:53:02.971265Z",
     "shell.execute_reply": "2021-01-27T22:53:02.970504Z"
    },
    "papermill": {
     "duration": 1.538532,
     "end_time": "2021-01-27T22:53:02.971386",
     "exception": false,
     "start_time": "2021-01-27T22:53:01.432854",
     "status": "completed"
    },
    "tags": [],
    "trusted": true,
    "pycharm": {
     "name": "#%%\n"
    }
   },
   "cell_type": "code",
   "source": [
    "num_features = ['Fare', 'Age']\n",
    "plt.style.use('fivethirtyeight')\n",
    "\n",
    "plt.figure(figsize=(16, 14))\n",
    "for i, feature in enumerate(num_features):\n",
    "    plt.subplot(2, 2, i+1)\n",
    "    plt.hist(x=[train_imputed[feature][train_imputed['Survived'] == 1], train_imputed[feature][train_imputed['Survived']==0]],\n",
    "            stacked=True, label=['Survived', 'Not Survived'], bins=20, color=['orange', 'b'])\n",
    "    plt.legend()\n",
    "    plt.xlabel(f'{feature}', fontsize=15)\n",
    "    plt.ylabel('Count', fontsize=15)\n",
    "\n",
    "for i, feature in enumerate(num_features):\n",
    "    plt.subplot(2, 2, i+3)\n",
    "    sns.kdeplot(data=train_imputed, x=feature, hue='Survived', fill=True, palette=palette_binary_3)\n",
    "    \n",
    "sns.despine()"
   ],
   "execution_count": null,
   "outputs": []
  },
  {
   "metadata": {
    "papermill": {
     "duration": 0.089883,
     "end_time": "2021-01-27T22:53:03.153608",
     "exception": false,
     "start_time": "2021-01-27T22:53:03.063725",
     "status": "completed"
    },
    "tags": [],
    "pycharm": {
     "name": "#%% md\n"
    }
   },
   "cell_type": "markdown",
   "source": [
    "From the Fare plot we can see that as the fare increases the survival likelihood also increases, we might be able to simplify the Fare feature into bins and capture this trend in a better way, it might or might not be helpful to do so, so we will have to cross check this decision by **grid searching this through a pipeline**!! \n",
    "\n",
    "Age feature also shows possibility of simplification as we can see that at different age brackets the ratio of survived likelihood to not survived likelihood is varying alot... Lets bin them and see all this in action."
   ]
  },
  {
   "metadata": {
    "papermill": {
     "duration": 0.088776,
     "end_time": "2021-01-27T22:53:03.331453",
     "exception": false,
     "start_time": "2021-01-27T22:53:03.242677",
     "status": "completed"
    },
    "tags": [],
    "pycharm": {
     "name": "#%% md\n"
    }
   },
   "cell_type": "markdown",
   "source": [
    "### Binning the Fare feature"
   ]
  },
  {
   "metadata": {
    "_kg_hide-input": true,
    "execution": {
     "iopub.execute_input": "2021-01-27T22:53:03.518719Z",
     "iopub.status.busy": "2021-01-27T22:53:03.517989Z",
     "iopub.status.idle": "2021-01-27T22:53:03.76013Z",
     "shell.execute_reply": "2021-01-27T22:53:03.759377Z"
    },
    "papermill": {
     "duration": 0.340199,
     "end_time": "2021-01-27T22:53:03.760324",
     "exception": false,
     "start_time": "2021-01-27T22:53:03.420125",
     "status": "completed"
    },
    "tags": [],
    "trusted": true,
    "pycharm": {
     "name": "#%%\n"
    }
   },
   "cell_type": "code",
   "source": [
    "temp = train_imputed.copy()\n",
    "temp['Fare'] = pd.qcut(temp.Fare, 7)\n",
    "plt.style.use('fivethirtyeight')\n",
    "\n",
    "plt.figure(figsize=(15, 8))\n",
    "sns.countplot(data=temp, x='Fare', hue='Survived', palette=palette_binary_2)\n",
    "\n",
    "plt.ylabel('Count', fontsize=18, labelpad=5)\n",
    "plt.xlabel('Fare', fontsize=18, labelpad=10)\n",
    "plt.tick_params(axis='x', labelsize=13)\n",
    "\n",
    "plt.title('Fare Categories Survival Count plot', y=1.03, fontsize=25, loc='Left')\n",
    "sns.despine()\n",
    "plt.show()"
   ],
   "execution_count": null,
   "outputs": []
  },
  {
   "metadata": {
    "papermill": {
     "duration": 0.091021,
     "end_time": "2021-01-27T22:53:03.943128",
     "exception": false,
     "start_time": "2021-01-27T22:53:03.852107",
     "status": "completed"
    },
    "tags": [],
    "pycharm": {
     "name": "#%% md\n"
    }
   },
   "cell_type": "markdown",
   "source": [
    "Yup!! looks great, this is the trend we observed in the plot in last section. Binning helped us express this relation better or we can say that we are able it visualize this feature better as humans, but maybe the continuous form is better as per the algorithm... But atleast we know what we wish to check out by asking this question to our model that what it likes and what it does not(*More on this in Data set creation section*)!! \n",
    "\n",
    "If we wish to use the feature as above, we will have to perform Ordinal encoding, where we encode the higher fare category with higher numeric value, for eg:- (-0.001, 7.55] -> 1, (7.55, 7.854] -> 2, (7.854, 8.05] -> 3 and so on. \n",
    "\n",
    "**Warning**:-\n",
    "\n",
    "We can use LabelEncoder from scikit learn api to perform ordinal encoding only because there is order already present in our category which can be correctly understood by the LabelEncoder. But if the order present cannot be understood by the LabelEncoder for eg: Freezing, Cold, Warm, Hot, Lava Hot will be encoded as 2, 1, 5, 3, 4 on the basis of alphabetical order, which is not the correct order for this ordinal feature, it should be 1, 2, 3, 4, 5!! \n",
    "\n",
    "**Always beware of this trap!!!**"
   ]
  },
  {
   "metadata": {
    "papermill": {
     "duration": 0.092332,
     "end_time": "2021-01-27T22:53:04.126659",
     "exception": false,
     "start_time": "2021-01-27T22:53:04.034327",
     "status": "completed"
    },
    "tags": [],
    "pycharm": {
     "name": "#%% md\n"
    }
   },
   "cell_type": "markdown",
   "source": [
    "### Binning age feature"
   ]
  },
  {
   "metadata": {
    "_kg_hide-input": true,
    "execution": {
     "iopub.execute_input": "2021-01-27T22:53:04.318426Z",
     "iopub.status.busy": "2021-01-27T22:53:04.317363Z",
     "iopub.status.idle": "2021-01-27T22:53:04.823878Z",
     "shell.execute_reply": "2021-01-27T22:53:04.82323Z"
    },
    "papermill": {
     "duration": 0.60681,
     "end_time": "2021-01-27T22:53:04.823987",
     "exception": false,
     "start_time": "2021-01-27T22:53:04.217177",
     "status": "completed"
    },
    "tags": [],
    "trusted": true,
    "pycharm": {
     "name": "#%%\n"
    }
   },
   "cell_type": "code",
   "source": [
    "temp = train_imputed.copy()\n",
    "temp['Age_cat'] = pd.cut(temp.Age, bins=[0, 5, 24, 30, 36, np.inf])\n",
    "temp['Age_qcat'] = pd.qcut(temp.Age, 15, precision=2)\n",
    "\n",
    "fig, ax = plt.subplots(2, 1, figsize=(15, 14))\n",
    "plt.style.use('fivethirtyeight')\n",
    "\n",
    "sns.countplot(data=temp, x='Age_qcat', hue='Survived', ax=ax[0], palette=palette_binary_3)\n",
    "ax[0].tick_params(axis='x', labelsize=9)\n",
    "\n",
    "sns.countplot(data=temp, x='Age_cat', hue='Survived', ax=ax[1], palette=palette_binary_3)\n",
    "\n",
    "sns.despine()\n",
    "plt.show()"
   ],
   "execution_count": null,
   "outputs": []
  },
  {
   "metadata": {
    "papermill": {
     "duration": 0.091967,
     "end_time": "2021-01-27T22:53:05.008318",
     "exception": false,
     "start_time": "2021-01-27T22:53:04.916351",
     "status": "completed"
    },
    "tags": [],
    "pycharm": {
     "name": "#%% md\n"
    }
   },
   "cell_type": "markdown",
   "source": [
    "from the second plot we can see that (0.0, 5.0] is a great age bracket for survival, whereas (24.0, 34.0] is the worst, for the (30.0, 36.0] category chances seems to 50-50, i have also plotted a qcut plot with 15 quantiles, just to show that how i visualized the age distributions in the second plot, for the second plot i wanted to have categories with some significant info gain, the above plot shows some good survival rate distribution for the categories we have selected after we went through the first plot.... Just a small trick to bin features to get better info gain for beginners to keep in mind.. \n",
    "\n",
    "**After testing out**:\n",
    "\n",
    "The Age_cat feature improved the results for XGBClassifier and the GradientBoostingCLassifier significantly, observed 1% improvement from continuous age feature to Age_cat!!!"
   ]
  },
  {
   "metadata": {
    "papermill": {
     "duration": 0.091478,
     "end_time": "2021-01-27T22:53:05.191372",
     "exception": false,
     "start_time": "2021-01-27T22:53:05.099894",
     "status": "completed"
    },
    "tags": [],
    "pycharm": {
     "name": "#%% md\n"
    }
   },
   "cell_type": "markdown",
   "source": [
    "For the titanc dataset many have observed that binning the continuous features helped improve the results slightly, as you can see that binning can let you express the survival chances a little better and in a simpler way, So always test this out with other datasets you work with and test out whether it helps or not!!"
   ]
  },
  {
   "metadata": {
    "papermill": {
     "duration": 0.092984,
     "end_time": "2021-01-27T22:53:05.377605",
     "exception": false,
     "start_time": "2021-01-27T22:53:05.284621",
     "status": "completed"
    },
    "tags": [],
    "pycharm": {
     "name": "#%% md\n"
    }
   },
   "cell_type": "markdown",
   "source": [
    "### Ticket based features"
   ]
  },
  {
   "metadata": {
    "papermill": {
     "duration": 0.092829,
     "end_time": "2021-01-27T22:53:05.564591",
     "exception": false,
     "start_time": "2021-01-27T22:53:05.471762",
     "status": "completed"
    },
    "tags": [],
    "pycharm": {
     "name": "#%% md\n"
    }
   },
   "cell_type": "markdown",
   "source": [
    "Ticket feature contains tickets with few of them with alphabets and some of them with only numbers, we could extract this relation but it might not be useful as it may be the case that this relation is related to the Embarked feature and depending upon where you Embarked you might have ticket code in only numbers or with some alphabets... rather we can also extract the frequency of tickets, there are people with same ticket numbers which shows that group of friends and family travelled together and with same ticket number.\n",
    "\n",
    "first lets check out if just dividing ticket into ticket with alphabets and only numeric serial code helps or not... Then we will perform even finer ticket categorization."
   ]
  },
  {
   "metadata": {
    "_kg_hide-input": true,
    "execution": {
     "iopub.execute_input": "2021-01-27T22:53:05.773202Z",
     "iopub.status.busy": "2021-01-27T22:53:05.771897Z",
     "iopub.status.idle": "2021-01-27T22:53:06.763973Z",
     "shell.execute_reply": "2021-01-27T22:53:06.763248Z"
    },
    "papermill": {
     "duration": 1.10593,
     "end_time": "2021-01-27T22:53:06.764086",
     "exception": false,
     "start_time": "2021-01-27T22:53:05.658156",
     "status": "completed"
    },
    "tags": [],
    "trusted": true,
    "pycharm": {
     "name": "#%%\n"
    }
   },
   "cell_type": "code",
   "source": [
    "temp = train_imputed.copy()\n",
    "temp['Ticket_type'] = pd.Series(np.where(temp.Ticket.str.contains(pat='[A-Z]'), 'alphabet', 'numeric'), index=temp.index)\n",
    "temp['Fare_cat'] = pd.qcut(temp.Fare, 7, precision=2)\n",
    "\n",
    "y=1.01\n",
    "size=17\n",
    "fig, ax = plt.subplots(3, 2, figsize=(16, 19))\n",
    "plt.subplots_adjust(hspace=0.3)\n",
    "\n",
    "sns.set(font_scale=1)\n",
    "plt.style.use('fivethirtyeight')\n",
    "\n",
    "sns.countplot(data=temp, x='Embarked', hue='Ticket_type', ax=ax[0, 0], palette=palette_3)\n",
    "ax[0, 0].set_title('Ticket Type V/s Embarked', size=size, loc='Left', y=y)\n",
    "\n",
    "\n",
    "sns.countplot(data=temp, x='Pclass', hue='Ticket_type', ax=ax[0, 1], palette=palette_3)\n",
    "ax[0, 1].set_title('Pclass V/s Ticket Type', size=size, loc='Left', y=y)\n",
    "\n",
    "sns.countplot(data=temp, x='Embarked', hue='Pclass', ax=ax[1, 0], palette=palette_3)\n",
    "ax[1, 0].set_title('Pclass V/s Embarked', size=size, loc='Left', y=y)\n",
    "\n",
    "sns.countplot(data=temp, x='Fare_cat', hue='Ticket_type', ax=ax[1, 1], palette=palette_3)\n",
    "ax[1, 1].set_title('Fare Category V/s Ticket type', size=size, loc='Left', y=y)\n",
    "ax[1, 1].tick_params(axis='x', labelsize=9.5)\n",
    "\n",
    "sns.countplot(data=temp, x='Ticket_type', hue='Survived', ax=ax[2, 0], palette=palette_3)\n",
    "ax[2, 0].set_title('Ticket_type - Survived Plot', size=size, loc='Left', y=y)\n",
    "\n",
    "sns.countplot(data=temp, x='Deck', hue='Ticket_type', ax=ax[2, 1], palette=palette_3)\n",
    "ax[2, 1].set_title('Ticket_type - Deck Plot', size=size, loc='Left', y=y)\n",
    "\n",
    "sns.despine()\n",
    "plt.show()"
   ],
   "execution_count": null,
   "outputs": []
  },
  {
   "metadata": {
    "papermill": {
     "duration": 0.095963,
     "end_time": "2021-01-27T22:53:06.955485",
     "exception": false,
     "start_time": "2021-01-27T22:53:06.859522",
     "status": "completed"
    },
    "tags": [],
    "pycharm": {
     "name": "#%% md\n"
    }
   },
   "cell_type": "markdown",
   "source": [
    "As seen from above, no general trend is visible by categorizing ticket with or without alphabets. There are few points to note though: \n",
    "* Mostly numeric tickets were sold at the 'Q' which is Queenstown.\n",
    "* Proportion of ticket with alphabets bought is less for Pclass 3 as seen from 'Pclass V/s Ticket type plot'.\n",
    "\n",
    "\n",
    "Ticket type does not show any patterns in the Fare V/s Ticket type plot..... it was kind of disappointing :(\n",
    "\n",
    "Overall there is no pattern in Ticket type V/s Fare, Deck, Pclass.... This feature does not look that good.\n",
    "\n",
    "\n",
    "Finally, it may become useful... again.. you already know by now :D...we will have to test it out in Dataset creation section using grid search.\n",
    "\n",
    "\n",
    "Now lets extract even finer ticket types, maybe model finds some use out of it... we should check it out!!"
   ]
  },
  {
   "metadata": {
    "_kg_hide-input": true,
    "execution": {
     "iopub.execute_input": "2021-01-27T22:53:07.169505Z",
     "iopub.status.busy": "2021-01-27T22:53:07.167904Z",
     "iopub.status.idle": "2021-01-27T22:53:08.405355Z",
     "shell.execute_reply": "2021-01-27T22:53:08.404675Z"
    },
    "papermill": {
     "duration": 1.354609,
     "end_time": "2021-01-27T22:53:08.405482",
     "exception": false,
     "start_time": "2021-01-27T22:53:07.050873",
     "status": "completed"
    },
    "tags": [],
    "trusted": true,
    "pycharm": {
     "name": "#%%\n"
    }
   },
   "cell_type": "code",
   "source": [
    "def ticket_extractor(ticket):\n",
    "    alpha = re.sub('\\d', '', ticket)\n",
    "    if alpha:\n",
    "        return alpha\n",
    "    else:\n",
    "        num = re.search('\\d{1,9}', ticket)\n",
    "        return ticket\n",
    "    \n",
    "temp = train_imputed.copy()\n",
    "temp['Ticket_extracted'] = temp.Ticket.apply(ticket_extractor)\n",
    "for i in range(len(temp.Ticket)):\n",
    "    try:\n",
    "        int(temp.Ticket_extracted.iloc[i])\n",
    "        temp.Ticket_extracted.iloc[i] = f'Num_{len(temp.Ticket_extracted.iloc[i])}'\n",
    "    except:\n",
    "        continue\n",
    "        \n",
    "for label, pattern in [('_ca', 'C[.]?A[.]?'), ('_PC', 'PC'), ('_SOTON', 'SOTON'), ('_STON', 'STON'), \n",
    "                       ('_WC', 'W[.]?[/]?C'), ('_SC', 'S[.]?C[.]?'), ('_A', 'A[.]?'), ('_SOC', 'S[.]?O[.]?[/]?C'), \n",
    "                       ('_PP', 'PP'), ('_FC', '(F.C.|F.C.C.)'), ('_LS_number', 'Num_(6|7)'), ('_SS_number', 'Num_(3|4|5)'), \n",
    "                       ('rare', '^[^_]')]:\n",
    "    temp.Ticket_extracted[temp.Ticket_extracted.str.contains(pattern)] = label\n",
    "    \n",
    "temp['Ticket_extracted'].value_counts(dropna=False)\n",
    "\n",
    "fig, ax = plt.subplots(2, 1, figsize=(15, 15))\n",
    "plt.style.use('fivethirtyeight')\n",
    "\n",
    "sns.countplot(data=temp, x='Ticket_extracted', hue='Survived', ax=ax[0], palette=palette_6)\n",
    "ax[0].set_title('Extracted Ticket - Survival \"count\" plot', size=20, loc='Left', y=1.03)\n",
    "\n",
    "sns.barplot(data=temp, x='Ticket_extracted', y='Survived', ax=ax[1], palette=palette_6)\n",
    "ax[1].set_title('Extracted Ticket - Survival \"chance\" plot', size=20, loc='Left', y=1.03)\n",
    "\n",
    "sns.despine()\n",
    "plt.show()"
   ],
   "execution_count": null,
   "outputs": []
  },
  {
   "metadata": {
    "papermill": {
     "duration": 0.100802,
     "end_time": "2021-01-27T22:53:08.610563",
     "exception": false,
     "start_time": "2021-01-27T22:53:08.509761",
     "status": "completed"
    },
    "tags": [],
    "pycharm": {
     "name": "#%% md\n"
    }
   },
   "cell_type": "markdown",
   "source": [
    "Looks decent, what attracts my attention is the ticket A, PC, CA, Large_Serial_number and Small_Serial_number as they are quite a few of these tickets to be confident in the survival chances shown by these tickets. This feature might help us improve the probability of survival of few passengers and may push there probability of survival over 50% if they actually survived, to get classified as survived, which is actually the problem with many instances as they get classified as not survived, i.e probability of survival is lower than 50%."
   ]
  },
  {
   "metadata": {
    "_kg_hide-input": true,
    "execution": {
     "iopub.execute_input": "2021-01-27T22:53:08.829384Z",
     "iopub.status.busy": "2021-01-27T22:53:08.817563Z",
     "iopub.status.idle": "2021-01-27T22:53:09.398903Z",
     "shell.execute_reply": "2021-01-27T22:53:09.398189Z"
    },
    "papermill": {
     "duration": 0.689889,
     "end_time": "2021-01-27T22:53:09.399023",
     "exception": false,
     "start_time": "2021-01-27T22:53:08.709134",
     "status": "completed"
    },
    "tags": [],
    "trusted": true,
    "pycharm": {
     "name": "#%%\n"
    }
   },
   "cell_type": "code",
   "source": [
    "temp['Ticket_frequency'] =temp.Ticket.map(temp.Ticket.value_counts(dropna=False))\n",
    "temp['Fare_cat'] = pd.qcut(temp.Fare, 7, precision=2)\n",
    "\n",
    "y=1.03\n",
    "size=25\n",
    "fig, ax = plt.subplots(2, 1, figsize=(15, 15))\n",
    "sns.set(font_scale=1.4)\n",
    "plt.style.use('fivethirtyeight')\n",
    "\n",
    "sns.countplot(data=temp, x='Ticket_frequency', hue='Survived', ax=ax[0], palette=palette_2)\n",
    "ax[0].set_title('Ticket frequency - Survived Plot', loc='Left', y=y, size=size)\n",
    "ax[0].set_xlabel('')\n",
    "ax[0].set_ylabel('')\n",
    "\n",
    "sns.countplot(data=temp, x='Fare_cat', hue='Ticket_frequency', ax=ax[1], palette=palette_2)\n",
    "ax[1].set_title('Ticket frequency - Fare category Plot', loc='Left', y=y, size=size)\n",
    "ax[1].set_xlabel('')\n",
    "ax[1].set_ylabel('')\n",
    "\n",
    "sns.despine()\n",
    "plt.show()"
   ],
   "execution_count": null,
   "outputs": []
  },
  {
   "metadata": {
    "papermill": {
     "duration": 0.102305,
     "end_time": "2021-01-27T22:53:09.604402",
     "exception": false,
     "start_time": "2021-01-27T22:53:09.502097",
     "status": "completed"
    },
    "tags": [],
    "pycharm": {
     "name": "#%% md\n"
    }
   },
   "cell_type": "markdown",
   "source": [
    "**Findings:**\n",
    "* We can clearly see from the above plot that the survival chance for people with ticket frequency from 2-4 was more.\n",
    "* We were also able to uncover new information, it seems that higher frequency mean higher ticket fare which is actually the cummulative ticket price for all passenger, which means that Fare column does not contain the fare for an individual person but the total fare for a group with same ticket!! \n",
    "* we might be able to derive a new feature which is fare_per_individual, lets check it out if it is good or not!!"
   ]
  },
  {
   "metadata": {
    "_kg_hide-input": true,
    "execution": {
     "iopub.execute_input": "2021-01-27T22:53:09.830489Z",
     "iopub.status.busy": "2021-01-27T22:53:09.825224Z",
     "iopub.status.idle": "2021-01-27T22:53:10.647581Z",
     "shell.execute_reply": "2021-01-27T22:53:10.646812Z"
    },
    "papermill": {
     "duration": 0.942546,
     "end_time": "2021-01-27T22:53:10.647718",
     "exception": false,
     "start_time": "2021-01-27T22:53:09.705172",
     "status": "completed"
    },
    "tags": [],
    "trusted": true,
    "pycharm": {
     "name": "#%%\n"
    }
   },
   "cell_type": "code",
   "source": [
    "temp = train_imputed.copy()\n",
    "temp['Ticket_frequency'] =temp.Ticket.map(temp.Ticket.value_counts(dropna=False))\n",
    "temp['Fare_cat'] = pd.qcut(temp.Fare, 7, precision=2)\n",
    "temp['Fare_per_individual'] = temp['Fare'] / temp['Ticket_frequency']\n",
    "temp['Fare_per_individual_cat'] = pd.qcut(temp.Fare_per_individual, 7, precision=2)\n",
    "\n",
    "y = 1.03\n",
    "size = 18\n",
    "sns.set(font_scale=1.2)\n",
    "plt.style.use('fivethirtyeight')\n",
    "fig, ax = plt.subplots(1, 2, figsize=(16, 7), sharey=True)\n",
    "\n",
    "sns.kdeplot(data=temp, x='Fare_per_individual', hue='Survived', clip=[0, 200], fill=True, ax=ax[0], palette=palette_binary_3)\n",
    "\n",
    "sns.kdeplot(data=temp, x='Fare', hue='Survived', clip=[0, 200],  fill=True, ax=ax[1], palette=palette_binary_3)\n",
    "ax[1].set_ylabel('')\n",
    "sns.despine()\n",
    "\n",
    "fig, ax = plt.subplots(1, 2, figsize=(16, 7), sharey=True)\n",
    "\n",
    "sns.countplot(data=temp, x='Fare_per_individual_cat', hue='Survived', ax=ax[0], palette=palette_binary_3)\n",
    "ax[0].tick_params(axis='x', labelsize=9.5)\n",
    "#ax[0].set_ylabel('')\n",
    "#ax[0].set_xlabel('')\n",
    "\n",
    "sns.countplot(data=temp, x='Fare_cat', hue='Survived', ax=ax[1], palette=palette_binary_3)\n",
    "ax[1].tick_params(axis='x', labelsize=9.5)\n",
    "ax[1].set_ylabel('')\n",
    "#ax[1].set_xlabel('')\n",
    "\n",
    "sns.despine()\n",
    "plt.show()"
   ],
   "execution_count": null,
   "outputs": []
  },
  {
   "metadata": {
    "papermill": {
     "duration": 0.10408,
     "end_time": "2021-01-27T22:53:10.859113",
     "exception": false,
     "start_time": "2021-01-27T22:53:10.755033",
     "status": "completed"
    },
    "tags": [],
    "pycharm": {
     "name": "#%% md\n"
    }
   },
   "cell_type": "markdown",
   "source": [
    "**Findings :**\n",
    "* From the above plot we can see that the probability distribution function did not show much difference, for the fare_per_individual it just got squeezed to the left and the corresponding values in the y axis were scaled equally...\n",
    "* But when we tried out making fare_per_individual category, we can see that fare_per_individual category gave us a better steady increase in survival rate from left to righ!!! \n",
    "\n",
    "Until now we have Pointed out a lot of possibilities for feature engineering and there so many tough decisions to make as per what to keep and what to drop, we only want the best, informative features to achieve best results, But there is no shortcut to this, we cannot just simply know what works best with the given data and our models.... We will have to test it all out!! Though the Feature Engineering class will help us to quickly narrow down our search for the best data sets by quickly dropping out dataset made by selecting features which are not good. "
   ]
  },
  {
   "metadata": {
    "papermill": {
     "duration": 0.102216,
     "end_time": "2021-01-27T22:53:11.06497",
     "exception": false,
     "start_time": "2021-01-27T22:53:10.962754",
     "status": "completed"
    },
    "tags": [],
    "pycharm": {
     "name": "#%% md\n"
    }
   },
   "cell_type": "markdown",
   "source": [
    "### Family Size Feature"
   ]
  },
  {
   "metadata": {
    "papermill": {
     "duration": 0.101127,
     "end_time": "2021-01-27T22:53:11.26752",
     "exception": false,
     "start_time": "2021-01-27T22:53:11.166393",
     "status": "completed"
    },
    "tags": [],
    "pycharm": {
     "name": "#%% md\n"
    }
   },
   "cell_type": "markdown",
   "source": [
    "In the data provided to us, each individual has a SibSp and Parch, so if we add these features together for an individual and add 1 to it, 1 being the individual themself, we can create a new feature Family_size.\n",
    "\n",
    "It is an important feature as it reveals that passengers with family size 2 - 4 had a better survival rate than passengers travelling alone or who had larger families."
   ]
  },
  {
   "metadata": {
    "_kg_hide-input": true,
    "execution": {
     "iopub.execute_input": "2021-01-27T22:53:11.488594Z",
     "iopub.status.busy": "2021-01-27T22:53:11.487409Z",
     "iopub.status.idle": "2021-01-27T22:53:11.721771Z",
     "shell.execute_reply": "2021-01-27T22:53:11.721063Z"
    },
    "papermill": {
     "duration": 0.353068,
     "end_time": "2021-01-27T22:53:11.721924",
     "exception": false,
     "start_time": "2021-01-27T22:53:11.368856",
     "status": "completed"
    },
    "tags": [],
    "trusted": true,
    "pycharm": {
     "name": "#%%\n"
    }
   },
   "cell_type": "code",
   "source": [
    "temp = train_imputed.copy()\n",
    "temp['Family_size'] = temp['SibSp'] + temp['Parch'] + 1\n",
    "plt.style.use('fivethirtyeight')\n",
    "\n",
    "fig, ax = plt.subplots(1, 1, figsize=(15, 8))\n",
    "sns.countplot(data=temp, x='Family_size', hue='Survived', ax=ax, palette=palette_5)\n",
    "ax.set_title('Family Size - Survived Plot', size=25, loc='Left', y=1.04)\n",
    "\n",
    "sns.despine()\n",
    "plt.show()"
   ],
   "execution_count": null,
   "outputs": []
  },
  {
   "metadata": {
    "papermill": {
     "duration": 0.105847,
     "end_time": "2021-01-27T22:53:11.936261",
     "exception": false,
     "start_time": "2021-01-27T22:53:11.830414",
     "status": "completed"
    },
    "tags": [],
    "pycharm": {
     "name": "#%% md\n"
    }
   },
   "cell_type": "markdown",
   "source": [
    "Looks great!! the survival pattern is quite clear... but can we simplify and combine the family size 2-4 as 'small family' and family size of 1 as 'alone' to simplify the feature?"
   ]
  },
  {
   "metadata": {
    "_kg_hide-input": true,
    "execution": {
     "iopub.execute_input": "2021-01-27T22:53:12.155025Z",
     "iopub.status.busy": "2021-01-27T22:53:12.153564Z",
     "iopub.status.idle": "2021-01-27T22:53:12.331612Z",
     "shell.execute_reply": "2021-01-27T22:53:12.331091Z"
    },
    "papermill": {
     "duration": 0.290497,
     "end_time": "2021-01-27T22:53:12.331725",
     "exception": false,
     "start_time": "2021-01-27T22:53:12.041228",
     "status": "completed"
    },
    "tags": [],
    "trusted": true,
    "pycharm": {
     "name": "#%%\n"
    }
   },
   "cell_type": "code",
   "source": [
    "temp['Family_size_cat'] = temp['Family_size'].replace({1:'alone', 2:'small_family', 3:'small_family', 4:'small_family'\n",
    "                                                      ,5:'large_family', 6:'large_family', 7:'large_family'\n",
    "                                                      ,8:'large_family', 9:'large_family', 10:'large_family', \n",
    "                                                       11:'large_family'})\n",
    "\n",
    "fig, ax = plt.subplots(1, 1, figsize=(15, 8))\n",
    "plt.style.use('fivethirtyeight')\n",
    "\n",
    "sns.countplot(data=temp, x='Family_size_cat', hue='Survived', ax=ax, palette=palette_binary_2)\n",
    "ax.set_title('Family Category - Survived Plot', size=25, loc='Left', y=1.04)\n",
    "\n",
    "sns.despine()\n",
    "plt.show()"
   ],
   "execution_count": null,
   "outputs": []
  },
  {
   "metadata": {
    "papermill": {
     "duration": 0.104446,
     "end_time": "2021-01-27T22:53:12.541612",
     "exception": false,
     "start_time": "2021-01-27T22:53:12.437166",
     "status": "completed"
    },
    "tags": [],
    "pycharm": {
     "name": "#%% md\n"
    }
   },
   "cell_type": "markdown",
   "source": [
    "Yup, things look simpler and neat!! But again, it looks good to us but model might not find it as helpful as we think, maybe it could have found patterns with those family size numbers and some other feature, which it would not be able to harness as easily now, you never know... what we can be sure about is that we have made the feature simpler, if we one hot encode it we will have fewer dimensions, which is a good thing. Lets say we had many features which had to be one hot encoded but there cardinality(number of different categories in categorical feature) was high, label encoding was not an option and if we one hot encoded the feature we would be struck by curse of dimensionality, in such case if all the categorical features could be simplified in such a easy, beautiful way, nothing like that!!\n",
    "\n",
    "But we do not have that problem at present, we have a small dataset and not aot of features with high cardinality, so we will have to figure out whether this feature helps or not. "
   ]
  },
  {
   "metadata": {
    "papermill": {
     "duration": 0.104243,
     "end_time": "2021-01-27T22:53:12.751746",
     "exception": false,
     "start_time": "2021-01-27T22:53:12.647503",
     "status": "completed"
    },
    "tags": [],
    "pycharm": {
     "name": "#%% md\n"
    }
   },
   "cell_type": "markdown",
   "source": [
    "### Name Length Feature"
   ]
  },
  {
   "metadata": {
    "papermill": {
     "duration": 0.104939,
     "end_time": "2021-01-27T22:53:12.962278",
     "exception": false,
     "start_time": "2021-01-27T22:53:12.857339",
     "status": "completed"
    },
    "tags": [],
    "pycharm": {
     "name": "#%% md\n"
    }
   },
   "cell_type": "markdown",
   "source": [
    "One of the features that can be derived from the Name feature is the Name length, the idea behind this is that people with higher status usually had longer names, we can use this fact to create a feature with name lengths."
   ]
  },
  {
   "metadata": {
    "_kg_hide-input": true,
    "execution": {
     "iopub.execute_input": "2021-01-27T22:53:13.192074Z",
     "iopub.status.busy": "2021-01-27T22:53:13.185943Z",
     "iopub.status.idle": "2021-01-27T22:53:13.555932Z",
     "shell.execute_reply": "2021-01-27T22:53:13.555383Z"
    },
    "papermill": {
     "duration": 0.488792,
     "end_time": "2021-01-27T22:53:13.55605",
     "exception": false,
     "start_time": "2021-01-27T22:53:13.067258",
     "status": "completed"
    },
    "tags": [],
    "trusted": true,
    "pycharm": {
     "name": "#%%\n"
    }
   },
   "cell_type": "code",
   "source": [
    "temp = train_imputed.copy()\n",
    "temp['Name_length'] = temp.Name.str.replace(pat='[^a-zA-Z]', repl='').str.len()\n",
    "plt.style.use('fivethirtyeight')\n",
    "\n",
    "fig, ax = plt.subplots(1, 1, figsize=(16, 6))\n",
    "sns.histplot(data=temp, x='Name_length', hue='Survived', kde=True, fill=True, ax=ax, palette=palette_binary_3)\n",
    "ax.set_title('Name Length - Survived Plot', size=20, loc='Left', y=1.03)\n",
    "\n",
    "sns.despine()\n",
    "plt.show()"
   ],
   "execution_count": null,
   "outputs": []
  },
  {
   "metadata": {
    "papermill": {
     "duration": 0.105205,
     "end_time": "2021-01-27T22:53:13.769608",
     "exception": false,
     "start_time": "2021-01-27T22:53:13.664403",
     "status": "completed"
    },
    "tags": [],
    "pycharm": {
     "name": "#%% md\n"
    }
   },
   "cell_type": "markdown",
   "source": [
    "Great!! we can see that with increase in the name length the survival rate increases!! from about name_length 26 more pople with name length more than 26 survived than not survived."
   ]
  },
  {
   "metadata": {
    "papermill": {
     "duration": 0.115418,
     "end_time": "2021-01-27T22:53:14.014388",
     "exception": false,
     "start_time": "2021-01-27T22:53:13.89897",
     "status": "completed"
    },
    "tags": [],
    "pycharm": {
     "name": "#%% md\n"
    }
   },
   "cell_type": "markdown",
   "source": [
    "### Name Title"
   ]
  },
  {
   "metadata": {
    "execution": {
     "iopub.execute_input": "2021-01-27T22:53:14.247336Z",
     "iopub.status.busy": "2021-01-27T22:53:14.246315Z",
     "iopub.status.idle": "2021-01-27T22:53:14.249189Z",
     "shell.execute_reply": "2021-01-27T22:53:14.248491Z"
    },
    "papermill": {
     "duration": 0.12718,
     "end_time": "2021-01-27T22:53:14.249309",
     "exception": false,
     "start_time": "2021-01-27T22:53:14.122129",
     "status": "completed"
    },
    "tags": [],
    "trusted": true,
    "pycharm": {
     "name": "#%%\n"
    }
   },
   "cell_type": "code",
   "source": [
    "temp = train_imputed.copy()\n",
    "\n",
    "temp['Title'] = temp.Name.str.extract(pat='([a-zA-Z]+\\.)')\n",
    "\n",
    "temp.Title[~temp.Title.isin(['Mr.', 'Miss.', 'Mrs.', 'Master.'])] = 'rare'"
   ],
   "execution_count": null,
   "outputs": []
  },
  {
   "metadata": {
    "_kg_hide-input": true,
    "execution": {
     "iopub.execute_input": "2021-01-27T22:53:14.473973Z",
     "iopub.status.busy": "2021-01-27T22:53:14.473218Z",
     "iopub.status.idle": "2021-01-27T22:53:14.654101Z",
     "shell.execute_reply": "2021-01-27T22:53:14.653508Z"
    },
    "papermill": {
     "duration": 0.295657,
     "end_time": "2021-01-27T22:53:14.654219",
     "exception": false,
     "start_time": "2021-01-27T22:53:14.358562",
     "status": "completed"
    },
    "tags": [],
    "trusted": true,
    "pycharm": {
     "name": "#%%\n"
    }
   },
   "cell_type": "code",
   "source": [
    "fig, ax = plt.subplots(1, 1, figsize=(15, 8))\n",
    "plt.style.use('fivethirtyeight')\n",
    "\n",
    "sns.countplot(data=temp, x='Title', hue='Survived', ax=ax, palette=palette_6)\n",
    "ax.set_title('Title - Survived Plot', loc='Left', size=25, y=1.03)\n",
    "\n",
    "sns.despine()\n",
    "plt.show()"
   ],
   "execution_count": null,
   "outputs": []
  },
  {
   "metadata": {
    "papermill": {
     "duration": 0.107019,
     "end_time": "2021-01-27T22:53:14.868645",
     "exception": false,
     "start_time": "2021-01-27T22:53:14.761626",
     "status": "completed"
    },
    "tags": [],
    "pycharm": {
     "name": "#%% md\n"
    }
   },
   "cell_type": "markdown",
   "source": [
    "The above plot shows that Mrs., Miss. and Master. titles had better chances if survival, chances of survival is less than that for survival in case of Mr. and rare title, but it is worse for the Mr. title."
   ]
  },
  {
   "metadata": {
    "papermill": {
     "duration": 0.107391,
     "end_time": "2021-01-27T22:53:15.082518",
     "exception": false,
     "start_time": "2021-01-27T22:53:14.975127",
     "status": "completed"
    },
    "tags": [],
    "pycharm": {
     "name": "#%% md\n"
    }
   },
   "cell_type": "markdown",
   "source": [
    "### Survival Rate"
   ]
  },
  {
   "metadata": {
    "papermill": {
     "duration": 0.106969,
     "end_time": "2021-01-27T22:53:15.300131",
     "exception": false,
     "start_time": "2021-01-27T22:53:15.193162",
     "status": "completed"
    },
    "tags": [],
    "pycharm": {
     "name": "#%% md\n"
    }
   },
   "cell_type": "markdown",
   "source": [
    "***This is the most important feature that almost all the top leaderboard submissions will have.***\n",
    "\n",
    "\n",
    "Intuition behind the Survival rate feature:\n",
    "\n",
    "It was observed that usually people belonging to a family and Ticket group survived together or died together, this can help us assign survival rate for instances in test set which belonged to a family or ticket group in training set, this can help us make it easier for the model predict few more instances and boost the score... All this made more clear by the visualiations below!!\n"
   ]
  },
  {
   "metadata": {
    "_kg_hide-input": true,
    "execution": {
     "iopub.execute_input": "2021-01-27T22:53:15.523516Z",
     "iopub.status.busy": "2021-01-27T22:53:15.522782Z",
     "iopub.status.idle": "2021-01-27T22:53:15.841328Z",
     "shell.execute_reply": "2021-01-27T22:53:15.840701Z"
    },
    "papermill": {
     "duration": 0.434184,
     "end_time": "2021-01-27T22:53:15.841448",
     "exception": false,
     "start_time": "2021-01-27T22:53:15.407264",
     "status": "completed"
    },
    "tags": [],
    "trusted": true,
    "pycharm": {
     "name": "#%%\n"
    }
   },
   "cell_type": "code",
   "source": [
    "temp = train_imputed.copy()\n",
    "temp['Family_name'] = temp.Name.str.split(',', n=1, expand=True).iloc[:, 0]\n",
    "temp['Family_size'] = temp['SibSp'] + temp['Parch'] + 1\n",
    "temp['Ticket_frequency'] = temp.Ticket.map(temp.Ticket.value_counts()) \n",
    "\n",
    "temp['Family_survival_rate'] = temp.Family_name.map(temp.groupby(['Family_name']).Survived.median())\n",
    "temp['Ticket_group_survival_rate'] = temp.Ticket.map(temp.groupby(['Ticket']).Survived.median())\n",
    "\n",
    "\n",
    "fig, ax = plt.subplots(1, 2, figsize=(15, 8), sharey=True)\n",
    "plt.style.use('fivethirtyeight')\n",
    "\n",
    "sns.countplot(data=temp[temp['Family_size'] > 1], x='Family_survival_rate', hue='Survived', ax=ax[0], palette=palette_5)\n",
    "# we will only take into account those instance with Family size > 1 for visualization to explore the effectiveness of the \n",
    "# Survival rate feature\n",
    "\n",
    "sns.countplot(data=temp[temp['Ticket_frequency'] > 1], x='Ticket_group_survival_rate', hue='Survived', ax=ax[1], palette=palette_5)\n",
    "# we will only take into account those instance with Ticket_frequency > 1 for visualization to explore the effectiveness of the \n",
    "# Survival rate feature\n",
    "\n",
    "sns.despine()\n",
    "plt.show()"
   ],
   "execution_count": null,
   "outputs": []
  },
  {
   "metadata": {
    "papermill": {
     "duration": 0.108545,
     "end_time": "2021-01-27T22:53:16.059929",
     "exception": false,
     "start_time": "2021-01-27T22:53:15.951384",
     "status": "completed"
    },
    "tags": [],
    "pycharm": {
     "name": "#%% md\n"
    }
   },
   "cell_type": "markdown",
   "source": [
    "Well, things are crystal clear now!! those passengers which were assigned survival rate 0 because the median survival of the group was 0 actually only very few of them survived!! same the case when we see the passengers with median family survival rate 1, majority survived!!\n",
    "\n",
    "\n",
    "***Now how does this feature help us get better results??***\n",
    "\n",
    "First we have to understand that getting an accuracy score of 80% and getting to top 4% of the leaderboard is possible just by tunning model hyper parameters well and performing good feature encoding practices, but moving up from there is very difficult unless you have feature engineered very good features such as the one we are creating right now... The difference of 80% to 84% accuracy is just of about 2-4 more correct survival predictions. i got up to 79 % with just stacking and good encoding practice, [check it out](https://www.kaggle.com/awwalmalhi/comprehensive-beginners-guide-to-top-6)\n",
    "\n",
    "Lets say we have few family members or ticket group members which were not in training set but in test set, we can easily, with confidence assign a survival rate to them in the test set depending upon the above results and turns out that ususally people are able to push from 75% to 81-83% with this feature!! just by predicting few more stubborn instances as 1!!"
   ]
  },
  {
   "metadata": {
    "papermill": {
     "duration": 0.107206,
     "end_time": "2021-01-27T22:53:16.274869",
     "exception": false,
     "start_time": "2021-01-27T22:53:16.167663",
     "status": "completed"
    },
    "tags": [],
    "pycharm": {
     "name": "#%% md\n"
    }
   },
   "cell_type": "markdown",
   "source": [
    "### EDA conclusion"
   ]
  },
  {
   "metadata": {
    "papermill": {
     "duration": 0.107053,
     "end_time": "2021-01-27T22:53:16.489607",
     "exception": false,
     "start_time": "2021-01-27T22:53:16.382554",
     "status": "completed"
    },
    "tags": [],
    "pycharm": {
     "name": "#%% md\n"
    }
   },
   "cell_type": "markdown",
   "source": [
    "***Missing value imputation***\n",
    "* imputing Age feature\n",
    "* imputing Embarked feature\n",
    "\n",
    "We were able to find better ways to impute the Age and Embarked feature with reasonable support from the present data explored via Visualizations, you should too explore the data through EDA and find out best ways to impute data rather straight away using sklearn.impute or .fillna()\n",
    "\n",
    "\n",
    "***Feature creation through EDA***\n",
    "\n",
    "we were able to explore feature simplification, combination possibilities and possibilities to derive new features with proper support for these decisions from the present data...\n",
    " * Bin Fare feature to simplify and express patterns\n",
    " * Bin Age feature to simplify and express patterns\n",
    " * Better way to extract information from Ticket feature and creation of Ticket_frequency feature and Ticket_extracted feature\n",
    " * through the Ticket frequency feature we were able to gain information regarding Fare_per_individual feature and possibility of binning it.\n",
    " * Family size feature and possibility of simplification\n",
    " * Name length feature\n",
    " * Survival rate feature\n",
    " \n",
    "until now we have created few features and explored possibilities for simplification, we have many possible ways to create the final dataset. There are a lot of decision we will have to make now, some of them are as follows:\n",
    "* Is binned Fare feature better or the continuous one?\n",
    "* is Binned Age feature better of the continuous one?\n",
    "* Should we keep the SibSp and Parch rather than the Combined Family size feature?\n",
    "* If we should keep the Family_size feature, should we simplify it?\n",
    "* if we simplify the Family_size feature, should we one hot encode it or Target encode it?\n",
    "* What features should we drop?\n",
    "* Should we use StandardScaler, MinMaxScaler or RobustScaler?\n",
    "\n",
    "\n",
    "These are some of good questions that come to my mind... There can be many more, but lets keep things simple or the class will become difficult to debug XD\n",
    " \n",
    " \n",
    " \n"
   ]
  },
  {
   "metadata": {
    "papermill": {
     "duration": 0.110272,
     "end_time": "2021-01-27T22:53:16.707784",
     "exception": false,
     "start_time": "2021-01-27T22:53:16.597512",
     "status": "completed"
    },
    "tags": [],
    "pycharm": {
     "name": "#%% md\n"
    }
   },
   "cell_type": "markdown",
   "source": [
    "# Feature Engineering"
   ]
  },
  {
   "metadata": {
    "execution": {
     "iopub.execute_input": "2021-01-27T22:53:17.096605Z",
     "iopub.status.busy": "2021-01-27T22:53:17.084305Z",
     "iopub.status.idle": "2021-01-27T22:53:17.100565Z",
     "shell.execute_reply": "2021-01-27T22:53:17.099915Z"
    },
    "papermill": {
     "duration": 0.284244,
     "end_time": "2021-01-27T22:53:17.100684",
     "exception": false,
     "start_time": "2021-01-27T22:53:16.81644",
     "status": "completed"
    },
    "tags": [],
    "trusted": true,
    "pycharm": {
     "name": "#%%\n"
    }
   },
   "cell_type": "code",
   "source": [
    "def feature_creator(df_train, df_test):\n",
    "    \n",
    "    # creating binned fare feature\n",
    "    df_train['Fare_cat'] = pd.qcut(df_train['Fare'], 7)\n",
    "    df_test['Fare_cat'] = pd.qcut(df_test['Fare'], 7)\n",
    "    \n",
    "    df_train['Fare_cat'] = LabelEncoder().fit_transform(df_train['Fare_cat'])\n",
    "    df_test['Fare_cat'] = LabelEncoder().fit_transform(df_test['Fare_cat'])\n",
    "    \n",
    "    \n",
    "    \n",
    "    # creating binned age feature\n",
    "    df_train['Age_cat'] = pd.cut(df_train.Age, bins=[0, 5, 24, 30, 36, np.inf])\n",
    "    df_test['Age_cat'] = pd.cut(df_test.Age, bins=[0, 5, 24, 30, 36, np.inf])\n",
    "    \n",
    "    df_train['Age_cat'] = LabelEncoder().fit_transform(df_train['Age_cat'])\n",
    "    df_test['Age_cat'] = LabelEncoder().fit_transform(df_test['Age_cat'])\n",
    "    \n",
    "    \n",
    "    \n",
    "    # Title feature\n",
    "    for df in [df_train, df_test]:\n",
    "        df['Title'] = df.Name.str.extract(pat='([a-zA-Z]+\\.)')\n",
    "        df.Title[~df.Title.isin(['Mr.', 'Miss.', 'Mrs.', 'Master.'])] = 'rare'\n",
    "        \n",
    "        \n",
    "\n",
    "    # creating Ticket frequency feature\n",
    "    df_full = pd.concat([df_train, df_test], axis=0)\n",
    "    df_full['Ticket_frequency'] = df_full.Ticket.map(df_full.Ticket.value_counts())\n",
    "    df_train = df_full.loc[df_train.index]\n",
    "    df_test = df_full.loc[df_test.index].loc[df_test.index].drop('Survived', axis=1)\n",
    "    \n",
    "    \n",
    "    \n",
    "    # creating extracted ticket feature\n",
    "    for df in [df_train, df_test]:\n",
    "        \n",
    "        df['Ticket_extracted'] = df.Ticket.apply(ticket_extractor)\n",
    "        for i in range(len(df.Ticket)):\n",
    "            try:\n",
    "                int(df.Ticket_extracted.iloc[i])\n",
    "                df.Ticket_extracted.iloc[i] = f'Num_{len(df.Ticket_extracted.iloc[i])}'\n",
    "            except:\n",
    "                continue\n",
    "\n",
    "        for label, pattern in [('_ca', 'C[.]?A[.]?'), ('_PC', 'PC'), ('_SOTON', 'SOTON'), ('_STON', 'STON'), \n",
    "                               ('_WC', 'W[.]?[/]?C'), ('_SC', 'S[.]?C[.]?'), ('_A', 'A[.]?'), ('_SOC', 'S[.]?O[.]?[/]?C'), \n",
    "                               ('_PP', 'PP'), ('_FC', '(F.C.|F.C.C.)'), ('_LS_number', 'Num_(6|7)'), \n",
    "                               ('_SS_number', 'Num_(3|4|5)'), ('rare', '^[^_]')]:\n",
    "            df.Ticket_extracted[df.Ticket_extracted.str.contains(pattern)] = label\n",
    "            \n",
    "            \n",
    "    \n",
    "    # Fare per individual feature\n",
    "    #df_train['Fare_per_individual'] = df_train['Fare'] / df_train['Ticket_frequency']\n",
    "    #df_test['Fare_per_individual'] = df_test['Fare'] / df_test['Ticket_frequency']\n",
    "    \n",
    "    #df_train['Fare_per_individual_cat'] = pd.qcut(df_train['Fare_per_individual'], 7)\n",
    "    #df_test['Fare_per_individual_cat'] = pd.qcut(df_test['Fare_per_individual'], 7)\n",
    "    \n",
    "    #df_train['Fare_per_individual_cat'] = LabelEncoder().fit_transform(df_train['Fare_per_individual_cat'])\n",
    "    #df_test['Fare_per_individual_cat'] = LabelEncoder().fit_transform(df_test['Fare_per_individual_cat'])\n",
    "    \n",
    "    \n",
    "    \n",
    "    # Family size feature\n",
    "    df_train['Family_size'] = df_train['SibSp'] + df_train['Parch'] + 1\n",
    "    df_test['Family_size'] = df_test['SibSp'] + df_test['Parch'] + 1\n",
    "    \n",
    "    \n",
    "    \n",
    "    # creating binned family sized feature\n",
    "    df_train['Family_size_cat'] = df_train.Family_size.replace({1:'alone', 2:'small_family', 3:'small_family', 4:'small_family'\n",
    "                                                               ,5:'large_family', 6:'large_family', 7:'large_family'\n",
    "                                                               ,8:'large_family', 9:'large_family', 10:'large_family'\n",
    "                                                               ,11:'large_family'})\n",
    "    \n",
    "    df_test['Family_size_cat'] = df_test.Family_size.replace({1:'alone', 2:'small_family', 3:'small_family', 4:'small_family'\n",
    "                                                               ,5:'large_family', 6:'large_family', 7:'large_family'\n",
    "                                                               ,8:'large_family', 9:'large_family', 10:'large_family' \n",
    "                                                               ,11:'large_family'})\n",
    "    \n",
    "    \n",
    "    \n",
    "    # Name length feature\n",
    "    df_train['Name_length'] = df_train.Name.str.replace(pat='[^a-zA-Z]', repl='').str.len()\n",
    "    df_test['Name_length'] = df_test.Name.str.replace(pat='[^a-zA-Z]', repl='').str.len()\n",
    "    \n",
    "    \n",
    "    \n",
    "    # survival rate feature\n",
    "    df_full = pd.concat([df_train, df_test], axis=0).reset_index()\n",
    "\n",
    "    df_full['Family_name'] = df_full.Name.str.split(',', n=1, expand=True).iloc[:, 0]\n",
    "    \n",
    "    df_full['Family_Survival'] = 0.5\n",
    "    \n",
    "    # the following Survival rate code has been copied from https://www.kaggle.com/konstantinmasich/titanic-0-82-0-83\n",
    "    for grp, grp_df in df_full.groupby(['Family_name', 'Fare']):\n",
    "        if (len(grp_df) != 1):\n",
    "            # Fare and Family_name are used as category to group families together, as these features should be same for\n",
    "            # families and once we get the groups we filter for grp_df which have ore than 1 length, hence a family.\n",
    "            for ind, row in grp_df.iterrows():\n",
    "                smax = grp_df.drop(ind)['Survived'].max()\n",
    "                smin = grp_df.drop(ind)['Survived'].min()\n",
    "                passID = row['PassengerId']\n",
    "                if (smax == 1.0):\n",
    "                    df_full.loc[df_full['PassengerId'] == passID, 'Family_Survival'] = 1\n",
    "                elif (smin==0.0):\n",
    "                    df_full.loc[df_full['PassengerId'] == passID, 'Family_Survival'] = 0\n",
    "\n",
    "    for _, grp_df in df_full.groupby('Ticket'):\n",
    "        if (len(grp_df) != 1):\n",
    "            for ind, row in grp_df.iterrows():\n",
    "                if (row['Family_Survival'] == 0) | (row['Family_Survival']== 0.5):\n",
    "                    smax = grp_df.drop(ind)['Survived'].max()\n",
    "                    smin = grp_df.drop(ind)['Survived'].min()\n",
    "                    passID = row['PassengerId']\n",
    "                    if (smax == 1.0):\n",
    "                        df_full.loc[df_full['PassengerId'] == passID, 'Family_Survival'] = 1\n",
    "                    elif (smin==0.0):\n",
    "                        df_full.loc[df_full['PassengerId'] == passID, 'Family_Survival'] = 0\n",
    "     \n",
    "    df_full.set_index('PassengerId', inplace=True)\n",
    "    df_train = df_full[:891]\n",
    "    df_test = df_full[891:]\n",
    "    \n",
    "    \n",
    "    # finally we will drop the family name feature we created to help us create the Survival rate feature.\n",
    "    df_train.drop(['Family_name'], axis=1, inplace=True)\n",
    "    df_test.drop(['Family_name', 'Survived'], axis=1, inplace=True)\n",
    "    \n",
    "    # lets finally drop the survived from our training set and create the target variable\n",
    "    y_train =df_train.Survived\n",
    "    df_train.drop('Survived', axis=1, inplace=True)\n",
    "    \n",
    "    return df_train, y_train, df_test"
   ],
   "execution_count": null,
   "outputs": []
  },
  {
   "metadata": {
    "execution": {
     "iopub.execute_input": "2021-01-27T22:53:17.348367Z",
     "iopub.status.busy": "2021-01-27T22:53:17.344909Z",
     "iopub.status.idle": "2021-01-27T22:53:19.511706Z",
     "shell.execute_reply": "2021-01-27T22:53:19.510928Z"
    },
    "papermill": {
     "duration": 2.302752,
     "end_time": "2021-01-27T22:53:19.511842",
     "exception": false,
     "start_time": "2021-01-27T22:53:17.20909",
     "status": "completed"
    },
    "tags": [],
    "trusted": true,
    "pycharm": {
     "name": "#%%\n"
    }
   },
   "cell_type": "code",
   "source": [
    "X_train, y_train, X_test = feature_creator(train_imputed.copy(), test_imputed.copy())\n",
    "y_train = y_train.astype(int)"
   ],
   "execution_count": null,
   "outputs": []
  },
  {
   "metadata": {
    "execution": {
     "iopub.execute_input": "2021-01-27T22:53:19.752719Z",
     "iopub.status.busy": "2021-01-27T22:53:19.752046Z",
     "iopub.status.idle": "2021-01-27T22:53:19.767711Z",
     "shell.execute_reply": "2021-01-27T22:53:19.767075Z"
    },
    "papermill": {
     "duration": 0.143147,
     "end_time": "2021-01-27T22:53:19.767863",
     "exception": false,
     "start_time": "2021-01-27T22:53:19.624716",
     "status": "completed"
    },
    "tags": [],
    "trusted": true,
    "pycharm": {
     "name": "#%%\n"
    }
   },
   "cell_type": "code",
   "source": [
    "X_train.head(5)"
   ],
   "execution_count": null,
   "outputs": []
  },
  {
   "metadata": {
    "_kg_hide-input": true,
    "execution": {
     "iopub.execute_input": "2021-01-27T22:53:20.062884Z",
     "iopub.status.busy": "2021-01-27T22:53:20.062131Z",
     "iopub.status.idle": "2021-01-27T22:53:20.324722Z",
     "shell.execute_reply": "2021-01-27T22:53:20.324173Z"
    },
    "papermill": {
     "duration": 0.441707,
     "end_time": "2021-01-27T22:53:20.324865",
     "exception": false,
     "start_time": "2021-01-27T22:53:19.883158",
     "status": "completed"
    },
    "tags": [],
    "trusted": true,
    "pycharm": {
     "name": "#%%\n"
    }
   },
   "cell_type": "code",
   "source": [
    "fig, ax = plt.subplots(1, 2, figsize=(16, 6))\n",
    "plt.style.use('fivethirtyeight')\n",
    "\n",
    "size = 20\n",
    "y = 1.03\n",
    "X_train['Family_Survival'] = np.round(X_train.Family_Survival, 2)\n",
    "\n",
    "sns.countplot(data=pd.concat([X_train, y_train], axis=1), x='Family_Survival', hue='Survived', ax=ax[0], palette=palette_2)\n",
    "ax[0].set_title('Survival rate in training set', loc='Left', size=size, y=y)\n",
    "\n",
    "\n",
    "X_test.Family_Survival = np.round(X_test.Family_Survival, 2)\n",
    "sns.countplot(data=X_test, x='Family_Survival', ax=ax[1], palette=palette_2)\n",
    "ax[1].set_title('Survival rate - Count plot test set', loc='Left', size=size, y=y)\n",
    "\n",
    "sns.despine()\n",
    "plt.show()"
   ],
   "execution_count": null,
   "outputs": []
  },
  {
   "metadata": {
    "papermill": {
     "duration": 0.11303,
     "end_time": "2021-01-27T22:53:20.552482",
     "exception": false,
     "start_time": "2021-01-27T22:53:20.439452",
     "status": "completed"
    },
    "tags": [],
    "pycharm": {
     "name": "#%% md\n"
    }
   },
   "cell_type": "markdown",
   "source": [
    "What is of importance to us is the left plot where with certain confidence we have assigned the survival rates to the instances and we have about 175 instances for which we have some certainity of final outcome."
   ]
  },
  {
   "metadata": {
    "papermill": {
     "duration": 0.115285,
     "end_time": "2021-01-27T22:53:20.783747",
     "exception": false,
     "start_time": "2021-01-27T22:53:20.668462",
     "status": "completed"
    },
    "tags": [],
    "pycharm": {
     "name": "#%% md\n"
    }
   },
   "cell_type": "markdown",
   "source": [
    "### Dataset creation"
   ]
  },
  {
   "metadata": {
    "papermill": {
     "duration": 0.112225,
     "end_time": "2021-01-27T22:53:21.007595",
     "exception": false,
     "start_time": "2021-01-27T22:53:20.89537",
     "status": "completed"
    },
    "tags": [],
    "pycharm": {
     "name": "#%% md\n"
    }
   },
   "cell_type": "markdown",
   "source": [
    "**Now we are ready to ask questions!!!** Lets create FeatureEngineering class and use it in a pipeline with Logistic Regression(we can use other estimators too, but i prefer to use a simple one to keep computational expense low and search fast), we will pass the questions we wish to ask as the parameter to this class in the pipeline and grid search the whole feature space to narrow down our search for the best dataset!!\n",
    "\n",
    "* Is binned Fare feature better or the continuous one?\n",
    "* is Binned Age feature better of the continuous one?\n",
    "* Should we keep the SibSp and Parch rather than the Combined Family size feature?\n",
    "* If we should keep the Family_size feature, should we simplify it?\n",
    "* if we simplify the Family_size feature, should we one hot encode it or Target encode it?\n",
    "* What features should we drop?\n",
    "* Should we use StandardScaler, MinMaxScaler or RobustScaler?\n",
    "\n",
    "Before we get to the above Q/A setion, lets make few transformations i have noted below.\n",
    "* Pclass and Sex to one hot encodings\n",
    "* Drop Name and Ticket"
   ]
  },
  {
   "metadata": {
    "execution": {
     "iopub.execute_input": "2021-01-27T22:53:21.265871Z",
     "iopub.status.busy": "2021-01-27T22:53:21.238243Z",
     "iopub.status.idle": "2021-01-27T22:53:21.268557Z",
     "shell.execute_reply": "2021-01-27T22:53:21.269034Z"
    },
    "papermill": {
     "duration": 0.150975,
     "end_time": "2021-01-27T22:53:21.269211",
     "exception": false,
     "start_time": "2021-01-27T22:53:21.118236",
     "status": "completed"
    },
    "tags": [],
    "trusted": true,
    "pycharm": {
     "name": "#%%\n"
    }
   },
   "cell_type": "code",
   "source": [
    "# if we wish to create a transformer which we can grid search in a pipeline, that transformer has to inherit from the \n",
    "# BaseEstimator class, we will also make our FeatureEngineering transformer inherit from the TransformerMixin which just \n",
    "# provides the functionality of fit_transform() method to our transformer.\n",
    "\n",
    "class FeatureEngineering(BaseEstimator, TransformerMixin):\n",
    "    def __init__(self, bin_fare=False, bin_age=True, family_size=True, bin_family_size=True,\n",
    "                 drop_Name_length=False, drop_Ticket_frequency=False, drop_all=True, drop_Family_Survival=True, \n",
    "                 drop_Ticket_extracted=False, scaling='StandardScaler', target_encode_title=True, test=False):\n",
    "        self.bin_fare = bin_fare\n",
    "        self.bin_age = bin_age\n",
    "        #self.bin_fare_individual_cat = bin_fare_individual_cat\n",
    "        self.family_size = family_size\n",
    "        self.bin_family_size = bin_family_size\n",
    "        self.drop_Name_length = drop_Name_length\n",
    "        self.drop_Ticket_frequency = drop_Ticket_frequency\n",
    "        self.drop_all = drop_all\n",
    "        self.drop_Ticket_extracted = drop_Ticket_extracted\n",
    "        self.scaling = scaling\n",
    "        self.drop_Family_Survival = drop_Family_Survival\n",
    "        self.target_encode_title = target_encode_title\n",
    "        self.transformer = None\n",
    "        self.drop_list = []\n",
    "        self.test = test\n",
    "        \n",
    "    def fit(self, X, y=None):\n",
    "        return self # the fit method usually return self only, if not sure, try fitting a scikit learn estimator/transformer.. \n",
    "                    # only the fitted object will be returned, fit() will include code in case of these transformers and\n",
    "                    # estimators but we do not need to have some fitted variables on our dataset before we go for transform,\n",
    "                    # or atleast the way i am doing it i don't need to. :) \n",
    "    \n",
    "    def transform(self, X, y=None):\n",
    "        \n",
    "        X['Pclass'] = X['Pclass'].astype(str) # import convert numeric values to str if we wish to use get_dummies on them.\n",
    "        dummies = pd.get_dummies(X.loc[:, ['Pclass', 'Sex']], drop_first=True)\n",
    "        X = pd.concat([X, dummies], axis=1)\n",
    "        X.drop(['Pclass', 'Sex'], axis=1, inplace=True)\n",
    "        \n",
    "        # lets also drop Name and Ticket feature as we have extracted what we needed!!\n",
    "        X.drop(['Name', 'Ticket'], axis=1, inplace=True)\n",
    "        \n",
    "        \n",
    "        \n",
    "        \n",
    "        if self.bin_fare:\n",
    "            # so if we self.bin_fare = True we want the binned fare, so drop the continuous fare feature.\n",
    "            self.drop_list.append('Fare')\n",
    "            \n",
    "        else:\n",
    "            self.drop_list.append('Fare_cat')\n",
    "            \n",
    "        \n",
    "        if self.bin_age:\n",
    "            self.drop_list.append('Age')\n",
    "        \n",
    "        else:\n",
    "            self.drop_list.append('Age_cat')\n",
    "            \n",
    "            \n",
    "        #if self.bin_fare_individual_cat:\n",
    "            #self.drop_list.append('Fare_per_individual')\n",
    "            \n",
    "        #else:\n",
    "            #self.drop_list.append('Fare_per_individual_cat')\n",
    "                \n",
    "                \n",
    "                \n",
    "                \n",
    "        if self.family_size:\n",
    "            self.drop_list.extend(['SibSp', 'Parch'])\n",
    "            \n",
    "            if self.bin_family_size:\n",
    "                self.drop_list.append('Family_size')\n",
    "                \n",
    "            else:\n",
    "                self.drop_list.append('Family_size_cat')\n",
    "                \n",
    "        else:\n",
    "            self.drop_list.extend(['Family_size', 'Family_size_cat'])\n",
    "            \n",
    "        if self.drop_Name_length:\n",
    "            X.drop('Name_length', axis=1, inplace=True)\n",
    "            \n",
    "        if self.drop_Ticket_frequency:\n",
    "            X.drop('Ticket_frequency', axis=1, inplace=True)\n",
    "            \n",
    "        if self.drop_Family_Survival:\n",
    "            X.drop('Family_Survival', axis=1, inplace=True)\n",
    "            \n",
    "        if self.drop_all:\n",
    "            X.drop(self.drop_list, axis=1, inplace=True)\n",
    "            \n",
    "       \n",
    "        self.cols = ['Title', 'Ticket_extracted'] if self.target_encode_title else ['Ticket_extracted']\n",
    "        \n",
    "        if not self.test and len(X) > 400:\n",
    "            # we want the encoder object to be fitted with traing set only so we will check 'not self.test' and we also do not\n",
    "            # want to program to pass through the if statement in the case of cross validation test is being considered, \n",
    "            # hence we also check len(X) > 400 assuming the cross val test size will always stay less than 400.\n",
    "            self.target_encoder = TargetEncoder(cols=self.cols, smoothing=5)\n",
    "            X.loc[:, self.cols] = self.target_encoder.fit_transform(X.loc[:, self.cols], y_train.loc[X.index])\n",
    "\n",
    "        else:\n",
    "            X.loc[:, self.cols] = self.target_encoder.transform(X.loc[:, self.cols])\n",
    "                \n",
    "                \n",
    "        if self.drop_Ticket_extracted:\n",
    "            X.drop('Ticket_extracted', axis=1, inplace=True)\n",
    "        \n",
    "        # finally lets convert all remaining categorical features into on hot features\n",
    "        X = pd.get_dummies(X, drop_first=True)  \n",
    "     \n",
    "        # only features with no. of unique values as 2, will one hot encoded features and we do not want to apply Normalization\n",
    "        # on them(reason explained in a bit)\n",
    "        features_to_scale = [feature for feature in X.columns if X[feature].nunique() != 2]  \n",
    "        if not self.test and len(X) > 400:    \n",
    "            if self.scaling == 'StandardScaler':\n",
    "                self.transformer = StandardScaler()\n",
    "                X.loc[:, features_to_scale] = self.transformer.fit_transform(X.loc[:, features_to_scale])\n",
    "                \n",
    "            elif self.scaling == 'RobustScaler':\n",
    "                self.transformer = RobustScaler()\n",
    "                X.loc[:, features_to_scale] = self.transformer.fit_transform(X.loc[:, features_to_scale])\n",
    "                \n",
    "            elif self.scaling == 'MinMaxScaler':\n",
    "                self.transformer = MinMaxScaler()\n",
    "                X.loc[:, features_to_scale] = self.transformer.fit_transform(X.loc[:, features_to_scale])\n",
    "        \n",
    "        else:\n",
    "            X.loc[:, features_to_scale] = self.transformer.transform(X.loc[:, features_to_scale])\n",
    "            \n",
    "        return X"
   ],
   "execution_count": null,
   "outputs": []
  },
  {
   "metadata": {
    "papermill": {
     "duration": 0.113828,
     "end_time": "2021-01-27T22:53:21.496655",
     "exception": false,
     "start_time": "2021-01-27T22:53:21.382827",
     "status": "completed"
    },
    "tags": [],
    "pycharm": {
     "name": "#%% md\n"
    }
   },
   "cell_type": "markdown",
   "source": [
    "You can see that we are only scaling the features which are not like the one hot encoded columns or in general which do not have zeros as most of the column entries, this is because if we were to pass the one hot encoded columns through the a StandardScaler or RobustScaler, all the zeros will get converted to some other value when scaled and the one hot encoding will be wrecked.. MinMaxScaler will retain it only if the min value is 0, We can understand this property of scaling transformers when we look at there functions, StandardScaler subtracts mean of all values by the value being scaled in numerator, but MinMaxScaler subtracts the min value by the value being scaled, hence if we are scaling 0 and 0 is the min value we retain 0, But that wont be the case for the StandardScaler.... So look out for this detail."
   ]
  },
  {
   "metadata": {
    "execution": {
     "iopub.execute_input": "2021-01-27T22:53:21.732532Z",
     "iopub.status.busy": "2021-01-27T22:53:21.731827Z",
     "iopub.status.idle": "2021-01-27T22:53:21.734263Z",
     "shell.execute_reply": "2021-01-27T22:53:21.734784Z"
    },
    "papermill": {
     "duration": 0.124418,
     "end_time": "2021-01-27T22:53:21.734944",
     "exception": false,
     "start_time": "2021-01-27T22:53:21.610526",
     "status": "completed"
    },
    "tags": [],
    "trusted": true,
    "pycharm": {
     "name": "#%%\n"
    }
   },
   "cell_type": "code",
   "source": [
    "def results(grid, n=10):\n",
    "    for index, row in pd.DataFrame(grid.cv_results_)[['params', \n",
    "                                                      'mean_test_score']].nlargest(n=n, columns='mean_test_score').iterrows():\n",
    "        print(f'{row[0]} : {row[1]}')"
   ],
   "execution_count": null,
   "outputs": []
  },
  {
   "metadata": {
    "_kg_hide-output": true,
    "execution": {
     "iopub.execute_input": "2021-01-27T22:53:21.973983Z",
     "iopub.status.busy": "2021-01-27T22:53:21.973168Z",
     "iopub.status.idle": "2021-01-27T22:54:27.68417Z",
     "shell.execute_reply": "2021-01-27T22:54:27.683471Z"
    },
    "papermill": {
     "duration": 65.836049,
     "end_time": "2021-01-27T22:54:27.684314",
     "exception": false,
     "start_time": "2021-01-27T22:53:21.848265",
     "status": "completed"
    },
    "tags": [],
    "trusted": false,
    "pycharm": {
     "name": "#%%\n"
    }
   },
   "cell_type": "code",
   "source": [
    "param_grid_pipeline = {'feature_engineering__bin_fare':[True, False],\n",
    "                       'feature_engineering__bin_age':[True, False],\n",
    "                       #'feature_engineering__bin_fare_individual_cat':[True, False],\n",
    "                       'feature_engineering__family_size':[True, False],\n",
    "                       'feature_engineering__bin_family_size':[True, False],\n",
    "                       'feature_engineering__drop_Name_length':[False],\n",
    "                       'feature_engineering__drop_Ticket_frequency':[False],\n",
    "                       'feature_engineering__drop_all':[True],\n",
    "                       'feature_engineering__drop_Ticket_extracted':[True, False],\n",
    "                       'feature_engineering__target_encode_title':[True, False],\n",
    "                       'feature_engineering__scaling':['StandardScaler']} \n",
    "\n",
    "\n",
    "\n",
    "pipeline_ = Pipeline([('feature_engineering', FeatureEngineering()),\n",
    "                 ('model', LogisticRegression())])\n",
    "\n",
    "cv = StratifiedShuffleSplit(n_splits=20, test_size=0.15, random_state=101)\n",
    "\n",
    "grid = GridSearchCV(pipeline_, param_grid_pipeline, \n",
    "                    cv=cv.split(X_train, X_train.Deck),\n",
    "                    scoring='accuracy', verbose=2, n_jobs=-1)\n",
    "\n",
    "grid.fit(X_train.copy(), y_train)"
   ],
   "execution_count": null,
   "outputs": []
  },
  {
   "metadata": {
    "execution": {
     "iopub.execute_input": "2021-01-27T22:54:27.937501Z",
     "iopub.status.busy": "2021-01-27T22:54:27.936749Z",
     "iopub.status.idle": "2021-01-27T22:54:27.942416Z",
     "shell.execute_reply": "2021-01-27T22:54:27.942981Z"
    },
    "papermill": {
     "duration": 0.134617,
     "end_time": "2021-01-27T22:54:27.943119",
     "exception": false,
     "start_time": "2021-01-27T22:54:27.808502",
     "status": "completed"
    },
    "tags": [],
    "trusted": false,
    "pycharm": {
     "name": "#%%\n"
    }
   },
   "cell_type": "code",
   "source": [
    "pd.DataFrame(grid.cv_results_)['mean_test_score'].isna().sum() # check if error occured while using a feature combination or not."
   ],
   "execution_count": null,
   "outputs": []
  },
  {
   "metadata": {
    "_kg_hide-output": true,
    "collapsed": true,
    "execution": {
     "iopub.execute_input": "2021-01-27T22:54:28.185254Z",
     "iopub.status.busy": "2021-01-27T22:54:28.184606Z",
     "iopub.status.idle": "2021-01-27T22:54:28.211012Z",
     "shell.execute_reply": "2021-01-27T22:54:28.210427Z"
    },
    "papermill": {
     "duration": 0.147707,
     "end_time": "2021-01-27T22:54:28.211137",
     "exception": false,
     "start_time": "2021-01-27T22:54:28.06343",
     "status": "completed"
    },
    "tags": [],
    "trusted": false,
    "pycharm": {
     "name": "#%%\n"
    }
   },
   "cell_type": "code",
   "source": [
    "results(grid, n=60)"
   ],
   "execution_count": null,
   "outputs": []
  },
  {
   "metadata": {
    "papermill": {
     "duration": 0.119944,
     "end_time": "2021-01-27T22:54:28.450347",
     "exception": false,
     "start_time": "2021-01-27T22:54:28.330403",
     "status": "completed"
    },
    "tags": [],
    "pycharm": {
     "name": "#%% md\n"
    }
   },
   "cell_type": "markdown",
   "source": [
    "**Findings:**\n",
    "* Looking at the above results, model loved the family size feature and specially when binned!!\n",
    "* bin fare feature was also liked, though it gets a little confused between binning and not.\n",
    "* it likes the Name length too.\n",
    "* Ticket_frequency was liked too.\n",
    "* I also let the model decide whether it wishes to work with all the features or we should drop the feature we appended in the self.drop_list, it did not like not dropping them.. which was what we expected.\n",
    "* it is a little confused between RobustScaler and StandardScaler, lets test out both..\n",
    "\n",
    "so finally, we will create dataset using following features...\n",
    "\n",
    "* bin_fare = [True, False] -- finally we pick **False**\n",
    "* family_size = True \n",
    "* bin_family_size = True\n",
    "* drop_Name_length = False \n",
    "* drop_Ticket_frequency = True\n",
    "* drop_all = True  \n",
    "* scaling = ['StandardScaler', 'RobustScaler'] -- finally we pick **StandardScaler**"
   ]
  },
  {
   "metadata": {
    "execution": {
     "iopub.execute_input": "2021-01-27T22:54:28.692256Z",
     "iopub.status.busy": "2021-01-27T22:54:28.691452Z",
     "iopub.status.idle": "2021-01-27T22:54:28.694546Z",
     "shell.execute_reply": "2021-01-27T22:54:28.693919Z"
    },
    "papermill": {
     "duration": 0.128289,
     "end_time": "2021-01-27T22:54:28.694651",
     "exception": false,
     "start_time": "2021-01-27T22:54:28.566362",
     "status": "completed"
    },
    "tags": [],
    "trusted": false,
    "pycharm": {
     "name": "#%%\n"
    }
   },
   "cell_type": "code",
   "source": [
    "fe = FeatureEngineering(bin_fare=False, bin_age=True, family_size=True, bin_family_size=True,\n",
    "                 drop_Name_length=False, drop_Ticket_frequency=False, drop_all=True, drop_Family_Survival=False, \n",
    "                 drop_Ticket_extracted=False, scaling='StandardScaler', target_encode_title=False, test=False)"
   ],
   "execution_count": null,
   "outputs": []
  },
  {
   "metadata": {
    "execution": {
     "iopub.execute_input": "2021-01-27T22:54:28.948203Z",
     "iopub.status.busy": "2021-01-27T22:54:28.945094Z",
     "iopub.status.idle": "2021-01-27T22:54:29.026912Z",
     "shell.execute_reply": "2021-01-27T22:54:29.026196Z"
    },
    "papermill": {
     "duration": 0.207982,
     "end_time": "2021-01-27T22:54:29.027042",
     "exception": false,
     "start_time": "2021-01-27T22:54:28.81906",
     "status": "completed"
    },
    "tags": [],
    "trusted": false,
    "pycharm": {
     "name": "#%%\n"
    }
   },
   "cell_type": "code",
   "source": [
    "X_train_fe = fe.fit_transform(X_train.copy())\n",
    "X_train_fe"
   ],
   "execution_count": null,
   "outputs": []
  },
  {
   "metadata": {
    "execution": {
     "iopub.execute_input": "2021-01-27T22:54:29.275625Z",
     "iopub.status.busy": "2021-01-27T22:54:29.274636Z",
     "iopub.status.idle": "2021-01-27T22:54:29.278447Z",
     "shell.execute_reply": "2021-01-27T22:54:29.277631Z"
    },
    "papermill": {
     "duration": 0.126542,
     "end_time": "2021-01-27T22:54:29.278567",
     "exception": false,
     "start_time": "2021-01-27T22:54:29.152025",
     "status": "completed"
    },
    "tags": [],
    "trusted": false,
    "pycharm": {
     "name": "#%%\n"
    }
   },
   "cell_type": "code",
   "source": [
    "fe.test = True"
   ],
   "execution_count": null,
   "outputs": []
  },
  {
   "metadata": {
    "execution": {
     "iopub.execute_input": "2021-01-27T22:54:29.521226Z",
     "iopub.status.busy": "2021-01-27T22:54:29.520543Z",
     "iopub.status.idle": "2021-01-27T22:54:29.581911Z",
     "shell.execute_reply": "2021-01-27T22:54:29.581278Z"
    },
    "papermill": {
     "duration": 0.183033,
     "end_time": "2021-01-27T22:54:29.582042",
     "exception": false,
     "start_time": "2021-01-27T22:54:29.399009",
     "status": "completed"
    },
    "tags": [],
    "trusted": false,
    "pycharm": {
     "name": "#%%\n"
    }
   },
   "cell_type": "code",
   "source": [
    "X_test_fe = fe.transform(X_test.copy())\n",
    "X_test_fe"
   ],
   "execution_count": null,
   "outputs": []
  },
  {
   "metadata": {
    "papermill": {
     "duration": 0.12144,
     "end_time": "2021-01-27T22:54:29.82674",
     "exception": false,
     "start_time": "2021-01-27T22:54:29.7053",
     "status": "completed"
    },
    "tags": [],
    "pycharm": {
     "name": "#%% md\n"
    }
   },
   "cell_type": "markdown",
   "source": [
    "# Hyper parameter Tuning"
   ]
  },
  {
   "metadata": {
    "papermill": {
     "duration": 0.122171,
     "end_time": "2021-01-27T22:54:30.072638",
     "exception": false,
     "start_time": "2021-01-27T22:54:29.950467",
     "status": "completed"
    },
    "tags": [],
    "pycharm": {
     "name": "#%% md\n"
    }
   },
   "cell_type": "markdown",
   "source": [
    "In this section we will be finding best hyper parameters for a number of models with different strengths and weaknesses so that we can finally blend the results and achieve higher accuracy. The idea is that every model has different strengths and weaknesses, there will be instances that,  for eg. SVC classifies correctly but LogisticRegression cannot, but LogisticRegression might classify some other instances correctly which SVC cannot, these difference will be learnt by the final **meta model** in stacking and we will be able to achieve higher accuracy.\n",
    "\n",
    "We will train the following models as base models for stacking:\n",
    "* LogisticRegression\n",
    "* SVC\n",
    "* KNeighborsClassifier\n",
    "* RandomForestClassifier\n",
    "* GradientBoostingClassifier\n",
    "* XGBCLassifier\n",
    "\n",
    "\n",
    "#### Tips:\n",
    "\n",
    "* When grid searching hyperparameters you should look at top few best results to get a better idea, if you find a parameter mix which gives you a decent result(not the best) but it is more regulrized than the top result, choose the regularized option and accept the loss in accuracy(if its not a lot), This will ensure that the variance is low and you will actually have more chance of achieving similar result with first model than the best model as per grid search. \n",
    "\n",
    "* The above practice becomes a cumbersome for tree ensemble methods if you just have to go through the grid search results, simple reason being that there are too many parameters which affect the bias and variance, unlike LogisticRegression or SVC. In this case we will plot the results!!! check out the code below."
   ]
  },
  {
   "metadata": {
    "execution": {
     "iopub.execute_input": "2021-01-27T22:54:30.327289Z",
     "iopub.status.busy": "2021-01-27T22:54:30.323399Z",
     "iopub.status.idle": "2021-01-27T22:54:30.331338Z",
     "shell.execute_reply": "2021-01-27T22:54:30.3305Z"
    },
    "papermill": {
     "duration": 0.13738,
     "end_time": "2021-01-27T22:54:30.331459",
     "exception": false,
     "start_time": "2021-01-27T22:54:30.194079",
     "status": "completed"
    },
    "tags": [],
    "trusted": true,
    "pycharm": {
     "name": "#%%\n"
    }
   },
   "cell_type": "code",
   "source": [
    "def parameter_plot(model, X, y, n_estimators=[100, 200, 300, 400, 600, 900, 1300, 1700, 2000, 2500], \n",
    "                   hyper_param=None, **kwargs):\n",
    "    param_name, param_vals = hyper_param\n",
    "    param_grid = {'n_estimators':n_estimators,\n",
    "                  f'{param_name}':param_vals}\n",
    "    \n",
    "    grid = GridSearchCV(model(**kwargs), param_grid, \n",
    "                        cv=RepeatedStratifiedKFold(n_splits=10, n_repeats=2, random_state=42), \n",
    "                        scoring='accuracy', n_jobs=-1, verbose=2)\n",
    "    grid.fit(X, y)\n",
    "    results = pd.DataFrame(grid.cv_results_)['mean_test_score'].values\n",
    "    results = results.reshape(len(param_vals), len(n_estimators))\n",
    "    \n",
    "    plt.figure(figsize=(15, 9))\n",
    "    for i in range(1, len(param_vals) + 1):\n",
    "        plt.plot(n_estimators, results[i-1], label=f'{param_name} - {param_vals[i-1]}')\n",
    "      \n",
    "    plt.legend()\n",
    "    plt.show()"
   ],
   "execution_count": null,
   "outputs": []
  },
  {
   "metadata": {
    "execution": {
     "iopub.execute_input": "2021-01-27T22:54:30.591279Z",
     "iopub.status.busy": "2021-01-27T22:54:30.590487Z",
     "iopub.status.idle": "2021-01-27T22:54:30.593032Z",
     "shell.execute_reply": "2021-01-27T22:54:30.593491Z"
    },
    "papermill": {
     "duration": 0.137981,
     "end_time": "2021-01-27T22:54:30.593642",
     "exception": false,
     "start_time": "2021-01-27T22:54:30.455661",
     "status": "completed"
    },
    "tags": [],
    "trusted": true,
    "pycharm": {
     "name": "#%%\n"
    }
   },
   "cell_type": "code",
   "source": [
    "def learning_curve_plotter(Model, X, y, params_1, params_2, step=50):\n",
    "    \n",
    "    X_train, X_test, y_train, y_test = train_test_split(X, y, test_size=0.1, random_state=42)\n",
    "    \n",
    "    plt.figure(figsize=(16, 7))\n",
    "    for i, (name, params) in enumerate([params_1, params_2]):\n",
    "        train_score = []\n",
    "        val_score = []\n",
    "        plt.subplot(1, 2, i+1)\n",
    "        for j in range(100, len(X_train), step):\n",
    "            model = Model(**params).fit(X_train[:j], y_train[:j])\n",
    "            train_score.append(model.score(X_train[:j], y_train[:j]))\n",
    "            val_score.append(model.score(X_test, y_test))\n",
    "            \n",
    "        plt.plot(train_score, 'r-', label='Training accuracy')\n",
    "        plt.plot(val_score, 'b-', label='Validation accuracy')\n",
    "        plt.title(f'{name}')\n",
    "        plt.xlabel('Training set size')\n",
    "        plt.ylabel('Accuracy')\n",
    "        plt.legend()\n",
    "            \n",
    "    plt.show()"
   ],
   "execution_count": null,
   "outputs": []
  },
  {
   "metadata": {
    "pycharm": {
     "name": "#%% md\n"
    }
   },
   "cell_type": "markdown",
   "source": [
    "### Logistic Regression"
   ]
  },
  {
   "metadata": {
    "trusted": false,
    "pycharm": {
     "name": "#%%\n"
    }
   },
   "cell_type": "code",
   "source": [
    "param_grid_logreg = {'penalty':['elasticnet'],\n",
    "                     'C':0.01 * np.arange(100),\n",
    "                     'l1_ratio':0.1 * np.arange(10),\n",
    "                     'solver':['saga']} "
   ],
   "execution_count": null,
   "outputs": []
  },
  {
   "metadata": {
    "trusted": false,
    "pycharm": {
     "name": "#%%\n"
    }
   },
   "cell_type": "code",
   "source": [
    "grid_logreg = GridSearchCV(LogisticRegression(), param_grid_logreg, \n",
    "                        cv=RepeatedStratifiedKFold(n_splits=10, n_repeats=2, random_state=42),\n",
    "                              scoring='accuracy', verbose=2, n_jobs=-1)"
   ],
   "execution_count": null,
   "outputs": []
  },
  {
   "metadata": {
    "_kg_hide-output": true,
    "trusted": false,
    "pycharm": {
     "name": "#%%\n"
    }
   },
   "cell_type": "code",
   "source": [
    "grid_logreg.fit(X_train_fe, y_train)"
   ],
   "execution_count": null,
   "outputs": []
  },
  {
   "metadata": {
    "_kg_hide-output": true,
    "trusted": false,
    "pycharm": {
     "name": "#%%\n"
    }
   },
   "cell_type": "code",
   "source": [
    "results(grid_logreg, n=60)"
   ],
   "execution_count": null,
   "outputs": []
  },
  {
   "metadata": {
    "trusted": false,
    "pycharm": {
     "name": "#%%\n"
    }
   },
   "cell_type": "code",
   "source": [
    "params_logreg = {'C': 0.28, 'l1_ratio': 0.9, 'penalty': 'elasticnet', 'solver': 'saga'}"
   ],
   "execution_count": null,
   "outputs": []
  },
  {
   "metadata": {
    "pycharm": {
     "name": "#%% md\n"
    }
   },
   "cell_type": "markdown",
   "source": [
    "### KNearestNeighbor"
   ]
  },
  {
   "metadata": {
    "trusted": false,
    "pycharm": {
     "name": "#%%\n"
    }
   },
   "cell_type": "code",
   "source": [
    "param_grid_knn = {'n_neighbors':np.arange(50),\n",
    "                  'weights':['uniform'],\n",
    "                  'algorithm':['ball_tree'],\n",
    "                  'leaf_size':np.arange(1, 40, 2)}"
   ],
   "execution_count": null,
   "outputs": []
  },
  {
   "metadata": {
    "trusted": false,
    "pycharm": {
     "name": "#%%\n"
    }
   },
   "cell_type": "code",
   "source": [
    "grid_knn = GridSearchCV(KNeighborsClassifier(), param_grid_knn, \n",
    "                        cv=RepeatedStratifiedKFold(n_splits=10, n_repeats=2, random_state=42),\n",
    "                              scoring='accuracy', verbose=2, n_jobs=-1)"
   ],
   "execution_count": null,
   "outputs": []
  },
  {
   "metadata": {
    "_kg_hide-output": true,
    "trusted": false,
    "pycharm": {
     "name": "#%%\n"
    }
   },
   "cell_type": "code",
   "source": [
    "grid_knn.fit(X_train_fe, y_train)"
   ],
   "execution_count": null,
   "outputs": []
  },
  {
   "metadata": {
    "_kg_hide-output": true,
    "trusted": false,
    "pycharm": {
     "name": "#%%\n"
    }
   },
   "cell_type": "code",
   "source": [
    "results(grid_knn, n=60)"
   ],
   "execution_count": null,
   "outputs": []
  },
  {
   "metadata": {
    "trusted": false,
    "pycharm": {
     "name": "#%%\n"
    }
   },
   "cell_type": "code",
   "source": [
    "params_knn = {'algorithm': 'ball_tree', 'leaf_size': 1, 'n_neighbors': 7, 'weights': 'uniform'}"
   ],
   "execution_count": null,
   "outputs": []
  },
  {
   "metadata": {
    "pycharm": {
     "name": "#%% md\n"
    }
   },
   "cell_type": "markdown",
   "source": [
    "### SVC"
   ]
  },
  {
   "metadata": {
    "trusted": false,
    "pycharm": {
     "name": "#%%\n"
    }
   },
   "cell_type": "code",
   "source": [
    "param_grid_svc = {'C':[0.001, 0.01, 0.1, 1, 5],\n",
    "                  'kernel':['rbf'],\n",
    "                  'gamma':0.01 * np.arange(100),\n",
    "                  'probability':[True]}"
   ],
   "execution_count": null,
   "outputs": []
  },
  {
   "metadata": {
    "trusted": false,
    "pycharm": {
     "name": "#%%\n"
    }
   },
   "cell_type": "code",
   "source": [
    "grid_svc = GridSearchCV(SVC(), param_grid_svc, cv=RepeatedStratifiedKFold(n_splits=10, n_repeats=2, random_state=42),\n",
    "                              scoring='accuracy', verbose=2, n_jobs=-1)"
   ],
   "execution_count": null,
   "outputs": []
  },
  {
   "metadata": {
    "_kg_hide-output": true,
    "trusted": false,
    "pycharm": {
     "name": "#%%\n"
    }
   },
   "cell_type": "code",
   "source": [
    "grid_svc.fit(X_train_fe, y_train)"
   ],
   "execution_count": null,
   "outputs": []
  },
  {
   "metadata": {
    "_kg_hide-output": true,
    "trusted": false,
    "pycharm": {
     "name": "#%%\n"
    }
   },
   "cell_type": "code",
   "source": [
    "results(grid_svc, n=60)"
   ],
   "execution_count": null,
   "outputs": []
  },
  {
   "metadata": {
    "trusted": false,
    "pycharm": {
     "name": "#%%\n"
    }
   },
   "cell_type": "code",
   "source": [
    "params_svc = {'C': 1, 'gamma': 0.09, 'kernel': 'rbf', 'probability': True}"
   ],
   "execution_count": null,
   "outputs": []
  },
  {
   "metadata": {
    "pycharm": {
     "name": "#%% md\n"
    }
   },
   "cell_type": "markdown",
   "source": [
    "### RandomForestClassifier"
   ]
  },
  {
   "metadata": {
    "trusted": false,
    "pycharm": {
     "name": "#%%\n"
    }
   },
   "cell_type": "code",
   "source": [
    "parameter_plot(RandomForestClassifier, X_train_fe, y_train, hyper_param=('max_depth', [3, 4, 5, 8, 9, None]))"
   ],
   "execution_count": null,
   "outputs": []
  },
  {
   "metadata": {
    "pycharm": {
     "name": "#%% md\n"
    }
   },
   "cell_type": "markdown",
   "source": [
    "We can see that max depth of 3 is not good in terms of accuracy, but it will be great to prevent overitting... as we increase the depth accuracy increases, Lets pick max depth of 9 and 5 to test out, later we will see that though max depth 9 gives better accuracy in grid search, it tends to create a overfitted model whereas max depth 5 will create a model with slightly lower accuracy but significantly balanced"
   ]
  },
  {
   "metadata": {
    "trusted": false,
    "pycharm": {
     "name": "#%%\n"
    }
   },
   "cell_type": "code",
   "source": [
    "param_grid_random = {'n_estimators':[300, 500, 1000],\n",
    "                     'max_depth':[5, 9],\n",
    "                     'max_samples':[0.5, 0.7, 0.9],\n",
    "                     'max_features':[0.5, 0.7, 0.9], \n",
    "                     'min_samples_split':[2, 5, 8]\n",
    "                    } "
   ],
   "execution_count": null,
   "outputs": []
  },
  {
   "metadata": {
    "trusted": false,
    "pycharm": {
     "name": "#%%\n"
    }
   },
   "cell_type": "code",
   "source": [
    "grid_random = GridSearchCV(RandomForestClassifier(), param_grid_random, \n",
    "                        cv=RepeatedStratifiedKFold(n_splits=10, n_repeats=2, random_state=42),\n",
    "                              scoring='accuracy', verbose=2, n_jobs=-1)"
   ],
   "execution_count": null,
   "outputs": []
  },
  {
   "metadata": {
    "_kg_hide-output": true,
    "trusted": false,
    "pycharm": {
     "name": "#%%\n"
    }
   },
   "cell_type": "code",
   "source": [
    "grid_random.fit(X_train_fe, y_train)"
   ],
   "execution_count": null,
   "outputs": []
  },
  {
   "metadata": {
    "_kg_hide-output": true,
    "trusted": false,
    "pycharm": {
     "name": "#%%\n"
    }
   },
   "cell_type": "code",
   "source": [
    "results(grid_random, n=162)"
   ],
   "execution_count": null,
   "outputs": []
  },
  {
   "metadata": {
    "trusted": false,
    "pycharm": {
     "name": "#%%\n"
    }
   },
   "cell_type": "code",
   "source": [
    "params_1 = ('Regularized model', {'max_depth': 5, 'max_features': 0.5, 'max_samples': 0.9,\n",
    "                                  'min_samples_split': 8, 'n_estimators': 300} )\n",
    "\n",
    "params_2 = ('Best model', {'max_depth': 9, 'max_features': 0.7, 'max_samples': 0.9, \n",
    "                           'min_samples_split': 8, 'n_estimators': 300})\n",
    "\n",
    "learning_curve_plotter(RandomForestClassifier, X_train_fe, y_train, params_1, params_2, step=30)"
   ],
   "execution_count": null,
   "outputs": []
  },
  {
   "metadata": {
    "pycharm": {
     "name": "#%% md\n"
    }
   },
   "cell_type": "markdown",
   "source": [
    "Its quite clear from the above plot that which set of params we are going to use, So, you should not just pick the best grid search result.... check for a regularized options that give you decent accuracy result too."
   ]
  },
  {
   "metadata": {
    "trusted": false,
    "pycharm": {
     "name": "#%%\n"
    }
   },
   "cell_type": "code",
   "source": [
    "params_random = {'max_depth': 5, 'max_features': 0.5, 'max_samples': 0.9,\n",
    "                                  'min_samples_split': 8, 'n_estimators': 300}"
   ],
   "execution_count": null,
   "outputs": []
  },
  {
   "metadata": {
    "pycharm": {
     "name": "#%% md\n"
    }
   },
   "cell_type": "markdown",
   "source": [
    "### GradientBoostingClassifier"
   ]
  },
  {
   "metadata": {
    "trusted": false,
    "pycharm": {
     "name": "#%%\n"
    }
   },
   "cell_type": "code",
   "source": [
    "parameter_plot(GradientBoostingClassifier, X_train_fe, y_train, hyper_param=('max_depth', [3, 4, 5, 6, 9]))"
   ],
   "execution_count": null,
   "outputs": []
  },
  {
   "metadata": {
    "pycharm": {
     "name": "#%% md\n"
    }
   },
   "cell_type": "markdown",
   "source": [
    "max depth of 3 looks good"
   ]
  },
  {
   "metadata": {
    "trusted": false,
    "pycharm": {
     "name": "#%%\n"
    }
   },
   "cell_type": "code",
   "source": [
    "parameter_plot(GradientBoostingClassifier, X_train_fe, y_train, hyper_param=('learning_rate', [0.01, 0.03, 0.05, 0.07, 0.1]),\n",
    "              max_depth=3)"
   ],
   "execution_count": null,
   "outputs": []
  },
  {
   "metadata": {
    "pycharm": {
     "name": "#%% md\n"
    }
   },
   "cell_type": "markdown",
   "source": [
    "lower learning rates are good!! lets test out small learning rates with a slightly higher one, we can see that as n_estiators increase the model starts to overfit and the accuracy goes down."
   ]
  },
  {
   "metadata": {
    "trusted": false,
    "pycharm": {
     "name": "#%%\n"
    }
   },
   "cell_type": "code",
   "source": [
    "param_grid_gradient = {'max_depth':[3, 4],\n",
    "                       'n_estimators':[300, 400, 500],\n",
    "                       'learning_rate':[0.01, 0.03, 0.05],\n",
    "                       'subsample':[0.5, 0.7],\n",
    "                       'max_features':[0.5, 0.7],\n",
    "                       #'min_samples_split':[2, 5, 8, 12]\n",
    "                      }"
   ],
   "execution_count": null,
   "outputs": []
  },
  {
   "metadata": {
    "trusted": false,
    "pycharm": {
     "name": "#%%\n"
    }
   },
   "cell_type": "code",
   "source": [
    "grid_gradient = GridSearchCV(GradientBoostingClassifier(), param_grid_gradient, \n",
    "                        cv=RepeatedStratifiedKFold(n_splits=10, n_repeats=2, random_state=42),\n",
    "                              scoring='accuracy', verbose=2, n_jobs=-1)"
   ],
   "execution_count": null,
   "outputs": []
  },
  {
   "metadata": {
    "_kg_hide-output": true,
    "trusted": false,
    "pycharm": {
     "name": "#%%\n"
    }
   },
   "cell_type": "code",
   "source": [
    "grid_gradient.fit(X_train_fe, y_train)"
   ],
   "execution_count": null,
   "outputs": []
  },
  {
   "metadata": {
    "_kg_hide-output": true,
    "trusted": false,
    "pycharm": {
     "name": "#%%\n"
    }
   },
   "cell_type": "code",
   "source": [
    "results(grid_gradient, n=60)"
   ],
   "execution_count": null,
   "outputs": []
  },
  {
   "metadata": {
    "trusted": false,
    "pycharm": {
     "name": "#%%\n"
    }
   },
   "cell_type": "code",
   "source": [
    "params_1 = ('Regularized model', {'learning_rate': 0.01, 'max_depth': 3, 'max_features': 0.5, \n",
    "                                  'n_estimators': 500, 'subsample': 0.5})\n",
    "params_2 = ('Best model', {'learning_rate': 0.01, 'max_depth': 3, 'max_features': 0.7, \n",
    "                           'n_estimators': 400, 'subsample': 0.7})\n",
    "\n",
    "learning_curve_plotter(GradientBoostingClassifier, X_train_fe, y_train, params_1, params_2, step=30)"
   ],
   "execution_count": null,
   "outputs": []
  },
  {
   "metadata": {
    "trusted": false,
    "pycharm": {
     "name": "#%%\n"
    }
   },
   "cell_type": "code",
   "source": [
    "params_gradient = {'learning_rate': 0.01, 'max_depth': 3, 'max_features': 0.5, 'n_estimators': 500, 'subsample': 0.5}"
   ],
   "execution_count": null,
   "outputs": []
  },
  {
   "metadata": {
    "pycharm": {
     "name": "#%% md\n"
    }
   },
   "cell_type": "markdown",
   "source": [
    "### XGBClassifier"
   ]
  },
  {
   "metadata": {
    "execution": {
     "iopub.execute_input": "2021-01-27T22:54:30.856041Z",
     "iopub.status.busy": "2021-01-27T22:54:30.855025Z",
     "iopub.status.idle": "2021-01-27T22:58:52.543822Z",
     "shell.execute_reply": "2021-01-27T22:58:52.543247Z"
    },
    "papermill": {
     "duration": 261.825498,
     "end_time": "2021-01-27T22:58:52.543942",
     "exception": false,
     "start_time": "2021-01-27T22:54:30.718444",
     "status": "completed"
    },
    "tags": [],
    "trusted": false,
    "pycharm": {
     "name": "#%%\n"
    }
   },
   "cell_type": "code",
   "source": [
    "parameter_plot(XGBClassifier, X_train_fe, y_train, hyper_param=('max_depth', [3, 4, 5, 6]))"
   ],
   "execution_count": null,
   "outputs": []
  },
  {
   "metadata": {
    "papermill": {
     "duration": 0.124908,
     "end_time": "2021-01-27T22:58:52.794398",
     "exception": false,
     "start_time": "2021-01-27T22:58:52.66949",
     "status": "completed"
    },
    "tags": [],
    "pycharm": {
     "name": "#%% md\n"
    }
   },
   "cell_type": "markdown",
   "source": [
    "From the above plot, max_depth of 3 - 4 looks good!!"
   ]
  },
  {
   "metadata": {
    "execution": {
     "iopub.execute_input": "2021-01-27T22:58:53.05136Z",
     "iopub.status.busy": "2021-01-27T22:58:53.050359Z",
     "iopub.status.idle": "2021-01-27T23:03:58.142251Z",
     "shell.execute_reply": "2021-01-27T23:03:58.141599Z"
    },
    "papermill": {
     "duration": 305.221627,
     "end_time": "2021-01-27T23:03:58.142388",
     "exception": false,
     "start_time": "2021-01-27T22:58:52.920761",
     "status": "completed"
    },
    "tags": [],
    "trusted": false,
    "pycharm": {
     "name": "#%%\n"
    }
   },
   "cell_type": "code",
   "source": [
    "parameter_plot(XGBClassifier, X_train_fe, y_train, \n",
    "               hyper_param=('learning_rate', [0.01, 0.03, 0.05, 0.07, 0.1]), max_depth=4) "
   ],
   "execution_count": null,
   "outputs": []
  },
  {
   "metadata": {
    "papermill": {
     "duration": 0.130057,
     "end_time": "2021-01-27T23:03:58.404181",
     "exception": false,
     "start_time": "2021-01-27T23:03:58.274124",
     "status": "completed"
    },
    "tags": [],
    "pycharm": {
     "name": "#%% md\n"
    }
   },
   "cell_type": "markdown",
   "source": [
    "we passed in the max depth of 4 as we found in the last plot to get a better estimate of learning rate as per max depth 4, from the above plots lower learning rates look good!! you can also see that as number of trees increase the accuracy goes down."
   ]
  },
  {
   "metadata": {
    "execution": {
     "iopub.execute_input": "2021-01-27T23:03:58.674612Z",
     "iopub.status.busy": "2021-01-27T23:03:58.673977Z",
     "iopub.status.idle": "2021-01-27T23:03:58.676639Z",
     "shell.execute_reply": "2021-01-27T23:03:58.677235Z"
    },
    "papermill": {
     "duration": 0.142435,
     "end_time": "2021-01-27T23:03:58.677401",
     "exception": false,
     "start_time": "2021-01-27T23:03:58.534966",
     "status": "completed"
    },
    "tags": [],
    "trusted": false,
    "pycharm": {
     "name": "#%%\n"
    }
   },
   "cell_type": "code",
   "source": [
    "param_grid_xgb = {'n_estimators':[400, 600],\n",
    "                  'learning_rate':[0.01, 0.03, 0.05],\n",
    "                  'max_depth':[3, 4],\n",
    "                  'subsample':[0.5, 0.7],\n",
    "                  'colsample_bylevel':[0.5, 0.7],\n",
    "                  'reg_lambda':[15, None],\n",
    "                 }"
   ],
   "execution_count": null,
   "outputs": []
  },
  {
   "metadata": {
    "_kg_hide-output": true,
    "execution": {
     "iopub.execute_input": "2021-01-27T23:03:58.949533Z",
     "iopub.status.busy": "2021-01-27T23:03:58.948369Z",
     "iopub.status.idle": "2021-01-27T23:03:58.951189Z",
     "shell.execute_reply": "2021-01-27T23:03:58.951664Z"
    },
    "papermill": {
     "duration": 0.144748,
     "end_time": "2021-01-27T23:03:58.951839",
     "exception": false,
     "start_time": "2021-01-27T23:03:58.807091",
     "status": "completed"
    },
    "tags": [],
    "trusted": false,
    "pycharm": {
     "name": "#%%\n"
    }
   },
   "cell_type": "code",
   "source": [
    "grid_xgb = GridSearchCV(XGBClassifier(), param_grid_xgb, \n",
    "                        cv=RepeatedStratifiedKFold(n_splits=10, n_repeats=2, random_state=42),\n",
    "                              scoring='accuracy', verbose=2, n_jobs=-1)"
   ],
   "execution_count": null,
   "outputs": []
  },
  {
   "metadata": {
    "_kg_hide-output": true,
    "execution": {
     "iopub.execute_input": "2021-01-27T23:03:59.220539Z",
     "iopub.status.busy": "2021-01-27T23:03:59.219557Z",
     "iopub.status.idle": "2021-01-27T23:08:07.538085Z",
     "shell.execute_reply": "2021-01-27T23:08:07.537324Z"
    },
    "papermill": {
     "duration": 248.455513,
     "end_time": "2021-01-27T23:08:07.538243",
     "exception": false,
     "start_time": "2021-01-27T23:03:59.08273",
     "status": "completed"
    },
    "tags": [],
    "trusted": false,
    "pycharm": {
     "name": "#%%\n"
    }
   },
   "cell_type": "code",
   "source": [
    "grid_xgb.fit(X_train_fe, y_train)"
   ],
   "execution_count": null,
   "outputs": []
  },
  {
   "metadata": {
    "_kg_hide-output": true,
    "execution": {
     "iopub.execute_input": "2021-01-27T23:08:07.827577Z",
     "iopub.status.busy": "2021-01-27T23:08:07.826499Z",
     "iopub.status.idle": "2021-01-27T23:08:07.846691Z",
     "shell.execute_reply": "2021-01-27T23:08:07.846014Z"
    },
    "papermill": {
     "duration": 0.161612,
     "end_time": "2021-01-27T23:08:07.846825",
     "exception": false,
     "start_time": "2021-01-27T23:08:07.685213",
     "status": "completed"
    },
    "tags": [],
    "trusted": false,
    "pycharm": {
     "name": "#%%\n"
    }
   },
   "cell_type": "code",
   "source": [
    "results(grid_xgb, n=60)"
   ],
   "execution_count": null,
   "outputs": []
  },
  {
   "metadata": {
    "papermill": {
     "duration": 0.135697,
     "end_time": "2021-01-27T23:08:08.118991",
     "exception": false,
     "start_time": "2021-01-27T23:08:07.983294",
     "status": "completed"
    },
    "tags": [],
    "pycharm": {
     "name": "#%% md\n"
    }
   },
   "cell_type": "markdown",
   "source": [
    "From the these set of params lets select the best params and the params we think are less prone to overfitting..\n",
    "\n",
    "In Gradient boosting more learning rate, more number of trees, more subsample and colsample_bylevel or node or tree and no reg_lambda or alpha... causes overfitting."
   ]
  },
  {
   "metadata": {
    "execution": {
     "iopub.execute_input": "2021-01-27T23:08:08.394716Z",
     "iopub.status.busy": "2021-01-27T23:08:08.393055Z",
     "iopub.status.idle": "2021-01-27T23:08:14.456153Z",
     "shell.execute_reply": "2021-01-27T23:08:14.456698Z"
    },
    "papermill": {
     "duration": 6.202699,
     "end_time": "2021-01-27T23:08:14.45687",
     "exception": false,
     "start_time": "2021-01-27T23:08:08.254171",
     "status": "completed"
    },
    "tags": [],
    "trusted": false,
    "pycharm": {
     "name": "#%%\n"
    }
   },
   "cell_type": "code",
   "source": [
    "params_1 = ('Regularized model',{'colsample_bylevel': 0.7, 'learning_rate': 0.03, 'max_depth': 3, 'n_estimators': 400,\n",
    "                                 'reg_lambda': 15, 'subsample': 0.5})\n",
    "params_2 = ('Best model', {'colsample_bylevel': 0.7, 'learning_rate': 0.03, 'max_depth': 4, 'n_estimators': 600, \n",
    "                           'reg_lambda': None, 'subsample': 0.7} )\n",
    "\n",
    "learning_curve_plotter(XGBClassifier, X_train_fe, y_train, params_1, params_2, step=50)"
   ],
   "execution_count": null,
   "outputs": []
  },
  {
   "metadata": {
    "pycharm": {
     "name": "#%% md\n"
    }
   },
   "cell_type": "markdown",
   "source": [
    "The reg_lambda : None, max_depth:4 and n_estimators:600 which are more than the regularized model are the features which are making the best model overfit the data."
   ]
  },
  {
   "metadata": {
    "trusted": false,
    "pycharm": {
     "name": "#%%\n"
    }
   },
   "cell_type": "code",
   "source": [
    "params_xgb = {'colsample_bylevel': 0.7, 'learning_rate': 0.03, 'max_depth': 3, \n",
    "              'n_estimators': 400, 'reg_lambda': 15, 'subsample': 0.5}"
   ],
   "execution_count": null,
   "outputs": []
  },
  {
   "metadata": {
    "pycharm": {
     "name": "#%% md\n"
    }
   },
   "cell_type": "markdown",
   "source": [
    "#### Lets summarize the way we just grid searched good parameters\n",
    "\n",
    "* we first checked out our tree ensemble model's performance on the given dataset and then shortlisted range of max depths and n_estimators which are the mone of the most influential parameters.\n",
    "\n",
    "* then we grid searched the shorlisted parameter values and with some other parameters such as max_samples and max_features, these parameters are must to search as they diversify our trees and make them less similar to each other.\n",
    "\n",
    "* after we get the results, we then start searching the small parameter space near the optimal parameters obtained from gridsearch, we will usually see increase in accuracy for next few small gridsearchs this way.\n",
    "\n",
    "* Check for overfitting and pick that model that has good accuracy with least overfitting..."
   ]
  },
  {
   "metadata": {
    "papermill": {
     "duration": 0.136038,
     "end_time": "2021-01-27T23:08:14.731396",
     "exception": false,
     "start_time": "2021-01-27T23:08:14.595358",
     "status": "completed"
    },
    "tags": [],
    "pycharm": {
     "name": "#%% md\n"
    }
   },
   "cell_type": "markdown",
   "source": [
    "### Predictions"
   ]
  },
  {
   "metadata": {
    "trusted": false,
    "pycharm": {
     "name": "#%%\n"
    }
   },
   "cell_type": "code",
   "source": [
    "logreg = LogisticRegression(**params_logreg)\n",
    "svc = SVC(**params_svc)\n",
    "knn = KNeighborsClassifier(**params_knn)\n",
    "rfc = RandomForestClassifier(**params_random)\n",
    "gradient = GradientBoostingClassifier(**params_gradient)\n",
    "xgb = XGBClassifier(**params_xgb)\n",
    "\n",
    "estimators = [('logreg', logreg), ('knn', knn), ('svc', svc), ('rfc', rfc), ('gradient', gradient), \n",
    "              ('xgb', xgb)]\n",
    "\n",
    "\n",
    "stack = StackingClassifier(estimators=estimators,\n",
    "                           cv=10, n_jobs=-1)"
   ],
   "execution_count": null,
   "outputs": []
  },
  {
   "metadata": {
    "pycharm": {
     "name": "#%% md\n"
    }
   },
   "cell_type": "markdown",
   "source": [
    "Stacking as above yielded 0.799 with survival rate and 0.784 without survival rate, an improvement of 0.145 from without survival rate feature... But i expected more and when i explored the individual model accuracy, i knew why i did not find many notebooks with survival rate feature and stacking...\n",
    "\n",
    "* With survival rate : 0.799\n",
    "* Without survival rate : 0.784"
   ]
  },
  {
   "metadata": {
    "execution": {
     "iopub.execute_input": "2021-01-27T23:08:15.011207Z",
     "iopub.status.busy": "2021-01-27T23:08:15.01048Z",
     "iopub.status.idle": "2021-01-27T23:08:15.182889Z",
     "shell.execute_reply": "2021-01-27T23:08:15.18357Z"
    },
    "papermill": {
     "duration": 0.313448,
     "end_time": "2021-01-27T23:08:15.183755",
     "exception": false,
     "start_time": "2021-01-27T23:08:14.870307",
     "status": "completed"
    },
    "tags": [],
    "trusted": false,
    "pycharm": {
     "name": "#%%\n"
    }
   },
   "cell_type": "code",
   "source": [
    "model = XGBClassifier(**{'colsample_bylevel': 0.7, 'learning_rate': 0.03, 'max_depth': 3, 'n_estimators': 400,\n",
    "                                 'reg_lambda': 15, 'subsample': 0.5}).fit(X_train_fe, y_train)"
   ],
   "execution_count": null,
   "outputs": []
  },
  {
   "metadata": {
    "execution": {
     "iopub.execute_input": "2021-01-27T23:08:15.506547Z",
     "iopub.status.busy": "2021-01-27T23:08:15.505908Z",
     "iopub.status.idle": "2021-01-27T23:08:15.514813Z",
     "shell.execute_reply": "2021-01-27T23:08:15.515396Z"
    },
    "papermill": {
     "duration": 0.154362,
     "end_time": "2021-01-27T23:08:15.515572",
     "exception": false,
     "start_time": "2021-01-27T23:08:15.36121",
     "status": "completed"
    },
    "tags": [],
    "trusted": false,
    "pycharm": {
     "name": "#%%\n"
    }
   },
   "cell_type": "code",
   "source": [
    "y_preds = model.predict(X_test_fe)"
   ],
   "execution_count": null,
   "outputs": []
  },
  {
   "metadata": {
    "execution": {
     "iopub.execute_input": "2021-01-27T23:08:15.850606Z",
     "iopub.status.busy": "2021-01-27T23:08:15.849497Z",
     "iopub.status.idle": "2021-01-27T23:08:15.853231Z",
     "shell.execute_reply": "2021-01-27T23:08:15.854023Z"
    },
    "papermill": {
     "duration": 0.160049,
     "end_time": "2021-01-27T23:08:15.854276",
     "exception": false,
     "start_time": "2021-01-27T23:08:15.694227",
     "status": "completed"
    },
    "tags": [],
    "trusted": false,
    "pycharm": {
     "name": "#%%\n"
    }
   },
   "cell_type": "code",
   "source": [
    "submission = pd.DataFrame({'PassengerId':test.index, \n",
    "              'Survived':y_preds})"
   ],
   "execution_count": null,
   "outputs": []
  },
  {
   "metadata": {
    "execution": {
     "iopub.execute_input": "2021-01-27T23:08:16.150862Z",
     "iopub.status.busy": "2021-01-27T23:08:16.150232Z",
     "iopub.status.idle": "2021-01-27T23:08:16.419233Z",
     "shell.execute_reply": "2021-01-27T23:08:16.41845Z"
    },
    "papermill": {
     "duration": 0.407166,
     "end_time": "2021-01-27T23:08:16.419344",
     "exception": false,
     "start_time": "2021-01-27T23:08:16.012178",
     "status": "completed"
    },
    "tags": [],
    "trusted": false,
    "pycharm": {
     "name": "#%%\n"
    }
   },
   "cell_type": "code",
   "source": [
    "submission.to_csv('submission.csv', index=False)"
   ],
   "execution_count": null,
   "outputs": []
  },
  {
   "metadata": {
    "execution": {
     "iopub.execute_input": "2021-01-27T23:08:16.696067Z",
     "iopub.status.busy": "2021-01-27T23:08:16.695297Z",
     "iopub.status.idle": "2021-01-27T23:08:16.708866Z",
     "shell.execute_reply": "2021-01-27T23:08:16.709351Z"
    },
    "papermill": {
     "duration": 0.155049,
     "end_time": "2021-01-27T23:08:16.709499",
     "exception": false,
     "start_time": "2021-01-27T23:08:16.55445",
     "status": "completed"
    },
    "tags": [],
    "trusted": false,
    "pycharm": {
     "name": "#%%\n"
    }
   },
   "cell_type": "code",
   "source": [
    "pd.read_csv('submission.csv')"
   ],
   "execution_count": null,
   "outputs": []
  },
  {
   "metadata": {
    "papermill": {
     "duration": 0.136028,
     "end_time": "2021-01-27T23:08:16.983318",
     "exception": false,
     "start_time": "2021-01-27T23:08:16.84729",
     "status": "completed"
    },
    "tags": [],
    "pycharm": {
     "name": "#%% md\n"
    }
   },
   "cell_type": "markdown",
   "source": [
    " ***If you found it helpful, upvote!!***\n",
    " \n",
    " ***If you have forked the kernel and not upvoted yet, then show the support by upvoting :)***\n",
    " \n",
    " ***Please leave you constructive criticism and suggestion in comments below!!***"
   ]
  },
  {
   "metadata": {
    "papermill": {
     "duration": 0.136465,
     "end_time": "2021-01-27T23:08:17.256696",
     "exception": false,
     "start_time": "2021-01-27T23:08:17.120231",
     "status": "completed"
    },
    "tags": [],
    "trusted": false,
    "pycharm": {
     "name": "#%%\n"
    }
   },
   "cell_type": "code",
   "source": [],
   "execution_count": null,
   "outputs": []
  }
 ],
 "metadata": {
  "kernelspec": {
   "language": "python",
   "display_name": "Python 3",
   "name": "python3"
  },
  "language_info": {
   "pygments_lexer": "ipython3",
   "nbconvert_exporter": "python",
   "version": "3.6.4",
   "file_extension": ".py",
   "codemirror_mode": {
    "name": "ipython",
    "version": 3
   },
   "name": "python",
   "mimetype": "text/x-python"
  }
 },
 "nbformat": 4,
 "nbformat_minor": 4
}